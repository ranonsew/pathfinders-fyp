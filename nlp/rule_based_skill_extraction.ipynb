{
 "cells": [
  {
   "cell_type": "code",
   "execution_count": 1,
   "id": "0a721886",
   "metadata": {},
   "outputs": [],
   "source": [
    "#Credit to Edward Ross - https://skeptric.com/notebooks/Parsing%20Experience%20from%20Adzuna%20Job%20Ads.html\n",
    "import re\n",
    "import pandas as pd\n",
    "import spacy\n",
    "from spacy.util import filter_spans\n",
    "from spacy.tokens import Span\n",
    "from spacy.matcher import Matcher"
   ]
  },
  {
   "cell_type": "code",
   "execution_count": 2,
   "id": "b997bfd3",
   "metadata": {},
   "outputs": [],
   "source": [
    "from spacy import displacy\n",
    "from IPython.display import HTML, display\n"
   ]
  },
  {
   "cell_type": "code",
   "execution_count": 11,
   "id": "18e2e3d4",
   "metadata": {},
   "outputs": [],
   "source": [
    "import en_core_web_sm\n",
    "nlp = en_core_web_sm.load()"
   ]
  },
  {
   "cell_type": "code",
   "execution_count": 12,
   "id": "22401b3d",
   "metadata": {},
   "outputs": [],
   "source": [
    "df = pd.read_csv('data_science_jobs.csv')"
   ]
  },
  {
   "cell_type": "code",
   "execution_count": 13,
   "id": "0e0bf3ba",
   "metadata": {},
   "outputs": [],
   "source": [
    "df = df.drop(df.columns[0], axis = 1) "
   ]
  },
  {
   "cell_type": "code",
   "execution_count": 14,
   "id": "371e18da",
   "metadata": {
    "scrolled": true
   },
   "outputs": [
    {
     "data": {
      "text/html": [
       "<div>\n",
       "<style scoped>\n",
       "    .dataframe tbody tr th:only-of-type {\n",
       "        vertical-align: middle;\n",
       "    }\n",
       "\n",
       "    .dataframe tbody tr th {\n",
       "        vertical-align: top;\n",
       "    }\n",
       "\n",
       "    .dataframe thead th {\n",
       "        text-align: right;\n",
       "    }\n",
       "</style>\n",
       "<table border=\"1\" class=\"dataframe\">\n",
       "  <thead>\n",
       "    <tr style=\"text-align: right;\">\n",
       "      <th></th>\n",
       "      <th>Job Title</th>\n",
       "      <th>Company Name</th>\n",
       "      <th>Job Description</th>\n",
       "      <th>Location</th>\n",
       "      <th>Job Board</th>\n",
       "    </tr>\n",
       "  </thead>\n",
       "  <tbody>\n",
       "    <tr>\n",
       "      <th>852</th>\n",
       "      <td>HEAD OF ANALYTICS &amp; INSIGHTS/DATA SCIENTIST</td>\n",
       "      <td>Saje Natural Wellness</td>\n",
       "      <td>For over 25 years we’ve been helping our commu...</td>\n",
       "      <td>Vancouver</td>\n",
       "      <td>Indeed</td>\n",
       "    </tr>\n",
       "    <tr>\n",
       "      <th>207</th>\n",
       "      <td>Machine Learning Engineer</td>\n",
       "      <td>Aviva</td>\n",
       "      <td>About the job Individually we are people  but ...</td>\n",
       "      <td>Markham</td>\n",
       "      <td>Indeed</td>\n",
       "    </tr>\n",
       "    <tr>\n",
       "      <th>627</th>\n",
       "      <td>Data Engineer / Power BI Developer, Omnia AI</td>\n",
       "      <td>Deloitte\\n</td>\n",
       "      <td>Job Type: Permanent Primary Location: Vancouve...</td>\n",
       "      <td>Vancouver</td>\n",
       "      <td>Glassdoor</td>\n",
       "    </tr>\n",
       "    <tr>\n",
       "      <th>671</th>\n",
       "      <td>Junior Business Intelligence Developer - Data ...</td>\n",
       "      <td>CAPRiser Group</td>\n",
       "      <td>Our subsidiary is in PropTech and real estate ...</td>\n",
       "      <td>Toronto</td>\n",
       "      <td>Indeed</td>\n",
       "    </tr>\n",
       "    <tr>\n",
       "      <th>661</th>\n",
       "      <td>Data Scientist Technical Lead (Montreal), Inta...</td>\n",
       "      <td>Intact\\n</td>\n",
       "      <td>Who needs insurance? Everybody. That keeps us ...</td>\n",
       "      <td>Montreal</td>\n",
       "      <td>Glassdoor</td>\n",
       "    </tr>\n",
       "    <tr>\n",
       "      <th>489</th>\n",
       "      <td>Bio informaticien/Bioinformatics scientist</td>\n",
       "      <td>GenAIz\\n</td>\n",
       "      <td>Avant le SRAS-CoV-2  un vaccin qui était dével...</td>\n",
       "      <td>Montreal</td>\n",
       "      <td>Glassdoor</td>\n",
       "    </tr>\n",
       "    <tr>\n",
       "      <th>434</th>\n",
       "      <td>Data Scientist</td>\n",
       "      <td>Awakedata</td>\n",
       "      <td>RESPONSIBILITIES: Develop state-of-the-art com...</td>\n",
       "      <td>Burnaby</td>\n",
       "      <td>Glassdoor</td>\n",
       "    </tr>\n",
       "    <tr>\n",
       "      <th>448</th>\n",
       "      <td>Scientifique de données / Data Scientist</td>\n",
       "      <td>BusPatrol\\n</td>\n",
       "      <td>Qui sommes-nous : BusPatrouille est une entrep...</td>\n",
       "      <td>Montreal</td>\n",
       "      <td>Glassdoor</td>\n",
       "    </tr>\n",
       "    <tr>\n",
       "      <th>634</th>\n",
       "      <td>Data Management Specialist - Immunotoxicology</td>\n",
       "      <td>Charles River Laboratories\\n</td>\n",
       "      <td>For 70 years  Charles River employees have wor...</td>\n",
       "      <td>Senneville</td>\n",
       "      <td>Glassdoor</td>\n",
       "    </tr>\n",
       "    <tr>\n",
       "      <th>748</th>\n",
       "      <td>Data Scientist</td>\n",
       "      <td>F8th</td>\n",
       "      <td>We're transforming the Cyber Security industry...</td>\n",
       "      <td>Midtown Toronto</td>\n",
       "      <td>Glassdoor</td>\n",
       "    </tr>\n",
       "    <tr>\n",
       "      <th>831</th>\n",
       "      <td>Senior Professional Environmental Scientist (G...</td>\n",
       "      <td>Madrone Environmental Services Ltd</td>\n",
       "      <td>Senior Professional Environmental Scientist an...</td>\n",
       "      <td>Abbotsford</td>\n",
       "      <td>Glassdoor</td>\n",
       "    </tr>\n",
       "    <tr>\n",
       "      <th>396</th>\n",
       "      <td>Data Scientist</td>\n",
       "      <td>Novisto</td>\n",
       "      <td>At Novisto  our vision is to be the world's le...</td>\n",
       "      <td>Montreal</td>\n",
       "      <td>Glassdoor</td>\n",
       "    </tr>\n",
       "    <tr>\n",
       "      <th>438</th>\n",
       "      <td>Data Scientist</td>\n",
       "      <td>Peritus.ai</td>\n",
       "      <td>About Peritus.ai   Peritus is dedicated to bui...</td>\n",
       "      <td>Montreal</td>\n",
       "      <td>Glassdoor</td>\n",
       "    </tr>\n",
       "    <tr>\n",
       "      <th>11</th>\n",
       "      <td>Junior Project Scientist / Junior Project Tech...</td>\n",
       "      <td>SNC-Lavalin\\n</td>\n",
       "      <td>Junior Project Scientist / Junior Project Tech...</td>\n",
       "      <td>Fort St. John</td>\n",
       "      <td>Glassdoor</td>\n",
       "    </tr>\n",
       "    <tr>\n",
       "      <th>59</th>\n",
       "      <td>Data Engineer - 313378</td>\n",
       "      <td>Procom\\n</td>\n",
       "      <td>Ingénieur de données  Dans le cadre de ses ent...</td>\n",
       "      <td>Montreal</td>\n",
       "      <td>Glassdoor</td>\n",
       "    </tr>\n",
       "    <tr>\n",
       "      <th>383</th>\n",
       "      <td>Senior Data Analyst</td>\n",
       "      <td>ZTR</td>\n",
       "      <td>Are you passionate about implementing and main...</td>\n",
       "      <td>London</td>\n",
       "      <td>Indeed</td>\n",
       "    </tr>\n",
       "    <tr>\n",
       "      <th>591</th>\n",
       "      <td>Data Scientist - 05/12/21</td>\n",
       "      <td>Acerta Analytics Solutions Inc\\n</td>\n",
       "      <td>Acerta’s machine learning platforms leverage a...</td>\n",
       "      <td>Kitchener</td>\n",
       "      <td>Glassdoor</td>\n",
       "    </tr>\n",
       "    <tr>\n",
       "      <th>577</th>\n",
       "      <td>Senior Data Engineer - Remote</td>\n",
       "      <td>Koho\\n</td>\n",
       "      <td>About KOHO KOHO is a quickly scaling FinTech c...</td>\n",
       "      <td>Canada</td>\n",
       "      <td>Glassdoor</td>\n",
       "    </tr>\n",
       "    <tr>\n",
       "      <th>341</th>\n",
       "      <td>DATA SCIENTIST</td>\n",
       "      <td>Leger\\n</td>\n",
       "      <td>WHO WE ARE  At Leger  we know Canadians. With ...</td>\n",
       "      <td>Midtown Toronto</td>\n",
       "      <td>Glassdoor</td>\n",
       "    </tr>\n",
       "    <tr>\n",
       "      <th>355</th>\n",
       "      <td>Data Science Manager, Omnia AI</td>\n",
       "      <td>Deloitte\\n</td>\n",
       "      <td>Job Type: Permanent Primary Location: Toronto ...</td>\n",
       "      <td>Midtown Toronto</td>\n",
       "      <td>Glassdoor</td>\n",
       "    </tr>\n",
       "    <tr>\n",
       "      <th>416</th>\n",
       "      <td>DATA ENGINEER</td>\n",
       "      <td>The Globe and Mail\\n</td>\n",
       "      <td>DATA ENGINEER POSITION CODE: 2021-063 LOCATION...</td>\n",
       "      <td>Midtown Toronto</td>\n",
       "      <td>Glassdoor</td>\n",
       "    </tr>\n",
       "    <tr>\n",
       "      <th>352</th>\n",
       "      <td>Data Engineer</td>\n",
       "      <td>Mariner Partners\\n</td>\n",
       "      <td>Company Description As one of the largest prof...</td>\n",
       "      <td>Halifax</td>\n",
       "      <td>Glassdoor</td>\n",
       "    </tr>\n",
       "    <tr>\n",
       "      <th>733</th>\n",
       "      <td>Principal Data Scientist</td>\n",
       "      <td>Veeva Systems</td>\n",
       "      <td>Veeva [NYSE: VEEV] is the leader in cloud-base...</td>\n",
       "      <td>Toronto</td>\n",
       "      <td>Indeed</td>\n",
       "    </tr>\n",
       "    <tr>\n",
       "      <th>456</th>\n",
       "      <td>Data Engineer - Mississauga</td>\n",
       "      <td>Randstad\\n</td>\n",
       "      <td>Our client  located in Mississauga Ontario is ...</td>\n",
       "      <td>Mississauga</td>\n",
       "      <td>Glassdoor</td>\n",
       "    </tr>\n",
       "    <tr>\n",
       "      <th>708</th>\n",
       "      <td>Product Development Confectionary Scientist</td>\n",
       "      <td>Cronos Group Inc.\\n</td>\n",
       "      <td>At Cronos Group  we hire talented people who t...</td>\n",
       "      <td>Stayner</td>\n",
       "      <td>Glassdoor</td>\n",
       "    </tr>\n",
       "    <tr>\n",
       "      <th>12</th>\n",
       "      <td>Machine Learning Scientist</td>\n",
       "      <td>Amazon Dev Centre Canada ULC\\n</td>\n",
       "      <td>Bachelor’s degree in Computer Science  Statist...</td>\n",
       "      <td>Vancouver</td>\n",
       "      <td>Glassdoor</td>\n",
       "    </tr>\n",
       "    <tr>\n",
       "      <th>208</th>\n",
       "      <td>Data Engineering Intern (Fall 2021) - Toronto</td>\n",
       "      <td>Coursera\\n</td>\n",
       "      <td>Are you ready to join a team of tech-savvy mus...</td>\n",
       "      <td>Remote</td>\n",
       "      <td>Glassdoor</td>\n",
       "    </tr>\n",
       "    <tr>\n",
       "      <th>537</th>\n",
       "      <td>Manager, Data Science - Research &amp; Analytics T...</td>\n",
       "      <td>Tonal\\n</td>\n",
       "      <td>Who We Are  Tonal is the smartest home gym and...</td>\n",
       "      <td>Midtown Toronto</td>\n",
       "      <td>Glassdoor</td>\n",
       "    </tr>\n",
       "    <tr>\n",
       "      <th>639</th>\n",
       "      <td>Ingénieur de données senior / Sr. Data Engineer</td>\n",
       "      <td>McKesson Canada Corporation / La Corporation M...</td>\n",
       "      <td>English version to follow  McKesson touche la ...</td>\n",
       "      <td>Saint-Laurent</td>\n",
       "      <td>Glassdoor</td>\n",
       "    </tr>\n",
       "    <tr>\n",
       "      <th>669</th>\n",
       "      <td>Solution Architect (Big Data) - Canada</td>\n",
       "      <td>Wavicle Data Solutions\\n</td>\n",
       "      <td>Wavicle Data Solutions designs and delivers da...</td>\n",
       "      <td>Remote</td>\n",
       "      <td>Glassdoor</td>\n",
       "    </tr>\n",
       "    <tr>\n",
       "      <th>698</th>\n",
       "      <td>Data Analyst Health Surveillance - BC Centre f...</td>\n",
       "      <td>PHSA\\n</td>\n",
       "      <td>Data Analyst Health Surveillance Epidemiology ...</td>\n",
       "      <td>Vancouver</td>\n",
       "      <td>Glassdoor</td>\n",
       "    </tr>\n",
       "    <tr>\n",
       "      <th>266</th>\n",
       "      <td>Optimization Specialist, Analytics</td>\n",
       "      <td>Torstar</td>\n",
       "      <td>Company Description  Torstar Corporation is a ...</td>\n",
       "      <td>Toronto</td>\n",
       "      <td>Indeed</td>\n",
       "    </tr>\n",
       "    <tr>\n",
       "      <th>761</th>\n",
       "      <td>Machine Learning Engineer / Data Scientist</td>\n",
       "      <td>TerraSense Analytics Ltd</td>\n",
       "      <td>CATCHY INTRO  Honestly  we’ve been brainstormi...</td>\n",
       "      <td>Kelowna</td>\n",
       "      <td>Glassdoor</td>\n",
       "    </tr>\n",
       "    <tr>\n",
       "      <th>399</th>\n",
       "      <td>Data Engineer, Data Lake</td>\n",
       "      <td>Altus Group\\n</td>\n",
       "      <td>Job Category:  Software  Opportunity Awaits at...</td>\n",
       "      <td>Midtown Toronto</td>\n",
       "      <td>Glassdoor</td>\n",
       "    </tr>\n",
       "    <tr>\n",
       "      <th>686</th>\n",
       "      <td>Product Manager - Data Science - Toronto Hub</td>\n",
       "      <td>Veeva Systems</td>\n",
       "      <td>Veeva [NYSE: VEEV] is the leader in cloud-base...</td>\n",
       "      <td>Toronto</td>\n",
       "      <td>Indeed</td>\n",
       "    </tr>\n",
       "    <tr>\n",
       "      <th>267</th>\n",
       "      <td>Data Scientist</td>\n",
       "      <td>Oxford Properties</td>\n",
       "      <td>Why join us?  Are you looking to join an innov...</td>\n",
       "      <td>Toronto</td>\n",
       "      <td>Indeed</td>\n",
       "    </tr>\n",
       "    <tr>\n",
       "      <th>726</th>\n",
       "      <td>Data Engineer</td>\n",
       "      <td>Pinterest\\n</td>\n",
       "      <td>About Pinterest:  Millions of people across th...</td>\n",
       "      <td>Midtown Toronto</td>\n",
       "      <td>Glassdoor</td>\n",
       "    </tr>\n",
       "    <tr>\n",
       "      <th>193</th>\n",
       "      <td>Cloud Data Engineer</td>\n",
       "      <td>Digital On Us\\n</td>\n",
       "      <td>Who is DigitalOnUs?  At DigitalOnUs  we not on...</td>\n",
       "      <td>Midtown Toronto</td>\n",
       "      <td>Glassdoor</td>\n",
       "    </tr>\n",
       "    <tr>\n",
       "      <th>60</th>\n",
       "      <td>Data Engineer</td>\n",
       "      <td>The Green Organic Dutchman Holdings Ltd</td>\n",
       "      <td>The Green Organic Dutchman is a global leader ...</td>\n",
       "      <td>Mississauga</td>\n",
       "      <td>Glassdoor</td>\n",
       "    </tr>\n",
       "    <tr>\n",
       "      <th>750</th>\n",
       "      <td>Principal Clinical Data Scientist Lead</td>\n",
       "      <td>PRA Health Sciences\\n</td>\n",
       "      <td>Do you want to watch clinical development chan...</td>\n",
       "      <td>Remote</td>\n",
       "      <td>Glassdoor</td>\n",
       "    </tr>\n",
       "    <tr>\n",
       "      <th>179</th>\n",
       "      <td>Data Solution Architect</td>\n",
       "      <td>Onix Networking Corp\\n</td>\n",
       "      <td>Summary: Onix Solution Architect helps custome...</td>\n",
       "      <td>Quebec</td>\n",
       "      <td>Glassdoor</td>\n",
       "    </tr>\n",
       "    <tr>\n",
       "      <th>370</th>\n",
       "      <td>Data Scientist</td>\n",
       "      <td>Canadian Tire\\n</td>\n",
       "      <td>The CTC Personalization &amp; Customer Analytics t...</td>\n",
       "      <td>Midtown Toronto</td>\n",
       "      <td>Glassdoor</td>\n",
       "    </tr>\n",
       "    <tr>\n",
       "      <th>582</th>\n",
       "      <td>Data Engineer/Analyst - Active Safety &amp; Autono...</td>\n",
       "      <td>General Motors\\n</td>\n",
       "      <td>About GM  There’s never been a more exciting t...</td>\n",
       "      <td>Ontario</td>\n",
       "      <td>Glassdoor</td>\n",
       "    </tr>\n",
       "    <tr>\n",
       "      <th>512</th>\n",
       "      <td>Senior Data Scientist</td>\n",
       "      <td>Interac\\n</td>\n",
       "      <td>At Interac  we design products and solutions t...</td>\n",
       "      <td>Midtown Toronto</td>\n",
       "      <td>Glassdoor</td>\n",
       "    </tr>\n",
       "    <tr>\n",
       "      <th>728</th>\n",
       "      <td>Applied Scientist - Machine Learning</td>\n",
       "      <td>Microsoft\\n</td>\n",
       "      <td>Applied Scientist - Machine Learning  The Inte...</td>\n",
       "      <td>Vancouver</td>\n",
       "      <td>Glassdoor</td>\n",
       "    </tr>\n",
       "    <tr>\n",
       "      <th>673</th>\n",
       "      <td>Senior Machine Learning Engineer</td>\n",
       "      <td>Clearco</td>\n",
       "      <td>Clearco is a company built by founders for fou...</td>\n",
       "      <td>Ontario</td>\n",
       "      <td>Indeed</td>\n",
       "    </tr>\n",
       "    <tr>\n",
       "      <th>664</th>\n",
       "      <td>Specialist, Loyalty Analytics</td>\n",
       "      <td>Cineplex</td>\n",
       "      <td>Company Description  Life at Cineplex: Cineple...</td>\n",
       "      <td>Toronto</td>\n",
       "      <td>Indeed</td>\n",
       "    </tr>\n",
       "    <tr>\n",
       "      <th>176</th>\n",
       "      <td>Data Engineer</td>\n",
       "      <td>ScanSource Canada Inc.\\n</td>\n",
       "      <td>Summary:  The Data Engineer will be responsibl...</td>\n",
       "      <td>Mississauga</td>\n",
       "      <td>Glassdoor</td>\n",
       "    </tr>\n",
       "    <tr>\n",
       "      <th>283</th>\n",
       "      <td>Cloud Data Engineer</td>\n",
       "      <td>apptoza inc</td>\n",
       "      <td>Role: Cloud Data Engineer  Location: Toronto  ...</td>\n",
       "      <td>Midtown Toronto</td>\n",
       "      <td>Glassdoor</td>\n",
       "    </tr>\n",
       "    <tr>\n",
       "      <th>753</th>\n",
       "      <td>Senior Data Analyst, Growth</td>\n",
       "      <td>NorthOne</td>\n",
       "      <td>We make small businesses more successful throu...</td>\n",
       "      <td>Toronto</td>\n",
       "      <td>Indeed</td>\n",
       "    </tr>\n",
       "  </tbody>\n",
       "</table>\n",
       "</div>"
      ],
      "text/plain": [
       "                                             Job Title  \\\n",
       "852        HEAD OF ANALYTICS & INSIGHTS/DATA SCIENTIST   \n",
       "207                          Machine Learning Engineer   \n",
       "627       Data Engineer / Power BI Developer, Omnia AI   \n",
       "671  Junior Business Intelligence Developer - Data ...   \n",
       "661  Data Scientist Technical Lead (Montreal), Inta...   \n",
       "489         Bio informaticien/Bioinformatics scientist   \n",
       "434                                     Data Scientist   \n",
       "448           Scientifique de données / Data Scientist   \n",
       "634      Data Management Specialist - Immunotoxicology   \n",
       "748                                     Data Scientist   \n",
       "831  Senior Professional Environmental Scientist (G...   \n",
       "396                                     Data Scientist   \n",
       "438                                     Data Scientist   \n",
       "11   Junior Project Scientist / Junior Project Tech...   \n",
       "59                              Data Engineer - 313378   \n",
       "383                                Senior Data Analyst   \n",
       "591                          Data Scientist - 05/12/21   \n",
       "577                      Senior Data Engineer - Remote   \n",
       "341                                     DATA SCIENTIST   \n",
       "355                     Data Science Manager, Omnia AI   \n",
       "416                                      DATA ENGINEER   \n",
       "352                                      Data Engineer   \n",
       "733                           Principal Data Scientist   \n",
       "456                        Data Engineer - Mississauga   \n",
       "708        Product Development Confectionary Scientist   \n",
       "12                          Machine Learning Scientist   \n",
       "208      Data Engineering Intern (Fall 2021) - Toronto   \n",
       "537  Manager, Data Science - Research & Analytics T...   \n",
       "639    Ingénieur de données senior / Sr. Data Engineer   \n",
       "669             Solution Architect (Big Data) - Canada   \n",
       "698  Data Analyst Health Surveillance - BC Centre f...   \n",
       "266                 Optimization Specialist, Analytics   \n",
       "761         Machine Learning Engineer / Data Scientist   \n",
       "399                           Data Engineer, Data Lake   \n",
       "686       Product Manager - Data Science - Toronto Hub   \n",
       "267                                     Data Scientist   \n",
       "726                                      Data Engineer   \n",
       "193                                Cloud Data Engineer   \n",
       "60                                       Data Engineer   \n",
       "750             Principal Clinical Data Scientist Lead   \n",
       "179                            Data Solution Architect   \n",
       "370                                     Data Scientist   \n",
       "582  Data Engineer/Analyst - Active Safety & Autono...   \n",
       "512                              Senior Data Scientist   \n",
       "728               Applied Scientist - Machine Learning   \n",
       "673                   Senior Machine Learning Engineer   \n",
       "664                      Specialist, Loyalty Analytics   \n",
       "176                                      Data Engineer   \n",
       "283                                Cloud Data Engineer   \n",
       "753                        Senior Data Analyst, Growth   \n",
       "\n",
       "                                          Company Name  \\\n",
       "852                              Saje Natural Wellness   \n",
       "207                                              Aviva   \n",
       "627                                         Deloitte\\n   \n",
       "671                                     CAPRiser Group   \n",
       "661                                           Intact\\n   \n",
       "489                                           GenAIz\\n   \n",
       "434                                          Awakedata   \n",
       "448                                        BusPatrol\\n   \n",
       "634                       Charles River Laboratories\\n   \n",
       "748                                               F8th   \n",
       "831                 Madrone Environmental Services Ltd   \n",
       "396                                            Novisto   \n",
       "438                                         Peritus.ai   \n",
       "11                                       SNC-Lavalin\\n   \n",
       "59                                            Procom\\n   \n",
       "383                                                ZTR   \n",
       "591                   Acerta Analytics Solutions Inc\\n   \n",
       "577                                             Koho\\n   \n",
       "341                                            Leger\\n   \n",
       "355                                         Deloitte\\n   \n",
       "416                               The Globe and Mail\\n   \n",
       "352                                 Mariner Partners\\n   \n",
       "733                                      Veeva Systems   \n",
       "456                                         Randstad\\n   \n",
       "708                                Cronos Group Inc.\\n   \n",
       "12                      Amazon Dev Centre Canada ULC\\n   \n",
       "208                                         Coursera\\n   \n",
       "537                                            Tonal\\n   \n",
       "639  McKesson Canada Corporation / La Corporation M...   \n",
       "669                           Wavicle Data Solutions\\n   \n",
       "698                                             PHSA\\n   \n",
       "266                                            Torstar   \n",
       "761                           TerraSense Analytics Ltd   \n",
       "399                                      Altus Group\\n   \n",
       "686                                      Veeva Systems   \n",
       "267                                  Oxford Properties   \n",
       "726                                        Pinterest\\n   \n",
       "193                                    Digital On Us\\n   \n",
       "60             The Green Organic Dutchman Holdings Ltd   \n",
       "750                              PRA Health Sciences\\n   \n",
       "179                             Onix Networking Corp\\n   \n",
       "370                                    Canadian Tire\\n   \n",
       "582                                   General Motors\\n   \n",
       "512                                          Interac\\n   \n",
       "728                                        Microsoft\\n   \n",
       "673                                            Clearco   \n",
       "664                                           Cineplex   \n",
       "176                           ScanSource Canada Inc.\\n   \n",
       "283                                        apptoza inc   \n",
       "753                                           NorthOne   \n",
       "\n",
       "                                       Job Description         Location  \\\n",
       "852  For over 25 years we’ve been helping our commu...        Vancouver   \n",
       "207  About the job Individually we are people  but ...          Markham   \n",
       "627  Job Type: Permanent Primary Location: Vancouve...        Vancouver   \n",
       "671  Our subsidiary is in PropTech and real estate ...          Toronto   \n",
       "661  Who needs insurance? Everybody. That keeps us ...         Montreal   \n",
       "489  Avant le SRAS-CoV-2  un vaccin qui était dével...         Montreal   \n",
       "434  RESPONSIBILITIES: Develop state-of-the-art com...          Burnaby   \n",
       "448  Qui sommes-nous : BusPatrouille est une entrep...         Montreal   \n",
       "634  For 70 years  Charles River employees have wor...       Senneville   \n",
       "748  We're transforming the Cyber Security industry...  Midtown Toronto   \n",
       "831  Senior Professional Environmental Scientist an...       Abbotsford   \n",
       "396  At Novisto  our vision is to be the world's le...         Montreal   \n",
       "438  About Peritus.ai   Peritus is dedicated to bui...         Montreal   \n",
       "11   Junior Project Scientist / Junior Project Tech...    Fort St. John   \n",
       "59   Ingénieur de données  Dans le cadre de ses ent...         Montreal   \n",
       "383  Are you passionate about implementing and main...           London   \n",
       "591  Acerta’s machine learning platforms leverage a...        Kitchener   \n",
       "577  About KOHO KOHO is a quickly scaling FinTech c...           Canada   \n",
       "341  WHO WE ARE  At Leger  we know Canadians. With ...  Midtown Toronto   \n",
       "355  Job Type: Permanent Primary Location: Toronto ...  Midtown Toronto   \n",
       "416  DATA ENGINEER POSITION CODE: 2021-063 LOCATION...  Midtown Toronto   \n",
       "352  Company Description As one of the largest prof...          Halifax   \n",
       "733  Veeva [NYSE: VEEV] is the leader in cloud-base...          Toronto   \n",
       "456  Our client  located in Mississauga Ontario is ...      Mississauga   \n",
       "708  At Cronos Group  we hire talented people who t...          Stayner   \n",
       "12   Bachelor’s degree in Computer Science  Statist...        Vancouver   \n",
       "208  Are you ready to join a team of tech-savvy mus...           Remote   \n",
       "537  Who We Are  Tonal is the smartest home gym and...  Midtown Toronto   \n",
       "639  English version to follow  McKesson touche la ...    Saint-Laurent   \n",
       "669  Wavicle Data Solutions designs and delivers da...           Remote   \n",
       "698  Data Analyst Health Surveillance Epidemiology ...        Vancouver   \n",
       "266  Company Description  Torstar Corporation is a ...          Toronto   \n",
       "761  CATCHY INTRO  Honestly  we’ve been brainstormi...          Kelowna   \n",
       "399  Job Category:  Software  Opportunity Awaits at...  Midtown Toronto   \n",
       "686  Veeva [NYSE: VEEV] is the leader in cloud-base...          Toronto   \n",
       "267  Why join us?  Are you looking to join an innov...          Toronto   \n",
       "726  About Pinterest:  Millions of people across th...  Midtown Toronto   \n",
       "193  Who is DigitalOnUs?  At DigitalOnUs  we not on...  Midtown Toronto   \n",
       "60   The Green Organic Dutchman is a global leader ...      Mississauga   \n",
       "750  Do you want to watch clinical development chan...           Remote   \n",
       "179  Summary: Onix Solution Architect helps custome...           Quebec   \n",
       "370  The CTC Personalization & Customer Analytics t...  Midtown Toronto   \n",
       "582  About GM  There’s never been a more exciting t...          Ontario   \n",
       "512  At Interac  we design products and solutions t...  Midtown Toronto   \n",
       "728  Applied Scientist - Machine Learning  The Inte...        Vancouver   \n",
       "673  Clearco is a company built by founders for fou...          Ontario   \n",
       "664  Company Description  Life at Cineplex: Cineple...          Toronto   \n",
       "176  Summary:  The Data Engineer will be responsibl...      Mississauga   \n",
       "283  Role: Cloud Data Engineer  Location: Toronto  ...  Midtown Toronto   \n",
       "753  We make small businesses more successful throu...          Toronto   \n",
       "\n",
       "     Job Board  \n",
       "852     Indeed  \n",
       "207     Indeed  \n",
       "627  Glassdoor  \n",
       "671     Indeed  \n",
       "661  Glassdoor  \n",
       "489  Glassdoor  \n",
       "434  Glassdoor  \n",
       "448  Glassdoor  \n",
       "634  Glassdoor  \n",
       "748  Glassdoor  \n",
       "831  Glassdoor  \n",
       "396  Glassdoor  \n",
       "438  Glassdoor  \n",
       "11   Glassdoor  \n",
       "59   Glassdoor  \n",
       "383     Indeed  \n",
       "591  Glassdoor  \n",
       "577  Glassdoor  \n",
       "341  Glassdoor  \n",
       "355  Glassdoor  \n",
       "416  Glassdoor  \n",
       "352  Glassdoor  \n",
       "733     Indeed  \n",
       "456  Glassdoor  \n",
       "708  Glassdoor  \n",
       "12   Glassdoor  \n",
       "208  Glassdoor  \n",
       "537  Glassdoor  \n",
       "639  Glassdoor  \n",
       "669  Glassdoor  \n",
       "698  Glassdoor  \n",
       "266     Indeed  \n",
       "761  Glassdoor  \n",
       "399  Glassdoor  \n",
       "686     Indeed  \n",
       "267     Indeed  \n",
       "726  Glassdoor  \n",
       "193  Glassdoor  \n",
       "60   Glassdoor  \n",
       "750  Glassdoor  \n",
       "179  Glassdoor  \n",
       "370  Glassdoor  \n",
       "582  Glassdoor  \n",
       "512  Glassdoor  \n",
       "728  Glassdoor  \n",
       "673     Indeed  \n",
       "664     Indeed  \n",
       "176  Glassdoor  \n",
       "283  Glassdoor  \n",
       "753     Indeed  "
      ]
     },
     "execution_count": 14,
     "metadata": {},
     "output_type": "execute_result"
    }
   ],
   "source": [
    "import regex as re\n",
    "df['Job Description'] = df['Job Description'].apply(lambda x: re.sub(r'[!;,\\s]', ' ', x))\n",
    "df.sample(50, random_state = 5)"
   ]
  },
  {
   "cell_type": "code",
   "execution_count": 15,
   "id": "43a999af",
   "metadata": {},
   "outputs": [],
   "source": [
    "ads = list(df['Job Description'])"
   ]
  },
  {
   "cell_type": "code",
   "execution_count": 16,
   "id": "621fd9cb",
   "metadata": {},
   "outputs": [
    {
     "data": {
      "text/plain": [
       "881"
      ]
     },
     "execution_count": 16,
     "metadata": {},
     "output_type": "execute_result"
    }
   ],
   "source": [
    "len(ads)"
   ]
  },
  {
   "cell_type": "code",
   "execution_count": 17,
   "id": "d6110482",
   "metadata": {},
   "outputs": [],
   "source": [
    "def highlight_terms(terms, texts):\n",
    "    for doc in nlp.pipe(texts):\n",
    "        for sentence in set([tok.sent for tok in doc if tok.lower_ in terms]):\n",
    "            text = sentence.text.strip()\n",
    "            markup = re.sub(fr'(?i)\\b({\"|\".join(terms)})\\b', r'<strong>\\1</strong>', text)\n",
    "            display(HTML(markup))\n",
    "            print('-----')"
   ]
  },
  {
   "cell_type": "code",
   "execution_count": 19,
   "id": "cc9052d4",
   "metadata": {},
   "outputs": [],
   "source": [
    "matcher = Matcher(nlp.vocab)\n",
    "pattern = [{'POS': 'NOUN', 'OP': '+'}, {'LOWER': 'experience'}]\n",
    "matcher.add('experience_noun', [pattern])\n",
    "\n",
    "pattern = [{'LOWER': 'experience'}, {'POS': 'ADP'}, {'POS': {'IN': ('DET', 'NOUN', 'PROPN')}, 'OP': '+'}]\n",
    "matcher.add('experience_adp', [pattern])"
   ]
  },
  {
   "cell_type": "code",
   "execution_count": 20,
   "id": "d3daa69e",
   "metadata": {},
   "outputs": [
    {
     "data": {
      "text/plain": [
       "[(12285600890577657150, 117, 119),\n",
       " (1417798585642285709, 239, 242),\n",
       " (1417798585642285709, 239, 243),\n",
       " (12285600890577657150, 265, 267)]"
      ]
     },
     "execution_count": 20,
     "metadata": {},
     "output_type": "execute_result"
    }
   ],
   "source": [
    "doc = nlp(ads[0])\n",
    "matcher(doc)"
   ]
  },
  {
   "cell_type": "code",
   "execution_count": 21,
   "id": "112ca49c",
   "metadata": {},
   "outputs": [],
   "source": [
    "def show_extraction(examples, *extractors):\n",
    "    seen = set()\n",
    "    for doc in nlp.pipe(examples):\n",
    "        doc.ents = filter_spans([Span(doc, start, end, label) for extractor in extractors for label, start, end in extractor(doc)])\n",
    "        for tok in doc:\n",
    "            if tok.lower_ == 'experience':\n",
    "                sentence = tok.sent\n",
    "                if sentence.text in seen:\n",
    "                    continue\n",
    "                seen.update([sentence.text])\n",
    "                if not sentence.ents:\n",
    "                    doc.ents = list(doc.ents) + [Span(doc, tok.i, tok.i+1, 'MISSING')]\n",
    "                displacy.render(sentence, style='ent', options = {'colors': {'MISSING': 'pink',\n",
    "                                                                            'EXPERIENCE': 'lightgreen'}})\n",
    "                "
   ]
  },
  {
   "cell_type": "code",
   "execution_count": 22,
   "id": "fd43fd0b",
   "metadata": {
    "scrolled": true
   },
   "outputs": [
    {
     "data": {
      "text/html": [
       "<span class=\"tex2jax_ignore\"><div class=\"entities\" style=\"line-height: 2.5; direction: ltr\">The successful candidate will work closely with the product and engineering team to translate technological and customer requirements into valuable features that ensure a great \n",
       "<mark class=\"entity\" style=\"background: #ddd; padding: 0.45em 0.6em; margin: 0 0.25em; line-height: 1; border-radius: 0.35em;\">\n",
       "    user experience\n",
       "    <span style=\"font-size: 0.8em; font-weight: bold; line-height: 1; border-radius: 0.35em; vertical-align: middle; margin-left: 0.5rem\">experience_noun</span>\n",
       "</mark>\n",
       ".   </div></span>"
      ],
      "text/plain": [
       "<IPython.core.display.HTML object>"
      ]
     },
     "metadata": {},
     "output_type": "display_data"
    },
    {
     "data": {
      "text/html": [
       "<span class=\"tex2jax_ignore\"><div class=\"entities\" style=\"line-height: 2.5; direction: ltr\">Requirements:  3+ years in data scripting languages e.g Python Hands-on \n",
       "<mark class=\"entity\" style=\"background: #ddd; padding: 0.45em 0.6em; margin: 0 0.25em; line-height: 1; border-radius: 0.35em;\">\n",
       "    experience in the application\n",
       "    <span style=\"font-size: 0.8em; font-weight: bold; line-height: 1; border-radius: 0.35em; vertical-align: middle; margin-left: 0.5rem\">experience_adp</span>\n",
       "</mark>\n",
       " of predictive modeling  artificial neural networks  time-series analysis  clustering and classification techniques  and other advanced analytical \n",
       "<mark class=\"entity\" style=\"background: #ddd; padding: 0.45em 0.6em; margin: 0 0.25em; line-height: 1; border-radius: 0.35em;\">\n",
       "    techniques Experience\n",
       "    <span style=\"font-size: 0.8em; font-weight: bold; line-height: 1; border-radius: 0.35em; vertical-align: middle; margin-left: 0.5rem\">experience_noun</span>\n",
       "</mark>\n",
       " using CI/CD tools Good design and problem-solving skills and an ability to innovate and solve challenging technical problems Knowledge of the software development lifecycle and Agile methodologies Excellent organization and time management skills</div></span>"
      ],
      "text/plain": [
       "<IPython.core.display.HTML object>"
      ]
     },
     "metadata": {},
     "output_type": "display_data"
    },
    {
     "data": {
      "text/html": [
       "<span class=\"tex2jax_ignore\"><div class=\"entities\" style=\"line-height: 2.5; direction: ltr\">Requirements: Minimum of 3 - 5 years of \n",
       "<mark class=\"entity\" style=\"background: #ddd; padding: 0.45em 0.6em; margin: 0 0.25em; line-height: 1; border-radius: 0.35em;\">\n",
       "    data science experience\n",
       "    <span style=\"font-size: 0.8em; font-weight: bold; line-height: 1; border-radius: 0.35em; vertical-align: middle; margin-left: 0.5rem\">experience_noun</span>\n",
       "</mark>\n",
       " using python Strong ML and statistics background 2+ years of \n",
       "<mark class=\"entity\" style=\"background: #ddd; padding: 0.45em 0.6em; margin: 0 0.25em; line-height: 1; border-radius: 0.35em;\">\n",
       "    software development experience Experience\n",
       "    <span style=\"font-size: 0.8em; font-weight: bold; line-height: 1; border-radius: 0.35em; vertical-align: middle; margin-left: 0.5rem\">experience_noun</span>\n",
       "</mark>\n",
       " with keras  tensorflow  and sklearn. </div></span>"
      ],
      "text/plain": [
       "<IPython.core.display.HTML object>"
      ]
     },
     "metadata": {},
     "output_type": "display_data"
    },
    {
     "data": {
      "text/html": [
       "<span class=\"tex2jax_ignore\"><div class=\"entities\" style=\"line-height: 2.5; direction: ltr\">\n",
       "<mark class=\"entity\" style=\"background: #ddd; padding: 0.45em 0.6em; margin: 0 0.25em; line-height: 1; border-radius: 0.35em;\">\n",
       "    Experience with time\n",
       "    <span style=\"font-size: 0.8em; font-weight: bold; line-height: 1; border-radius: 0.35em; vertical-align: middle; margin-left: 0.5rem\">experience_adp</span>\n",
       "</mark>\n",
       "-series and operations data is an asset Previous Kaggle experience or similar is a plus Ability to work in a fast-paced agile \n",
       "<mark class=\"entity\" style=\"background: #ddd; padding: 0.45em 0.6em; margin: 0 0.25em; line-height: 1; border-radius: 0.35em;\">\n",
       "    environment Experience\n",
       "    <span style=\"font-size: 0.8em; font-weight: bold; line-height: 1; border-radius: 0.35em; vertical-align: middle; margin-left: 0.5rem\">experience_noun</span>\n",
       "</mark>\n",
       " using Git in a team environment Flexibility to adjust to changing priorities  requirements  and schedules Familiarity with working on remote linux instances Available in office full-time (KW)  Responsibilities: Own significant product requirements and drive them from development to deployment Tune and monitor machine learning models deployed for customers. </div></span>"
      ],
      "text/plain": [
       "<IPython.core.display.HTML object>"
      ]
     },
     "metadata": {},
     "output_type": "display_data"
    },
    {
     "data": {
      "text/html": [
       "<span class=\"tex2jax_ignore\"><div class=\"entities\" style=\"line-height: 2.5; direction: ltr\">In our mission to be the BEST combined Live and Digital \n",
       "<mark class=\"entity\" style=\"background: #ddd; padding: 0.45em 0.6em; margin: 0 0.25em; line-height: 1; border-radius: 0.35em;\">\n",
       "    fitness experience\n",
       "    <span style=\"font-size: 0.8em; font-weight: bold; line-height: 1; border-radius: 0.35em; vertical-align: middle; margin-left: 0.5rem\">experience_noun</span>\n",
       "</mark>\n",
       "  data plays a significant role in empowering a more personalized and informed suite of digital services. </div></span>"
      ],
      "text/plain": [
       "<IPython.core.display.HTML object>"
      ]
     },
     "metadata": {},
     "output_type": "display_data"
    },
    {
     "data": {
      "text/html": [
       "<span class=\"tex2jax_ignore\"><div class=\"entities\" style=\"line-height: 2.5; direction: ltr\">Bachelor’s degree in Computer Science  Software Engineering or equivalent 5+ years’ \n",
       "<mark class=\"entity\" style=\"background: #ddd; padding: 0.45em 0.6em; margin: 0 0.25em; line-height: 1; border-radius: 0.35em;\">\n",
       "    experience in ETL\n",
       "    <span style=\"font-size: 0.8em; font-weight: bold; line-height: 1; border-radius: 0.35em; vertical-align: middle; margin-left: 0.5rem\">experience_adp</span>\n",
       "</mark>\n",
       "/data modeling  building scalable and reliable data pipelines  architecting data stores  supporting complex ETL processes including SLA  performance measurements  and monitoring Hands-on experience with leading Cloud platforms  including Azure Cloud Data Solutions and AWS \n",
       "<mark class=\"entity\" style=\"background: #ddd; padding: 0.45em 0.6em; margin: 0 0.25em; line-height: 1; border-radius: 0.35em;\">\n",
       "    Experience with Informatica IICS\n",
       "    <span style=\"font-size: 0.8em; font-weight: bold; line-height: 1; border-radius: 0.35em; vertical-align: middle; margin-left: 0.5rem\">experience_adp</span>\n",
       "</mark>\n",
       " and Snowflake considered a strong asset \n",
       "<mark class=\"entity\" style=\"background: #ddd; padding: 0.45em 0.6em; margin: 0 0.25em; line-height: 1; border-radius: 0.35em;\">\n",
       "    Experience with message queues\n",
       "    <span style=\"font-size: 0.8em; font-weight: bold; line-height: 1; border-radius: 0.35em; vertical-align: middle; margin-left: 0.5rem\">experience_adp</span>\n",
       "</mark>\n",
       "  batch and stream processing Excellent SQL skills and \n",
       "<mark class=\"entity\" style=\"background: #ddd; padding: 0.45em 0.6em; margin: 0 0.25em; line-height: 1; border-radius: 0.35em;\">\n",
       "    experience in a DevOps environment Experience\n",
       "    <span style=\"font-size: 0.8em; font-weight: bold; line-height: 1; border-radius: 0.35em; vertical-align: middle; margin-left: 0.5rem\">experience_adp</span>\n",
       "</mark>\n",
       " with Agile development methodologies Detail oriented: high standard of data quality and integrity Familiarity with NoSQL databases like MongoDB is nice to have Adaptable to a fast-paced environment and able to pivot quickly to align with changing priorities Strong people skills  team player  excellent oral and written communication skills Strong analytical and problem-solving skills  Able to multi-task Committed to contributing to a culture that celebrates diversity  equity and inclusion and embraces social and environmental responsibility  </div></span>"
      ],
      "text/plain": [
       "<IPython.core.display.HTML object>"
      ]
     },
     "metadata": {},
     "output_type": "display_data"
    },
    {
     "data": {
      "text/html": [
       "<span class=\"tex2jax_ignore\"><div class=\"entities\" style=\"line-height: 2.5; direction: ltr\">Qualifications High School Diploma or equivalent Req 1 to 2 years’ relevant \n",
       "<mark class=\"entity\" style=\"background: #ddd; padding: 0.45em 0.6em; margin: 0 0.25em; line-height: 1; border-radius: 0.35em;\">\n",
       "    work experience\n",
       "    <span style=\"font-size: 0.8em; font-weight: bold; line-height: 1; border-radius: 0.35em; vertical-align: middle; margin-left: 0.5rem\">experience_noun</span>\n",
       "</mark>\n",
       ". </div></span>"
      ],
      "text/plain": [
       "<IPython.core.display.HTML object>"
      ]
     },
     "metadata": {},
     "output_type": "display_data"
    },
    {
     "data": {
      "text/html": [
       "<span class=\"tex2jax_ignore\"><div class=\"entities\" style=\"line-height: 2.5; direction: ltr\">Equivalent combination of education  training and \n",
       "<mark class=\"entity\" style=\"background: pink; padding: 0.45em 0.6em; margin: 0 0.25em; line-height: 1; border-radius: 0.35em;\">\n",
       "    experience\n",
       "    <span style=\"font-size: 0.8em; font-weight: bold; line-height: 1; border-radius: 0.35em; vertical-align: middle; margin-left: 0.5rem\">MISSING</span>\n",
       "</mark>\n",
       ". </div></span>"
      ],
      "text/plain": [
       "<IPython.core.display.HTML object>"
      ]
     },
     "metadata": {},
     "output_type": "display_data"
    },
    {
     "data": {
      "text/html": [
       "<span class=\"tex2jax_ignore\"><div class=\"entities\" style=\"line-height: 2.5; direction: ltr\">Collaborate with other groups worldwide to assist in product design  business strategy and \n",
       "<mark class=\"entity\" style=\"background: #ddd; padding: 0.45em 0.6em; margin: 0 0.25em; line-height: 1; border-radius: 0.35em;\">\n",
       "    user experience\n",
       "    <span style=\"font-size: 0.8em; font-weight: bold; line-height: 1; border-radius: 0.35em; vertical-align: middle; margin-left: 0.5rem\">experience_noun</span>\n",
       "</mark>\n",
       " research  etc. Be constantly challenged to learn and grow with new technologies  identify and solve complex problems via data  Skills and Qualifications  5+ years of experience in big data engineering Have deep understanding on data engineering principles Hands-on experience of large scale and high availability systems Strong knowledge of SQL (MySQL  PostgreSQL) and preferably experience with NoSQL databases Proficient in at least one programming language and scripting languages (bash  Python  etc.) </div></span>"
      ],
      "text/plain": [
       "<IPython.core.display.HTML object>"
      ]
     },
     "metadata": {},
     "output_type": "display_data"
    },
    {
     "data": {
      "text/html": [
       "<span class=\"tex2jax_ignore\"><div class=\"entities\" style=\"line-height: 2.5; direction: ltr\">\n",
       "<mark class=\"entity\" style=\"background: pink; padding: 0.45em 0.6em; margin: 0 0.25em; line-height: 1; border-radius: 0.35em;\">\n",
       "    Experience\n",
       "    <span style=\"font-size: 0.8em; font-weight: bold; line-height: 1; border-radius: 0.35em; vertical-align: middle; margin-left: 0.5rem\">MISSING</span>\n",
       "</mark>\n",
       " with various AWS services (EC2  S3  AWS </div></span>"
      ],
      "text/plain": [
       "<IPython.core.display.HTML object>"
      ]
     },
     "metadata": {},
     "output_type": "display_data"
    },
    {
     "data": {
      "text/html": [
       "<span class=\"tex2jax_ignore\"><div class=\"entities\" style=\"line-height: 2.5; direction: ltr\">BS or MS in Computer Science or equivalent experience  Bonus Skills  \n",
       "<mark class=\"entity\" style=\"background: #ddd; padding: 0.45em 0.6em; margin: 0 0.25em; line-height: 1; border-radius: 0.35em;\">\n",
       "    Experience with Ariflow\n",
       "    <span style=\"font-size: 0.8em; font-weight: bold; line-height: 1; border-radius: 0.35em; vertical-align: middle; margin-left: 0.5rem\">experience_adp</span>\n",
       "</mark>\n",
       "  EKS  EMR  Redshift  OLAP </div></span>"
      ],
      "text/plain": [
       "<IPython.core.display.HTML object>"
      ]
     },
     "metadata": {},
     "output_type": "display_data"
    },
    {
     "data": {
      "text/html": [
       "<span class=\"tex2jax_ignore\"><div class=\"entities\" style=\"line-height: 2.5; direction: ltr\">\n",
       "<mark class=\"entity\" style=\"background: #ddd; padding: 0.45em 0.6em; margin: 0 0.25em; line-height: 1; border-radius: 0.35em;\">\n",
       "    Experience with Git\n",
       "    <span style=\"font-size: 0.8em; font-weight: bold; line-height: 1; border-radius: 0.35em; vertical-align: middle; margin-left: 0.5rem\">experience_adp</span>\n",
       "</mark>\n",
       " and CircleCI </div></span>"
      ],
      "text/plain": [
       "<IPython.core.display.HTML object>"
      ]
     },
     "metadata": {},
     "output_type": "display_data"
    }
   ],
   "source": [
    "show_extraction(ads[:5], matcher)\n"
   ]
  },
  {
   "cell_type": "code",
   "execution_count": 23,
   "id": "a83e8e12",
   "metadata": {},
   "outputs": [],
   "source": [
    "def get_extractions(examples, *extractors):\n",
    "    # Could use context instead of enumerate\n",
    "    for idx, doc in enumerate(nlp.pipe(examples, batch_size=100, disable=['ner'])):\n",
    "        for ent in filter_spans([Span(doc, start, end, label) for extractor in extractors for label, start, end in extractor(doc)]):\n",
    "            sent = ent.root.sent\n",
    "            yield ent.text, idx, ent.start, ent.end, ent.label_, sent.start, sent.end"
   ]
  },
  {
   "cell_type": "code",
   "execution_count": 24,
   "id": "2c37ba03",
   "metadata": {},
   "outputs": [
    {
     "data": {
      "text/plain": [
       "[('user experience', 0, 117, 119, 'experience_noun', 92, 121),\n",
       " ('experience in the application', 0, 239, 243, 'experience_adp', 224, 304),\n",
       " ('techniques Experience', 0, 265, 267, 'experience_noun', 224, 304),\n",
       " ('data science experience', 1, 143, 146, 'experience_noun', 134, 169),\n",
       " ('software development experience Experience',\n",
       "  1,\n",
       "  157,\n",
       "  161,\n",
       "  'experience_noun',\n",
       "  134,\n",
       "  169),\n",
       " ('Experience with time', 1, 169, 172, 'experience_adp', 169, 256),\n",
       " ('environment Experience', 1, 197, 199, 'experience_noun', 169, 256),\n",
       " ('fitness experience', 2, 73, 75, 'experience_noun', 62, 93),\n",
       " ('experience in ETL', 2, 399, 402, 'experience_adp', 384, 561),\n",
       " ('Experience with Informatica IICS', 2, 445, 449, 'experience_adp', 384, 561),\n",
       " ('Experience with message queues', 2, 455, 459, 'experience_adp', 384, 561),\n",
       " ('experience in a DevOps environment Experience',\n",
       "  2,\n",
       "  468,\n",
       "  474,\n",
       "  'experience_adp',\n",
       "  384,\n",
       "  561)]"
      ]
     },
     "execution_count": 24,
     "metadata": {},
     "output_type": "execute_result"
    }
   ],
   "source": [
    "list(get_extractions(ads[:3], matcher))\n"
   ]
  },
  {
   "cell_type": "code",
   "execution_count": 25,
   "id": "aaf13394",
   "metadata": {},
   "outputs": [],
   "source": [
    "def extract_df(*extractors, n_max=None, **kwargs):\n",
    "    if n_max is None:\n",
    "        n_max = len(df)\n",
    "    ent_df = pd.DataFrame(list(get_extractions(df[:n_max]['Job Description'], *extractors)),\n",
    "                          columns=['text', 'docidx', 'start', 'end', 'label', 'sent_start', 'sent_end'])\n",
    "    return ent_df.merge(df, how='left', left_on='docidx', right_index=True)"
   ]
  },
  {
   "cell_type": "code",
   "execution_count": 26,
   "id": "a7d212db",
   "metadata": {},
   "outputs": [
    {
     "name": "stdout",
     "output_type": "stream",
     "text": [
      "CPU times: total: 0 ns\n",
      "Wall time: 0 ns\n"
     ]
    },
    {
     "data": {
      "text/html": [
       "<div>\n",
       "<style scoped>\n",
       "    .dataframe tbody tr th:only-of-type {\n",
       "        vertical-align: middle;\n",
       "    }\n",
       "\n",
       "    .dataframe tbody tr th {\n",
       "        vertical-align: top;\n",
       "    }\n",
       "\n",
       "    .dataframe thead th {\n",
       "        text-align: right;\n",
       "    }\n",
       "</style>\n",
       "<table border=\"1\" class=\"dataframe\">\n",
       "  <thead>\n",
       "    <tr style=\"text-align: right;\">\n",
       "      <th></th>\n",
       "      <th>text</th>\n",
       "      <th>docidx</th>\n",
       "      <th>start</th>\n",
       "      <th>end</th>\n",
       "      <th>label</th>\n",
       "      <th>sent_start</th>\n",
       "      <th>sent_end</th>\n",
       "      <th>Job Title</th>\n",
       "      <th>Company Name</th>\n",
       "      <th>Job Description</th>\n",
       "      <th>Location</th>\n",
       "      <th>Job Board</th>\n",
       "    </tr>\n",
       "  </thead>\n",
       "  <tbody>\n",
       "    <tr>\n",
       "      <th>0</th>\n",
       "      <td>user experience</td>\n",
       "      <td>0</td>\n",
       "      <td>117</td>\n",
       "      <td>119</td>\n",
       "      <td>experience_noun</td>\n",
       "      <td>92</td>\n",
       "      <td>121</td>\n",
       "      <td>Data Scientist</td>\n",
       "      <td>Metricsflow Inc</td>\n",
       "      <td>At Metricsflow  we work to shape the future of...</td>\n",
       "      <td>St. John's</td>\n",
       "      <td>Glassdoor</td>\n",
       "    </tr>\n",
       "    <tr>\n",
       "      <th>1</th>\n",
       "      <td>experience in the application</td>\n",
       "      <td>0</td>\n",
       "      <td>239</td>\n",
       "      <td>243</td>\n",
       "      <td>experience_adp</td>\n",
       "      <td>224</td>\n",
       "      <td>304</td>\n",
       "      <td>Data Scientist</td>\n",
       "      <td>Metricsflow Inc</td>\n",
       "      <td>At Metricsflow  we work to shape the future of...</td>\n",
       "      <td>St. John's</td>\n",
       "      <td>Glassdoor</td>\n",
       "    </tr>\n",
       "    <tr>\n",
       "      <th>2</th>\n",
       "      <td>techniques Experience</td>\n",
       "      <td>0</td>\n",
       "      <td>265</td>\n",
       "      <td>267</td>\n",
       "      <td>experience_noun</td>\n",
       "      <td>224</td>\n",
       "      <td>304</td>\n",
       "      <td>Data Scientist</td>\n",
       "      <td>Metricsflow Inc</td>\n",
       "      <td>At Metricsflow  we work to shape the future of...</td>\n",
       "      <td>St. John's</td>\n",
       "      <td>Glassdoor</td>\n",
       "    </tr>\n",
       "    <tr>\n",
       "      <th>3</th>\n",
       "      <td>data science experience</td>\n",
       "      <td>1</td>\n",
       "      <td>143</td>\n",
       "      <td>146</td>\n",
       "      <td>experience_noun</td>\n",
       "      <td>134</td>\n",
       "      <td>169</td>\n",
       "      <td>Data Scientist - 05/12/21</td>\n",
       "      <td>Acerta Analytics Solutions Inc</td>\n",
       "      <td>Acerta’s machine learning platforms leverage a...</td>\n",
       "      <td>Kitchener</td>\n",
       "      <td>Indeed</td>\n",
       "    </tr>\n",
       "    <tr>\n",
       "      <th>4</th>\n",
       "      <td>software development experience Experience</td>\n",
       "      <td>1</td>\n",
       "      <td>157</td>\n",
       "      <td>161</td>\n",
       "      <td>experience_noun</td>\n",
       "      <td>134</td>\n",
       "      <td>169</td>\n",
       "      <td>Data Scientist - 05/12/21</td>\n",
       "      <td>Acerta Analytics Solutions Inc</td>\n",
       "      <td>Acerta’s machine learning platforms leverage a...</td>\n",
       "      <td>Kitchener</td>\n",
       "      <td>Indeed</td>\n",
       "    </tr>\n",
       "  </tbody>\n",
       "</table>\n",
       "</div>"
      ],
      "text/plain": [
       "                                         text  docidx  start  end  \\\n",
       "0                             user experience       0    117  119   \n",
       "1               experience in the application       0    239  243   \n",
       "2                       techniques Experience       0    265  267   \n",
       "3                     data science experience       1    143  146   \n",
       "4  software development experience Experience       1    157  161   \n",
       "\n",
       "             label  sent_start  sent_end                  Job Title  \\\n",
       "0  experience_noun          92       121             Data Scientist   \n",
       "1   experience_adp         224       304             Data Scientist   \n",
       "2  experience_noun         224       304             Data Scientist   \n",
       "3  experience_noun         134       169  Data Scientist - 05/12/21   \n",
       "4  experience_noun         134       169  Data Scientist - 05/12/21   \n",
       "\n",
       "                     Company Name  \\\n",
       "0                 Metricsflow Inc   \n",
       "1                 Metricsflow Inc   \n",
       "2                 Metricsflow Inc   \n",
       "3  Acerta Analytics Solutions Inc   \n",
       "4  Acerta Analytics Solutions Inc   \n",
       "\n",
       "                                     Job Description    Location  Job Board  \n",
       "0  At Metricsflow  we work to shape the future of...  St. John's  Glassdoor  \n",
       "1  At Metricsflow  we work to shape the future of...  St. John's  Glassdoor  \n",
       "2  At Metricsflow  we work to shape the future of...  St. John's  Glassdoor  \n",
       "3  Acerta’s machine learning platforms leverage a...   Kitchener     Indeed  \n",
       "4  Acerta’s machine learning platforms leverage a...   Kitchener     Indeed  "
      ]
     },
     "execution_count": 26,
     "metadata": {},
     "output_type": "execute_result"
    }
   ],
   "source": [
    "%time \n",
    "ent_df = extract_df(matcher, n_max=1000)\n",
    "ent_df.head()"
   ]
  },
  {
   "cell_type": "code",
   "execution_count": 27,
   "id": "86d7302e",
   "metadata": {},
   "outputs": [],
   "source": [
    "def aggregate_df(df, col=['text']):\n",
    "    return (df\n",
    "            .groupby(col)\n",
    "            .agg(n_company=('Company Name', 'nunique'))\n",
    "            .reset_index()\n",
    "            .sort_values(['n_company'], ascending=False)\n",
    "        )"
   ]
  },
  {
   "cell_type": "code",
   "execution_count": 28,
   "id": "36c78a9c",
   "metadata": {},
   "outputs": [
    {
     "data": {
      "text/html": [
       "<div>\n",
       "<style scoped>\n",
       "    .dataframe tbody tr th:only-of-type {\n",
       "        vertical-align: middle;\n",
       "    }\n",
       "\n",
       "    .dataframe tbody tr th {\n",
       "        vertical-align: top;\n",
       "    }\n",
       "\n",
       "    .dataframe thead th {\n",
       "        text-align: right;\n",
       "    }\n",
       "</style>\n",
       "<table border=\"1\" class=\"dataframe\">\n",
       "  <thead>\n",
       "    <tr style=\"text-align: right;\">\n",
       "      <th></th>\n",
       "      <th>text</th>\n",
       "      <th>n_company</th>\n",
       "    </tr>\n",
       "  </thead>\n",
       "  <tbody>\n",
       "    <tr>\n",
       "      <th>1393</th>\n",
       "      <td>work experience</td>\n",
       "      <td>47</td>\n",
       "    </tr>\n",
       "    <tr>\n",
       "      <th>1406</th>\n",
       "      <td>years experience</td>\n",
       "      <td>39</td>\n",
       "    </tr>\n",
       "    <tr>\n",
       "      <th>1202</th>\n",
       "      <td>industry experience</td>\n",
       "      <td>34</td>\n",
       "    </tr>\n",
       "    <tr>\n",
       "      <th>599</th>\n",
       "      <td>customer experience</td>\n",
       "      <td>29</td>\n",
       "    </tr>\n",
       "    <tr>\n",
       "      <th>796</th>\n",
       "      <td>experience in a</td>\n",
       "      <td>27</td>\n",
       "    </tr>\n",
       "    <tr>\n",
       "      <th>1383</th>\n",
       "      <td>user experience</td>\n",
       "      <td>23</td>\n",
       "    </tr>\n",
       "    <tr>\n",
       "      <th>874</th>\n",
       "      <td>experience in data science</td>\n",
       "      <td>20</td>\n",
       "    </tr>\n",
       "    <tr>\n",
       "      <th>323</th>\n",
       "      <td>Experience with Python</td>\n",
       "      <td>19</td>\n",
       "    </tr>\n",
       "    <tr>\n",
       "      <th>1066</th>\n",
       "      <td>experience with Python</td>\n",
       "      <td>15</td>\n",
       "    </tr>\n",
       "    <tr>\n",
       "      <th>934</th>\n",
       "      <td>experience in the</td>\n",
       "      <td>13</td>\n",
       "    </tr>\n",
       "  </tbody>\n",
       "</table>\n",
       "</div>"
      ],
      "text/plain": [
       "                            text  n_company\n",
       "1393             work experience         47\n",
       "1406            years experience         39\n",
       "1202         industry experience         34\n",
       "599          customer experience         29\n",
       "796              experience in a         27\n",
       "1383             user experience         23\n",
       "874   experience in data science         20\n",
       "323       Experience with Python         19\n",
       "1066      experience with Python         15\n",
       "934            experience in the         13"
      ]
     },
     "execution_count": 28,
     "metadata": {},
     "output_type": "execute_result"
    }
   ],
   "source": [
    "aggregate_df(ent_df).head(10)\n"
   ]
  },
  {
   "cell_type": "code",
   "execution_count": 29,
   "id": "aefee619",
   "metadata": {},
   "outputs": [],
   "source": [
    "def showent(docidx, start, end, label, sent_start, sent_end, **kwargs):\n",
    "    # We don't need to parse it, so just make_doc\n",
    "    doc = nlp.make_doc(ads[docidx])\n",
    "    doc.ents = [Span(doc, start, end, label)]\n",
    "    sent = doc[sent_start:sent_end]\n",
    "    displacy.render(sent, style='ent')\n",
    "    \n",
    "def showent_df(df):\n",
    "    for idx, row in df.iterrows():\n",
    "        showent(**row)"
   ]
  },
  {
   "cell_type": "code",
   "execution_count": 30,
   "id": "570f0451",
   "metadata": {
    "scrolled": true
   },
   "outputs": [
    {
     "data": {
      "text/html": [
       "<span class=\"tex2jax_ignore\"><div class=\"entities\" style=\"line-height: 2.5; direction: ltr\">You have advanced working SQL knowledge and experience working with relational databases  query authoring (SQL) as well as working familiarity with a variety of databases You are recognized for your curiosity and growth mindset You see the bigger picture of the problem you are trying to solve  and will proactively out new data points from varied sources (external and internal) to complement your analysis You have excellent attention to detail  a structured approach to analysis and the ability to develop logical arguments You have minimum 4-7 years of \n",
       "<mark class=\"entity\" style=\"background: #ddd; padding: 0.45em 0.6em; margin: 0 0.25em; line-height: 1; border-radius: 0.35em;\">\n",
       "    experience in a\n",
       "    <span style=\"font-size: 0.8em; font-weight: bold; line-height: 1; border-radius: 0.35em; vertical-align: middle; margin-left: 0.5rem\">experience_adp</span>\n",
       "</mark>\n",
       " similar role and/or related education with demonstrated performance  Great-to-haves  Prior telecommunications expertise Python experience Hive  Spark  NiFi experience B2B marketing Experience with cloud (GCP AWS or Azure) Experience with the Salesforce tech  i.e.  marketing cloud  Pardot  Einstein Data Science / Modeling experience or working in a Data Science team  Contract would be until 31st Dec 2021 with a high possibility of extension.  </div></span>"
      ],
      "text/plain": [
       "<IPython.core.display.HTML object>"
      ]
     },
     "metadata": {},
     "output_type": "display_data"
    },
    {
     "data": {
      "text/html": [
       "<span class=\"tex2jax_ignore\"><div class=\"entities\" style=\"line-height: 2.5; direction: ltr\">Required qualifications to be successful in this role: 2-5 years of experience in a Data Engineer role 5-6 years \n",
       "<mark class=\"entity\" style=\"background: #ddd; padding: 0.45em 0.6em; margin: 0 0.25em; line-height: 1; border-radius: 0.35em;\">\n",
       "    experience in a\n",
       "    <span style=\"font-size: 0.8em; font-weight: bold; line-height: 1; border-radius: 0.35em; vertical-align: middle; margin-left: 0.5rem\">experience_adp</span>\n",
       "</mark>\n",
       " backend and/or front-end developer role Computer Science  Statistics  Informatics  Information Systems degree or equivalent education and experience. </div></span>"
      ],
      "text/plain": [
       "<IPython.core.display.HTML object>"
      ]
     },
     "metadata": {},
     "output_type": "display_data"
    },
    {
     "data": {
      "text/html": [
       "<span class=\"tex2jax_ignore\"><div class=\"entities\" style=\"line-height: 2.5; direction: ltr\">Role We are looking for a Senior Data Scientist with a minimum of 5 years of \n",
       "<mark class=\"entity\" style=\"background: #ddd; padding: 0.45em 0.6em; margin: 0 0.25em; line-height: 1; border-radius: 0.35em;\">\n",
       "    experience in a\n",
       "    <span style=\"font-size: 0.8em; font-weight: bold; line-height: 1; border-radius: 0.35em; vertical-align: middle; margin-left: 0.5rem\">experience_adp</span>\n",
       "</mark>\n",
       " related field to join our team in the Vancouver office. </div></span>"
      ],
      "text/plain": [
       "<IPython.core.display.HTML object>"
      ]
     },
     "metadata": {},
     "output_type": "display_data"
    },
    {
     "data": {
      "text/html": [
       "<span class=\"tex2jax_ignore\"><div class=\"entities\" style=\"line-height: 2.5; direction: ltr\">This will be a great opportunity to join a truly passionate team  working on one of our most advanced-tech projects in our pipeline   WHAT YOU'LL BE DOING:  Assemble large  complex data sets that meet functional/non-functional business requirements Build the infrastructure required for optimal extraction  transformation  and loading of data from a wide variety of data sources using SQL and AWS technologies Create data tools for analytics and data scientist team members that assist them in building and optimizing our products Work with stakeholders including the Executive  Product  Data and Design teams to assist with data-related technical issues and support their data infrastructure needs  WHAT YOU’LL BRING:  At least 2 years of \n",
       "<mark class=\"entity\" style=\"background: #ddd; padding: 0.45em 0.6em; margin: 0 0.25em; line-height: 1; border-radius: 0.35em;\">\n",
       "    experience in a\n",
       "    <span style=\"font-size: 0.8em; font-weight: bold; line-height: 1; border-radius: 0.35em; vertical-align: middle; margin-left: 0.5rem\">experience_adp</span>\n",
       "</mark>\n",
       " similar role or function Skills with: Python  SQL and Docker AWS familiarity  Cloud Formation experience is an asset. </div></span>"
      ],
      "text/plain": [
       "<IPython.core.display.HTML object>"
      ]
     },
     "metadata": {},
     "output_type": "display_data"
    },
    {
     "data": {
      "text/html": [
       "<span class=\"tex2jax_ignore\"><div class=\"entities\" style=\"line-height: 2.5; direction: ltr\">You have advanced working SQL knowledge and experience working with relational databases  query authoring (SQL) as well as working familiarity with a variety of databases You are recognized for your curiosity and growth mindset You see the bigger picture of the problem you are trying to solve  and will proactively out new data points from varied sources (external and internal) to complement your analysis You have excellent attention to detail  a structured approach to analysis and the ability to develop logical arguments You have minimum 4-7 years of \n",
       "<mark class=\"entity\" style=\"background: #ddd; padding: 0.45em 0.6em; margin: 0 0.25em; line-height: 1; border-radius: 0.35em;\">\n",
       "    experience in a\n",
       "    <span style=\"font-size: 0.8em; font-weight: bold; line-height: 1; border-radius: 0.35em; vertical-align: middle; margin-left: 0.5rem\">experience_adp</span>\n",
       "</mark>\n",
       " similar role and/or related education with demonstrated performance Great-to-haves Prior telecommunications expertise Python experience Hive  Spark  NiFi experience B2B marketing Experience with cloud (GCP AWS or Azure) Experience with the Salesforce tech  i.e.  marketing cloud  Pardot  Einstein Data Science / Modeling experience or working in a Data Science team Contract would be until 31st Dec 2021 with a high possibility of extension. </div></span>"
      ],
      "text/plain": [
       "<IPython.core.display.HTML object>"
      ]
     },
     "metadata": {},
     "output_type": "display_data"
    }
   ],
   "source": [
    "showent_df(ent_df.query('text == \"experience in a\"').head())\n"
   ]
  },
  {
   "cell_type": "code",
   "execution_count": 31,
   "id": "14a8b08d",
   "metadata": {},
   "outputs": [],
   "source": [
    "def extract_noun_phrase_experience(doc):\n",
    "    for np in doc.noun_chunks:\n",
    "        if np[-1].lower_ == 'experience':\n",
    "            if len(np) > 1:\n",
    "                yield 'EXPERIENCE', np[0].i, np[-1].i"
   ]
  },
  {
   "cell_type": "code",
   "execution_count": 32,
   "id": "a287f1fb",
   "metadata": {
    "scrolled": true
   },
   "outputs": [
    {
     "data": {
      "text/html": [
       "<span class=\"tex2jax_ignore\"><div class=\"entities\" style=\"line-height: 2.5; direction: ltr\">The successful candidate will work closely with the product and engineering team to translate technological and customer requirements into valuable features that ensure \n",
       "<mark class=\"entity\" style=\"background: lightgreen; padding: 0.45em 0.6em; margin: 0 0.25em; line-height: 1; border-radius: 0.35em;\">\n",
       "    a great user\n",
       "    <span style=\"font-size: 0.8em; font-weight: bold; line-height: 1; border-radius: 0.35em; vertical-align: middle; margin-left: 0.5rem\">EXPERIENCE</span>\n",
       "</mark>\n",
       " experience.   </div></span>"
      ],
      "text/plain": [
       "<IPython.core.display.HTML object>"
      ]
     },
     "metadata": {},
     "output_type": "display_data"
    },
    {
     "data": {
      "text/html": [
       "<span class=\"tex2jax_ignore\"><div class=\"entities\" style=\"line-height: 2.5; direction: ltr\">Requirements:  3+ years in data scripting languages \n",
       "<mark class=\"entity\" style=\"background: lightgreen; padding: 0.45em 0.6em; margin: 0 0.25em; line-height: 1; border-radius: 0.35em;\">\n",
       "    e.g Python Hands-on\n",
       "    <span style=\"font-size: 0.8em; font-weight: bold; line-height: 1; border-radius: 0.35em; vertical-align: middle; margin-left: 0.5rem\">EXPERIENCE</span>\n",
       "</mark>\n",
       " experience in the application of predictive modeling  artificial neural networks  time-series analysis  clustering and classification techniques  and \n",
       "<mark class=\"entity\" style=\"background: lightgreen; padding: 0.45em 0.6em; margin: 0 0.25em; line-height: 1; border-radius: 0.35em;\">\n",
       "    other advanced analytical techniques\n",
       "    <span style=\"font-size: 0.8em; font-weight: bold; line-height: 1; border-radius: 0.35em; vertical-align: middle; margin-left: 0.5rem\">EXPERIENCE</span>\n",
       "</mark>\n",
       " Experience using CI/CD tools Good design and problem-solving skills and an ability to innovate and solve challenging technical problems Knowledge of the software development lifecycle and Agile methodologies Excellent organization and time management skills</div></span>"
      ],
      "text/plain": [
       "<IPython.core.display.HTML object>"
      ]
     },
     "metadata": {},
     "output_type": "display_data"
    },
    {
     "data": {
      "text/html": [
       "<span class=\"tex2jax_ignore\"><div class=\"entities\" style=\"line-height: 2.5; direction: ltr\">Requirements: Minimum of 3 - 5 years of \n",
       "<mark class=\"entity\" style=\"background: lightgreen; padding: 0.45em 0.6em; margin: 0 0.25em; line-height: 1; border-radius: 0.35em;\">\n",
       "    data science\n",
       "    <span style=\"font-size: 0.8em; font-weight: bold; line-height: 1; border-radius: 0.35em; vertical-align: middle; margin-left: 0.5rem\">EXPERIENCE</span>\n",
       "</mark>\n",
       " experience using python Strong ML and statistics background 2+ years of \n",
       "<mark class=\"entity\" style=\"background: lightgreen; padding: 0.45em 0.6em; margin: 0 0.25em; line-height: 1; border-radius: 0.35em;\">\n",
       "    software development experience\n",
       "    <span style=\"font-size: 0.8em; font-weight: bold; line-height: 1; border-radius: 0.35em; vertical-align: middle; margin-left: 0.5rem\">EXPERIENCE</span>\n",
       "</mark>\n",
       " Experience with keras  tensorflow  and sklearn. </div></span>"
      ],
      "text/plain": [
       "<IPython.core.display.HTML object>"
      ]
     },
     "metadata": {},
     "output_type": "display_data"
    },
    {
     "data": {
      "text/html": [
       "<span class=\"tex2jax_ignore\"><div class=\"entities\" style=\"line-height: 2.5; direction: ltr\">Experience with time-series and operations data is \n",
       "<mark class=\"entity\" style=\"background: lightgreen; padding: 0.45em 0.6em; margin: 0 0.25em; line-height: 1; border-radius: 0.35em;\">\n",
       "    an asset Previous Kaggle\n",
       "    <span style=\"font-size: 0.8em; font-weight: bold; line-height: 1; border-radius: 0.35em; vertical-align: middle; margin-left: 0.5rem\">EXPERIENCE</span>\n",
       "</mark>\n",
       " experience or similar is a plus Ability to work in \n",
       "<mark class=\"entity\" style=\"background: lightgreen; padding: 0.45em 0.6em; margin: 0 0.25em; line-height: 1; border-radius: 0.35em;\">\n",
       "    a fast-paced agile environment\n",
       "    <span style=\"font-size: 0.8em; font-weight: bold; line-height: 1; border-radius: 0.35em; vertical-align: middle; margin-left: 0.5rem\">EXPERIENCE</span>\n",
       "</mark>\n",
       " Experience using Git in a team environment Flexibility to adjust to changing priorities  requirements  and schedules Familiarity with working on remote linux instances Available in office full-time (KW)  Responsibilities: Own significant product requirements and drive them from development to deployment Tune and monitor machine learning models deployed for customers. </div></span>"
      ],
      "text/plain": [
       "<IPython.core.display.HTML object>"
      ]
     },
     "metadata": {},
     "output_type": "display_data"
    },
    {
     "data": {
      "text/html": [
       "<span class=\"tex2jax_ignore\"><div class=\"entities\" style=\"line-height: 2.5; direction: ltr\">In our mission to be the BEST combined Live and Digital fitness \n",
       "<mark class=\"entity\" style=\"background: pink; padding: 0.45em 0.6em; margin: 0 0.25em; line-height: 1; border-radius: 0.35em;\">\n",
       "    experience\n",
       "    <span style=\"font-size: 0.8em; font-weight: bold; line-height: 1; border-radius: 0.35em; vertical-align: middle; margin-left: 0.5rem\">MISSING</span>\n",
       "</mark>\n",
       "  data plays a significant role in empowering a more personalized and informed suite of digital services. </div></span>"
      ],
      "text/plain": [
       "<IPython.core.display.HTML object>"
      ]
     },
     "metadata": {},
     "output_type": "display_data"
    },
    {
     "data": {
      "text/html": [
       "<span class=\"tex2jax_ignore\"><div class=\"entities\" style=\"line-height: 2.5; direction: ltr\">Bachelor’s degree in Computer Science  Software Engineering or equivalent \n",
       "<mark class=\"entity\" style=\"background: lightgreen; padding: 0.45em 0.6em; margin: 0 0.25em; line-height: 1; border-radius: 0.35em;\">\n",
       "    5+ years’\n",
       "    <span style=\"font-size: 0.8em; font-weight: bold; line-height: 1; border-radius: 0.35em; vertical-align: middle; margin-left: 0.5rem\">EXPERIENCE</span>\n",
       "</mark>\n",
       " experience in ETL/data modeling  building scalable and reliable data pipelines  architecting data stores  supporting complex ETL processes including SLA  performance measurements  and monitoring \n",
       "<mark class=\"entity\" style=\"background: lightgreen; padding: 0.45em 0.6em; margin: 0 0.25em; line-height: 1; border-radius: 0.35em;\">\n",
       "    Hands-on\n",
       "    <span style=\"font-size: 0.8em; font-weight: bold; line-height: 1; border-radius: 0.35em; vertical-align: middle; margin-left: 0.5rem\">EXPERIENCE</span>\n",
       "</mark>\n",
       " experience with leading Cloud platforms  including Azure Cloud Data Solutions and \n",
       "<mark class=\"entity\" style=\"background: lightgreen; padding: 0.45em 0.6em; margin: 0 0.25em; line-height: 1; border-radius: 0.35em;\">\n",
       "    AWS\n",
       "    <span style=\"font-size: 0.8em; font-weight: bold; line-height: 1; border-radius: 0.35em; vertical-align: middle; margin-left: 0.5rem\">EXPERIENCE</span>\n",
       "</mark>\n",
       " Experience with Informatica IICS and Snowflake considered \n",
       "<mark class=\"entity\" style=\"background: lightgreen; padding: 0.45em 0.6em; margin: 0 0.25em; line-height: 1; border-radius: 0.35em;\">\n",
       "    a strong asset\n",
       "    <span style=\"font-size: 0.8em; font-weight: bold; line-height: 1; border-radius: 0.35em; vertical-align: middle; margin-left: 0.5rem\">EXPERIENCE</span>\n",
       "</mark>\n",
       " Experience with message queues  batch and stream processing Excellent SQL skills and experience in \n",
       "<mark class=\"entity\" style=\"background: lightgreen; padding: 0.45em 0.6em; margin: 0 0.25em; line-height: 1; border-radius: 0.35em;\">\n",
       "    a DevOps environment\n",
       "    <span style=\"font-size: 0.8em; font-weight: bold; line-height: 1; border-radius: 0.35em; vertical-align: middle; margin-left: 0.5rem\">EXPERIENCE</span>\n",
       "</mark>\n",
       " Experience with Agile development methodologies Detail oriented: high standard of data quality and integrity Familiarity with NoSQL databases like MongoDB is nice to have Adaptable to a fast-paced environment and able to pivot quickly to align with changing priorities Strong people skills  team player  excellent oral and written communication skills Strong analytical and problem-solving skills  Able to multi-task Committed to contributing to a culture that celebrates diversity  equity and inclusion and embraces social and environmental responsibility  </div></span>"
      ],
      "text/plain": [
       "<IPython.core.display.HTML object>"
      ]
     },
     "metadata": {},
     "output_type": "display_data"
    },
    {
     "data": {
      "text/html": [
       "<span class=\"tex2jax_ignore\"><div class=\"entities\" style=\"line-height: 2.5; direction: ltr\">Qualifications High School Diploma or equivalent Req 1 to 2 years’ \n",
       "<mark class=\"entity\" style=\"background: lightgreen; padding: 0.45em 0.6em; margin: 0 0.25em; line-height: 1; border-radius: 0.35em;\">\n",
       "    relevant work\n",
       "    <span style=\"font-size: 0.8em; font-weight: bold; line-height: 1; border-radius: 0.35em; vertical-align: middle; margin-left: 0.5rem\">EXPERIENCE</span>\n",
       "</mark>\n",
       " experience. </div></span>"
      ],
      "text/plain": [
       "<IPython.core.display.HTML object>"
      ]
     },
     "metadata": {},
     "output_type": "display_data"
    },
    {
     "data": {
      "text/html": [
       "<span class=\"tex2jax_ignore\"><div class=\"entities\" style=\"line-height: 2.5; direction: ltr\">Equivalent combination of education  training and \n",
       "<mark class=\"entity\" style=\"background: pink; padding: 0.45em 0.6em; margin: 0 0.25em; line-height: 1; border-radius: 0.35em;\">\n",
       "    experience\n",
       "    <span style=\"font-size: 0.8em; font-weight: bold; line-height: 1; border-radius: 0.35em; vertical-align: middle; margin-left: 0.5rem\">MISSING</span>\n",
       "</mark>\n",
       ". </div></span>"
      ],
      "text/plain": [
       "<IPython.core.display.HTML object>"
      ]
     },
     "metadata": {},
     "output_type": "display_data"
    },
    {
     "data": {
      "text/html": [
       "<span class=\"tex2jax_ignore\"><div class=\"entities\" style=\"line-height: 2.5; direction: ltr\">Collaborate with other groups worldwide to assist in product design  business strategy and user experience research  etc. Be constantly challenged to learn and grow with new technologies  identify and solve complex problems via data  Skills and Qualifications  5+ years of experience in big data engineering Have deep understanding on data engineering principles \n",
       "<mark class=\"entity\" style=\"background: lightgreen; padding: 0.45em 0.6em; margin: 0 0.25em; line-height: 1; border-radius: 0.35em;\">\n",
       "    Hands-on\n",
       "    <span style=\"font-size: 0.8em; font-weight: bold; line-height: 1; border-radius: 0.35em; vertical-align: middle; margin-left: 0.5rem\">EXPERIENCE</span>\n",
       "</mark>\n",
       " experience of large scale and high availability systems Strong knowledge of SQL (MySQL  PostgreSQL) and \n",
       "<mark class=\"entity\" style=\"background: lightgreen; padding: 0.45em 0.6em; margin: 0 0.25em; line-height: 1; border-radius: 0.35em;\">\n",
       "    preferably\n",
       "    <span style=\"font-size: 0.8em; font-weight: bold; line-height: 1; border-radius: 0.35em; vertical-align: middle; margin-left: 0.5rem\">EXPERIENCE</span>\n",
       "</mark>\n",
       " experience with NoSQL databases Proficient in at least one programming language and scripting languages (bash  Python  etc.) </div></span>"
      ],
      "text/plain": [
       "<IPython.core.display.HTML object>"
      ]
     },
     "metadata": {},
     "output_type": "display_data"
    },
    {
     "data": {
      "text/html": [
       "<span class=\"tex2jax_ignore\"><div class=\"entities\" style=\"line-height: 2.5; direction: ltr\">\n",
       "<mark class=\"entity\" style=\"background: pink; padding: 0.45em 0.6em; margin: 0 0.25em; line-height: 1; border-radius: 0.35em;\">\n",
       "    Experience\n",
       "    <span style=\"font-size: 0.8em; font-weight: bold; line-height: 1; border-radius: 0.35em; vertical-align: middle; margin-left: 0.5rem\">MISSING</span>\n",
       "</mark>\n",
       " with various AWS services (EC2  S3  AWS </div></span>"
      ],
      "text/plain": [
       "<IPython.core.display.HTML object>"
      ]
     },
     "metadata": {},
     "output_type": "display_data"
    },
    {
     "data": {
      "text/html": [
       "<span class=\"tex2jax_ignore\"><div class=\"entities\" style=\"line-height: 2.5; direction: ltr\">BS or MS in Computer Science or equivalent \n",
       "<mark class=\"entity\" style=\"background: pink; padding: 0.45em 0.6em; margin: 0 0.25em; line-height: 1; border-radius: 0.35em;\">\n",
       "    experience\n",
       "    <span style=\"font-size: 0.8em; font-weight: bold; line-height: 1; border-radius: 0.35em; vertical-align: middle; margin-left: 0.5rem\">MISSING</span>\n",
       "</mark>\n",
       "  Bonus Skills  Experience with Ariflow  EKS  EMR  Redshift  OLAP </div></span>"
      ],
      "text/plain": [
       "<IPython.core.display.HTML object>"
      ]
     },
     "metadata": {},
     "output_type": "display_data"
    },
    {
     "data": {
      "text/html": [
       "<span class=\"tex2jax_ignore\"><div class=\"entities\" style=\"line-height: 2.5; direction: ltr\">\n",
       "<mark class=\"entity\" style=\"background: pink; padding: 0.45em 0.6em; margin: 0 0.25em; line-height: 1; border-radius: 0.35em;\">\n",
       "    Experience\n",
       "    <span style=\"font-size: 0.8em; font-weight: bold; line-height: 1; border-radius: 0.35em; vertical-align: middle; margin-left: 0.5rem\">MISSING</span>\n",
       "</mark>\n",
       " with Git and CircleCI </div></span>"
      ],
      "text/plain": [
       "<IPython.core.display.HTML object>"
      ]
     },
     "metadata": {},
     "output_type": "display_data"
    }
   ],
   "source": [
    "show_extraction(ads[:5], extract_noun_phrase_experience)\n"
   ]
  },
  {
   "cell_type": "code",
   "execution_count": 33,
   "id": "cc8b16d4",
   "metadata": {},
   "outputs": [
    {
     "name": "stdout",
     "output_type": "stream",
     "text": [
      "CPU times: total: 0 ns\n",
      "Wall time: 0 ns\n"
     ]
    }
   ],
   "source": [
    "%time\n",
    "ent_df = extract_df(extract_noun_phrase_experience, n_max=50000)\n"
   ]
  },
  {
   "cell_type": "code",
   "execution_count": 34,
   "id": "32eb6e39",
   "metadata": {
    "scrolled": true
   },
   "outputs": [
    {
     "data": {
      "text/html": [
       "<div>\n",
       "<style scoped>\n",
       "    .dataframe tbody tr th:only-of-type {\n",
       "        vertical-align: middle;\n",
       "    }\n",
       "\n",
       "    .dataframe tbody tr th {\n",
       "        vertical-align: top;\n",
       "    }\n",
       "\n",
       "    .dataframe thead th {\n",
       "        text-align: right;\n",
       "    }\n",
       "</style>\n",
       "<table border=\"1\" class=\"dataframe\">\n",
       "  <thead>\n",
       "    <tr style=\"text-align: right;\">\n",
       "      <th></th>\n",
       "      <th>text</th>\n",
       "      <th>n_company</th>\n",
       "    </tr>\n",
       "  </thead>\n",
       "  <tbody>\n",
       "    <tr>\n",
       "      <th>1014</th>\n",
       "      <td>industry</td>\n",
       "      <td>28</td>\n",
       "    </tr>\n",
       "    <tr>\n",
       "      <th>984</th>\n",
       "      <td>hands-on</td>\n",
       "      <td>28</td>\n",
       "    </tr>\n",
       "    <tr>\n",
       "      <th>1186</th>\n",
       "      <td>relevant</td>\n",
       "      <td>24</td>\n",
       "    </tr>\n",
       "    <tr>\n",
       "      <th>935</th>\n",
       "      <td>equivalent</td>\n",
       "      <td>24</td>\n",
       "    </tr>\n",
       "    <tr>\n",
       "      <th>1386</th>\n",
       "      <td>work</td>\n",
       "      <td>18</td>\n",
       "    </tr>\n",
       "    <tr>\n",
       "      <th>1141</th>\n",
       "      <td>professional</td>\n",
       "      <td>16</td>\n",
       "    </tr>\n",
       "    <tr>\n",
       "      <th>244</th>\n",
       "      <td>Demonstrated</td>\n",
       "      <td>16</td>\n",
       "    </tr>\n",
       "    <tr>\n",
       "      <th>431</th>\n",
       "      <td>Prior</td>\n",
       "      <td>15</td>\n",
       "    </tr>\n",
       "    <tr>\n",
       "      <th>276</th>\n",
       "      <td>Extensive</td>\n",
       "      <td>15</td>\n",
       "    </tr>\n",
       "    <tr>\n",
       "      <th>1392</th>\n",
       "      <td>your</td>\n",
       "      <td>14</td>\n",
       "    </tr>\n",
       "    <tr>\n",
       "      <th>568</th>\n",
       "      <td>Strong</td>\n",
       "      <td>14</td>\n",
       "    </tr>\n",
       "    <tr>\n",
       "      <th>424</th>\n",
       "      <td>Previous</td>\n",
       "      <td>13</td>\n",
       "    </tr>\n",
       "    <tr>\n",
       "      <th>319</th>\n",
       "      <td>Hands-on</td>\n",
       "      <td>13</td>\n",
       "    </tr>\n",
       "    <tr>\n",
       "      <th>1288</th>\n",
       "      <td>the</td>\n",
       "      <td>13</td>\n",
       "    </tr>\n",
       "    <tr>\n",
       "      <th>452</th>\n",
       "      <td>Proven</td>\n",
       "      <td>12</td>\n",
       "    </tr>\n",
       "    <tr>\n",
       "      <th>958</th>\n",
       "      <td>extensive</td>\n",
       "      <td>12</td>\n",
       "    </tr>\n",
       "    <tr>\n",
       "      <th>524</th>\n",
       "      <td>SQL</td>\n",
       "      <td>11</td>\n",
       "    </tr>\n",
       "    <tr>\n",
       "      <th>61</th>\n",
       "      <td>3+ years</td>\n",
       "      <td>11</td>\n",
       "    </tr>\n",
       "    <tr>\n",
       "      <th>1209</th>\n",
       "      <td>relevant work</td>\n",
       "      <td>11</td>\n",
       "    </tr>\n",
       "    <tr>\n",
       "      <th>670</th>\n",
       "      <td>a plus</td>\n",
       "      <td>10</td>\n",
       "    </tr>\n",
       "    <tr>\n",
       "      <th>1170</th>\n",
       "      <td>related</td>\n",
       "      <td>10</td>\n",
       "    </tr>\n",
       "    <tr>\n",
       "      <th>1101</th>\n",
       "      <td>practical</td>\n",
       "      <td>9</td>\n",
       "    </tr>\n",
       "    <tr>\n",
       "      <th>1317</th>\n",
       "      <td>the customer</td>\n",
       "      <td>9</td>\n",
       "    </tr>\n",
       "    <tr>\n",
       "      <th>752</th>\n",
       "      <td>an asset</td>\n",
       "      <td>9</td>\n",
       "    </tr>\n",
       "    <tr>\n",
       "      <th>853</th>\n",
       "      <td>customer</td>\n",
       "      <td>9</td>\n",
       "    </tr>\n",
       "    <tr>\n",
       "      <th>592</th>\n",
       "      <td>The</td>\n",
       "      <td>8</td>\n",
       "    </tr>\n",
       "    <tr>\n",
       "      <th>87</th>\n",
       "      <td>5+ years</td>\n",
       "      <td>8</td>\n",
       "    </tr>\n",
       "    <tr>\n",
       "      <th>1118</th>\n",
       "      <td>previous</td>\n",
       "      <td>8</td>\n",
       "    </tr>\n",
       "    <tr>\n",
       "      <th>1199</th>\n",
       "      <td>relevant industry</td>\n",
       "      <td>8</td>\n",
       "    </tr>\n",
       "    <tr>\n",
       "      <th>1111</th>\n",
       "      <td>preferred</td>\n",
       "      <td>8</td>\n",
       "    </tr>\n",
       "    <tr>\n",
       "      <th>70</th>\n",
       "      <td>3-5 years</td>\n",
       "      <td>8</td>\n",
       "    </tr>\n",
       "    <tr>\n",
       "      <th>1351</th>\n",
       "      <td>the user</td>\n",
       "      <td>8</td>\n",
       "    </tr>\n",
       "    <tr>\n",
       "      <th>944</th>\n",
       "      <td>equivalent work</td>\n",
       "      <td>8</td>\n",
       "    </tr>\n",
       "    <tr>\n",
       "      <th>460</th>\n",
       "      <td>Python</td>\n",
       "      <td>7</td>\n",
       "    </tr>\n",
       "    <tr>\n",
       "      <th>449</th>\n",
       "      <td>Programming</td>\n",
       "      <td>7</td>\n",
       "    </tr>\n",
       "    <tr>\n",
       "      <th>858</th>\n",
       "      <td>data</td>\n",
       "      <td>7</td>\n",
       "    </tr>\n",
       "    <tr>\n",
       "      <th>555</th>\n",
       "      <td>Some</td>\n",
       "      <td>7</td>\n",
       "    </tr>\n",
       "    <tr>\n",
       "      <th>415</th>\n",
       "      <td>Practical</td>\n",
       "      <td>7</td>\n",
       "    </tr>\n",
       "    <tr>\n",
       "      <th>1228</th>\n",
       "      <td>significant</td>\n",
       "      <td>7</td>\n",
       "    </tr>\n",
       "    <tr>\n",
       "      <th>288</th>\n",
       "      <td>Friday</td>\n",
       "      <td>7</td>\n",
       "    </tr>\n",
       "    <tr>\n",
       "      <th>1401</th>\n",
       "      <td>·</td>\n",
       "      <td>7</td>\n",
       "    </tr>\n",
       "    <tr>\n",
       "      <th>1375</th>\n",
       "      <td>user</td>\n",
       "      <td>7</td>\n",
       "    </tr>\n",
       "    <tr>\n",
       "      <th>1121</th>\n",
       "      <td>prior</td>\n",
       "      <td>6</td>\n",
       "    </tr>\n",
       "    <tr>\n",
       "      <th>0</th>\n",
       "      <td>(</td>\n",
       "      <td>6</td>\n",
       "    </tr>\n",
       "    <tr>\n",
       "      <th>287</th>\n",
       "      <td>Friday</td>\n",
       "      <td>6</td>\n",
       "    </tr>\n",
       "    <tr>\n",
       "      <th>1352</th>\n",
       "      <td>their</td>\n",
       "      <td>6</td>\n",
       "    </tr>\n",
       "    <tr>\n",
       "      <th>445</th>\n",
       "      <td>Professional</td>\n",
       "      <td>6</td>\n",
       "    </tr>\n",
       "    <tr>\n",
       "      <th>547</th>\n",
       "      <td>Significant</td>\n",
       "      <td>5</td>\n",
       "    </tr>\n",
       "    <tr>\n",
       "      <th>1388</th>\n",
       "      <td>working</td>\n",
       "      <td>5</td>\n",
       "    </tr>\n",
       "    <tr>\n",
       "      <th>42</th>\n",
       "      <td>2+ years</td>\n",
       "      <td>5</td>\n",
       "    </tr>\n",
       "  </tbody>\n",
       "</table>\n",
       "</div>"
      ],
      "text/plain": [
       "                   text  n_company\n",
       "1014           industry         28\n",
       "984            hands-on         28\n",
       "1186           relevant         24\n",
       "935          equivalent         24\n",
       "1386               work         18\n",
       "1141       professional         16\n",
       "244        Demonstrated         16\n",
       "431               Prior         15\n",
       "276           Extensive         15\n",
       "1392               your         14\n",
       "568              Strong         14\n",
       "424            Previous         13\n",
       "319            Hands-on         13\n",
       "1288                the         13\n",
       "452              Proven         12\n",
       "958           extensive         12\n",
       "524                 SQL         11\n",
       "61             3+ years         11\n",
       "1209      relevant work         11\n",
       "670              a plus         10\n",
       "1170            related         10\n",
       "1101          practical          9\n",
       "1317       the customer          9\n",
       "752            an asset          9\n",
       "853            customer          9\n",
       "592                 The          8\n",
       "87             5+ years          8\n",
       "1118           previous          8\n",
       "1199  relevant industry          8\n",
       "1111          preferred          8\n",
       "70            3-5 years          8\n",
       "1351           the user          8\n",
       "944     equivalent work          8\n",
       "460              Python          7\n",
       "449         Programming          7\n",
       "858                data          7\n",
       "555                Some          7\n",
       "415           Practical          7\n",
       "1228        significant          7\n",
       "288            Friday            7\n",
       "1401                  ·          7\n",
       "1375               user          7\n",
       "1121              prior          6\n",
       "0                     (          6\n",
       "287              Friday          6\n",
       "1352              their          6\n",
       "445        Professional          6\n",
       "547         Significant          5\n",
       "1388            working          5\n",
       "42             2+ years          5"
      ]
     },
     "execution_count": 34,
     "metadata": {},
     "output_type": "execute_result"
    }
   ],
   "source": [
    "aggregate_df(ent_df).head(50)\n"
   ]
  },
  {
   "cell_type": "code",
   "execution_count": 35,
   "id": "decacb25",
   "metadata": {},
   "outputs": [
    {
     "data": {
      "text/plain": [
       "'\\\\b(?:previous|prior|following|recent|the above|past|proven|demonstrable|demonstrated|relevant|significant|practical|essential|equivalent|desirable|required|considerable|similar|working|specific|qualified|direct|hands on|handson|hands-onstrong|solid|good|substantial|excellent|the right|valuable|invaluable|some|any|none|much|extensive|no|more|your|their|great|years|months)\\\\b'"
      ]
     },
     "execution_count": 35,
     "metadata": {},
     "output_type": "execute_result"
    }
   ],
   "source": [
    "experience_qualifiers = ['previous', 'prior', 'following', 'recent', 'the above', 'past',\n",
    "                         \n",
    "                         'proven', 'demonstrable', 'demonstrated', 'relevant', 'significant', 'practical',\n",
    "                         'essential', 'equivalent', 'desirable', 'required', 'considerable', 'similar',\n",
    "                         'working', 'specific', 'qualified', 'direct', 'hands on', 'handson', 'hands-on'\n",
    "                         \n",
    "                         'strong', 'solid', 'good', 'substantial', 'excellent', 'the right', 'valuable', 'invaluable',\n",
    "                         \n",
    "                         'some', 'any', 'none', 'much', 'extensive', 'no', 'more',\n",
    "                         'your', 'their', 'great',\n",
    "                         'years', 'months',\n",
    "                        ]\n",
    "\n",
    "stopwords = ['a', 'an', '*', '**', '.', 'this', 'the', ':', 'Skills']\n",
    "\n",
    "experience_qualifier_pattern = rf'\\b(?:{\"|\".join(experience_qualifiers)})\\b'\n",
    "\n",
    "experience_qualifier_pattern"
   ]
  },
  {
   "cell_type": "code",
   "execution_count": 36,
   "id": "619e8a18",
   "metadata": {
    "scrolled": true
   },
   "outputs": [
    {
     "data": {
      "text/html": [
       "<div>\n",
       "<style scoped>\n",
       "    .dataframe tbody tr th:only-of-type {\n",
       "        vertical-align: middle;\n",
       "    }\n",
       "\n",
       "    .dataframe tbody tr th {\n",
       "        vertical-align: top;\n",
       "    }\n",
       "\n",
       "    .dataframe thead th {\n",
       "        text-align: right;\n",
       "    }\n",
       "</style>\n",
       "<table border=\"1\" class=\"dataframe\">\n",
       "  <thead>\n",
       "    <tr style=\"text-align: right;\">\n",
       "      <th></th>\n",
       "      <th>text</th>\n",
       "      <th>n_company</th>\n",
       "    </tr>\n",
       "  </thead>\n",
       "  <tbody>\n",
       "    <tr>\n",
       "      <th>725</th>\n",
       "      <td>hands-on</td>\n",
       "      <td>28</td>\n",
       "    </tr>\n",
       "    <tr>\n",
       "      <th>753</th>\n",
       "      <td>industry</td>\n",
       "      <td>28</td>\n",
       "    </tr>\n",
       "    <tr>\n",
       "      <th>1026</th>\n",
       "      <td>work</td>\n",
       "      <td>18</td>\n",
       "    </tr>\n",
       "    <tr>\n",
       "      <th>858</th>\n",
       "      <td>professional</td>\n",
       "      <td>16</td>\n",
       "    </tr>\n",
       "    <tr>\n",
       "      <th>384</th>\n",
       "      <td>Strong</td>\n",
       "      <td>14</td>\n",
       "    </tr>\n",
       "    <tr>\n",
       "      <th>206</th>\n",
       "      <td>Hands-on</td>\n",
       "      <td>13</td>\n",
       "    </tr>\n",
       "    <tr>\n",
       "      <th>351</th>\n",
       "      <td>SQL</td>\n",
       "      <td>11</td>\n",
       "    </tr>\n",
       "    <tr>\n",
       "      <th>467</th>\n",
       "      <td>a plus</td>\n",
       "      <td>10</td>\n",
       "    </tr>\n",
       "    <tr>\n",
       "      <th>880</th>\n",
       "      <td>related</td>\n",
       "      <td>10</td>\n",
       "    </tr>\n",
       "    <tr>\n",
       "      <th>621</th>\n",
       "      <td>customer</td>\n",
       "      <td>9</td>\n",
       "    </tr>\n",
       "    <tr>\n",
       "      <th>537</th>\n",
       "      <td>an asset</td>\n",
       "      <td>9</td>\n",
       "    </tr>\n",
       "    <tr>\n",
       "      <th>974</th>\n",
       "      <td>the customer</td>\n",
       "      <td>9</td>\n",
       "    </tr>\n",
       "    <tr>\n",
       "      <th>404</th>\n",
       "      <td>The</td>\n",
       "      <td>8</td>\n",
       "    </tr>\n",
       "    <tr>\n",
       "      <th>1005</th>\n",
       "      <td>the user</td>\n",
       "      <td>8</td>\n",
       "    </tr>\n",
       "    <tr>\n",
       "      <th>836</th>\n",
       "      <td>preferred</td>\n",
       "      <td>8</td>\n",
       "    </tr>\n",
       "    <tr>\n",
       "      <th>626</th>\n",
       "      <td>data</td>\n",
       "      <td>7</td>\n",
       "    </tr>\n",
       "    <tr>\n",
       "      <th>308</th>\n",
       "      <td>Python</td>\n",
       "      <td>7</td>\n",
       "    </tr>\n",
       "    <tr>\n",
       "      <th>302</th>\n",
       "      <td>Programming</td>\n",
       "      <td>7</td>\n",
       "    </tr>\n",
       "    <tr>\n",
       "      <th>181</th>\n",
       "      <td>Friday</td>\n",
       "      <td>7</td>\n",
       "    </tr>\n",
       "    <tr>\n",
       "      <th>1019</th>\n",
       "      <td>user</td>\n",
       "      <td>7</td>\n",
       "    </tr>\n",
       "    <tr>\n",
       "      <th>1031</th>\n",
       "      <td>·</td>\n",
       "      <td>7</td>\n",
       "    </tr>\n",
       "    <tr>\n",
       "      <th>298</th>\n",
       "      <td>Professional</td>\n",
       "      <td>6</td>\n",
       "    </tr>\n",
       "    <tr>\n",
       "      <th>180</th>\n",
       "      <td>Friday</td>\n",
       "      <td>6</td>\n",
       "    </tr>\n",
       "    <tr>\n",
       "      <th>0</th>\n",
       "      <td>(</td>\n",
       "      <td>6</td>\n",
       "    </tr>\n",
       "    <tr>\n",
       "      <th>862</th>\n",
       "      <td>programming</td>\n",
       "      <td>5</td>\n",
       "    </tr>\n",
       "    <tr>\n",
       "      <th>922</th>\n",
       "      <td>statistics</td>\n",
       "      <td>5</td>\n",
       "    </tr>\n",
       "    <tr>\n",
       "      <th>366</th>\n",
       "      <td>Scala</td>\n",
       "      <td>4</td>\n",
       "    </tr>\n",
       "    <tr>\n",
       "      <th>375</th>\n",
       "      <td>Spark</td>\n",
       "      <td>4</td>\n",
       "    </tr>\n",
       "    <tr>\n",
       "      <th>398</th>\n",
       "      <td>Tableau</td>\n",
       "      <td>4</td>\n",
       "    </tr>\n",
       "    <tr>\n",
       "      <th>416</th>\n",
       "      <td>Work</td>\n",
       "      <td>4</td>\n",
       "    </tr>\n",
       "    <tr>\n",
       "      <th>581</th>\n",
       "      <td>business</td>\n",
       "      <td>4</td>\n",
       "    </tr>\n",
       "    <tr>\n",
       "      <th>131</th>\n",
       "      <td>Data Science</td>\n",
       "      <td>4</td>\n",
       "    </tr>\n",
       "    <tr>\n",
       "      <th>646</th>\n",
       "      <td>data science</td>\n",
       "      <td>4</td>\n",
       "    </tr>\n",
       "    <tr>\n",
       "      <th>966</th>\n",
       "      <td>the best</td>\n",
       "      <td>4</td>\n",
       "    </tr>\n",
       "    <tr>\n",
       "      <th>699</th>\n",
       "      <td>experience</td>\n",
       "      <td>4</td>\n",
       "    </tr>\n",
       "    <tr>\n",
       "      <th>927</th>\n",
       "      <td>strong</td>\n",
       "      <td>4</td>\n",
       "    </tr>\n",
       "    <tr>\n",
       "      <th>629</th>\n",
       "      <td>data analysis</td>\n",
       "      <td>3</td>\n",
       "    </tr>\n",
       "    <tr>\n",
       "      <th>863</th>\n",
       "      <td>progressive</td>\n",
       "      <td>3</td>\n",
       "    </tr>\n",
       "    <tr>\n",
       "      <th>135</th>\n",
       "      <td>Data integration</td>\n",
       "      <td>3</td>\n",
       "    </tr>\n",
       "    <tr>\n",
       "      <th>1027</th>\n",
       "      <td>workflows</td>\n",
       "      <td>3</td>\n",
       "    </tr>\n",
       "    <tr>\n",
       "      <th>941</th>\n",
       "      <td>technical</td>\n",
       "      <td>3</td>\n",
       "    </tr>\n",
       "    <tr>\n",
       "      <th>281</th>\n",
       "      <td>Power BI</td>\n",
       "      <td>3</td>\n",
       "    </tr>\n",
       "    <tr>\n",
       "      <th>908</th>\n",
       "      <td>software development</td>\n",
       "      <td>3</td>\n",
       "    </tr>\n",
       "    <tr>\n",
       "      <th>874</th>\n",
       "      <td>real world</td>\n",
       "      <td>3</td>\n",
       "    </tr>\n",
       "    <tr>\n",
       "      <th>861</th>\n",
       "      <td>professional work</td>\n",
       "      <td>3</td>\n",
       "    </tr>\n",
       "    <tr>\n",
       "      <th>352</th>\n",
       "      <td>SQL</td>\n",
       "      <td>3</td>\n",
       "    </tr>\n",
       "    <tr>\n",
       "      <th>546</th>\n",
       "      <td>an asset)</td>\n",
       "      <td>3</td>\n",
       "    </tr>\n",
       "    <tr>\n",
       "      <th>789</th>\n",
       "      <td>modeling</td>\n",
       "      <td>3</td>\n",
       "    </tr>\n",
       "    <tr>\n",
       "      <th>732</th>\n",
       "      <td>hands-on work</td>\n",
       "      <td>3</td>\n",
       "    </tr>\n",
       "    <tr>\n",
       "      <th>724</th>\n",
       "      <td>global</td>\n",
       "      <td>3</td>\n",
       "    </tr>\n",
       "  </tbody>\n",
       "</table>\n",
       "</div>"
      ],
      "text/plain": [
       "                      text  n_company\n",
       "725               hands-on         28\n",
       "753               industry         28\n",
       "1026                  work         18\n",
       "858           professional         16\n",
       "384                 Strong         14\n",
       "206               Hands-on         13\n",
       "351                    SQL         11\n",
       "467                 a plus         10\n",
       "880                related         10\n",
       "621               customer          9\n",
       "537               an asset          9\n",
       "974           the customer          9\n",
       "404                    The          8\n",
       "1005              the user          8\n",
       "836              preferred          8\n",
       "626                   data          7\n",
       "308                 Python          7\n",
       "302            Programming          7\n",
       "181               Friday            7\n",
       "1019                  user          7\n",
       "1031                     ·          7\n",
       "298           Professional          6\n",
       "180                 Friday          6\n",
       "0                        (          6\n",
       "862            programming          5\n",
       "922             statistics          5\n",
       "366                  Scala          4\n",
       "375                  Spark          4\n",
       "398                Tableau          4\n",
       "416                   Work          4\n",
       "581               business          4\n",
       "131           Data Science          4\n",
       "646           data science          4\n",
       "966               the best          4\n",
       "699             experience          4\n",
       "927                 strong          4\n",
       "629          data analysis          3\n",
       "863            progressive          3\n",
       "135       Data integration          3\n",
       "1027             workflows          3\n",
       "941              technical          3\n",
       "281               Power BI          3\n",
       "908   software development          3\n",
       "874             real world          3\n",
       "861      professional work          3\n",
       "352                  SQL            3\n",
       "546              an asset)          3\n",
       "789               modeling          3\n",
       "732          hands-on work          3\n",
       "724                 global          3"
      ]
     },
     "execution_count": 36,
     "metadata": {},
     "output_type": "execute_result"
    }
   ],
   "source": [
    "aggregate_df(ent_df[(~ent_df.text.str.lower().str.contains(experience_qualifier_pattern)) & # Not a qualifier\n",
    "                     ~ent_df.text.isin(stopwords)]).head(50)"
   ]
  },
  {
   "cell_type": "code",
   "execution_count": 37,
   "id": "83ba7d6f",
   "metadata": {},
   "outputs": [],
   "source": [
    "def extract_adp_experience(doc, label='EXPERIENCE'):\n",
    "    for tok in doc:\n",
    "        if tok.lower_ == 'experience':\n",
    "            for child in tok.rights:\n",
    "                if child.dep_ == 'prep':\n",
    "                    for obj in child.children:\n",
    "                        if obj.dep_ == 'pobj':\n",
    "                            yield label, obj.left_edge.i, obj.i+1"
   ]
  },
  {
   "cell_type": "code",
   "execution_count": 38,
   "id": "7ffffed9",
   "metadata": {
    "scrolled": true
   },
   "outputs": [
    {
     "data": {
      "text/html": [
       "<span class=\"tex2jax_ignore\"><div class=\"entities\" style=\"line-height: 2.5; direction: ltr\">Key Responsibilities Create MySQL queries to retrieve metrics from our database Work with BigQuery to create a data pipeline Use tray.io to fetch  unify and push data Create dashboards in our BI tool Manage properties from intercom and Hubspot that need to be fetched and pushed Create a system to monitor and keep data organized Job Benefits Profit-sharing  distributed 3 times a year Frequent promotions 3 weeks vacation and paid sick days Happy Hour every Friday Extended health benefits Continued education allowance Annual fitness allowance Work from anywhere in the world Join a bootstrapped  product-focused  &amp; customer-oriented team Minimum 3+ years of data experience  ideally with SaaS Experience with \n",
       "<mark class=\"entity\" style=\"background: lightgreen; padding: 0.45em 0.6em; margin: 0 0.25em; line-height: 1; border-radius: 0.35em;\">\n",
       "    MySQL &amp; BigQuery Experience\n",
       "    <span style=\"font-size: 0.8em; font-weight: bold; line-height: 1; border-radius: 0.35em; vertical-align: middle; margin-left: 0.5rem\">EXPERIENCE</span>\n",
       "</mark>\n",
       " creating dashboards in a BI tool Experience creating workflows Experience using Tray.io (nice to have) College / university degree About AgencyAnalytics  AgencyAnalytics is a reporting platform that helps digital agencies automate their client reporting.     </div></span>"
      ],
      "text/plain": [
       "<IPython.core.display.HTML object>"
      ]
     },
     "metadata": {},
     "output_type": "display_data"
    },
    {
     "data": {
      "text/html": [
       "<span class=\"tex2jax_ignore\"><div class=\"entities\" style=\"line-height: 2.5; direction: ltr\">The ideal candidate is a junior environmental engineering professional or recent graduate with an environmental engineering degree or diploma with some previous relevant \n",
       "<mark class=\"entity\" style=\"background: pink; padding: 0.45em 0.6em; margin: 0 0.25em; line-height: 1; border-radius: 0.35em;\">\n",
       "    experience\n",
       "    <span style=\"font-size: 0.8em; font-weight: bold; line-height: 1; border-radius: 0.35em; vertical-align: middle; margin-left: 0.5rem\">MISSING</span>\n",
       "</mark>\n",
       " which would be an asset.  </div></span>"
      ],
      "text/plain": [
       "<IPython.core.display.HTML object>"
      ]
     },
     "metadata": {},
     "output_type": "display_data"
    },
    {
     "data": {
      "text/html": [
       "<span class=\"tex2jax_ignore\"><div class=\"entities\" style=\"line-height: 2.5; direction: ltr\">Previous environmental or consulting work \n",
       "<mark class=\"entity\" style=\"background: pink; padding: 0.45em 0.6em; margin: 0 0.25em; line-height: 1; border-radius: 0.35em;\">\n",
       "    experience\n",
       "    <span style=\"font-size: 0.8em; font-weight: bold; line-height: 1; border-radius: 0.35em; vertical-align: middle; margin-left: 0.5rem\">MISSING</span>\n",
       "</mark>\n",
       " is preferred. </div></span>"
      ],
      "text/plain": [
       "<IPython.core.display.HTML object>"
      ]
     },
     "metadata": {},
     "output_type": "display_data"
    },
    {
     "data": {
      "text/html": [
       "<span class=\"tex2jax_ignore\"><div class=\"entities\" style=\"line-height: 2.5; direction: ltr\">2+ years of non-internship professional \n",
       "<mark class=\"entity\" style=\"background: pink; padding: 0.45em 0.6em; margin: 0 0.25em; line-height: 1; border-radius: 0.35em;\">\n",
       "    experience\n",
       "    <span style=\"font-size: 0.8em; font-weight: bold; line-height: 1; border-radius: 0.35em; vertical-align: middle; margin-left: 0.5rem\">MISSING</span>\n",
       "</mark>\n",
       " with machine learning  statistical modeling  data mining  and/or analytics techniques. </div></span>"
      ],
      "text/plain": [
       "<IPython.core.display.HTML object>"
      ]
     },
     "metadata": {},
     "output_type": "display_data"
    },
    {
     "data": {
      "text/html": [
       "<span class=\"tex2jax_ignore\"><div class=\"entities\" style=\"line-height: 2.5; direction: ltr\">2+ years of experience with \n",
       "<mark class=\"entity\" style=\"background: lightgreen; padding: 0.45em 0.6em; margin: 0 0.25em; line-height: 1; border-radius: 0.35em;\">\n",
       "    Python  R\n",
       "    <span style=\"font-size: 0.8em; font-weight: bold; line-height: 1; border-radius: 0.35em; vertical-align: middle; margin-left: 0.5rem\">EXPERIENCE</span>\n",
       "</mark>\n",
       "  or other scripting languages. </div></span>"
      ],
      "text/plain": [
       "<IPython.core.display.HTML object>"
      ]
     },
     "metadata": {},
     "output_type": "display_data"
    },
    {
     "data": {
      "text/html": [
       "<span class=\"tex2jax_ignore\"><div class=\"entities\" style=\"line-height: 2.5; direction: ltr\">Are you interested in using the latest advances in machine learning  computer vision  and augmented reality to build online customer experiences for Beauty products that can equal or even surpass an in-store \n",
       "<mark class=\"entity\" style=\"background: pink; padding: 0.45em 0.6em; margin: 0 0.25em; line-height: 1; border-radius: 0.35em;\">\n",
       "    experience\n",
       "    <span style=\"font-size: 0.8em; font-weight: bold; line-height: 1; border-radius: 0.35em; vertical-align: middle; margin-left: 0.5rem\">MISSING</span>\n",
       "</mark>\n",
       "?  </div></span>"
      ],
      "text/plain": [
       "<IPython.core.display.HTML object>"
      ]
     },
     "metadata": {},
     "output_type": "display_data"
    },
    {
     "data": {
      "text/html": [
       "<span class=\"tex2jax_ignore\"><div class=\"entities\" style=\"line-height: 2.5; direction: ltr\">You will have an opportunity to revolutionize the customer shopping experience across \n",
       "<mark class=\"entity\" style=\"background: lightgreen; padding: 0.45em 0.6em; margin: 0 0.25em; line-height: 1; border-radius: 0.35em;\">\n",
       "    the world's most extensive catalog\n",
       "    <span style=\"font-size: 0.8em; font-weight: bold; line-height: 1; border-radius: 0.35em; vertical-align: middle; margin-left: 0.5rem\">EXPERIENCE</span>\n",
       "</mark>\n",
       " of beauty products. </div></span>"
      ],
      "text/plain": [
       "<IPython.core.display.HTML object>"
      ]
     },
     "metadata": {},
     "output_type": "display_data"
    },
    {
     "data": {
      "text/html": [
       "<span class=\"tex2jax_ignore\"><div class=\"entities\" style=\"line-height: 2.5; direction: ltr\">You will collaborate with product managers  software engineers  UX designers  scientists  and the broader Amazon tech community to build solutions that enhance the beauty shopping \n",
       "<mark class=\"entity\" style=\"background: pink; padding: 0.45em 0.6em; margin: 0 0.25em; line-height: 1; border-radius: 0.35em;\">\n",
       "    experience\n",
       "    <span style=\"font-size: 0.8em; font-weight: bold; line-height: 1; border-radius: 0.35em; vertical-align: middle; margin-left: 0.5rem\">MISSING</span>\n",
       "</mark>\n",
       " across all surfaces  including desktop  mobile devices  and other Amazon devices.  </div></span>"
      ],
      "text/plain": [
       "<IPython.core.display.HTML object>"
      ]
     },
     "metadata": {},
     "output_type": "display_data"
    },
    {
     "data": {
      "text/html": [
       "<span class=\"tex2jax_ignore\"><div class=\"entities\" style=\"line-height: 2.5; direction: ltr\">We are a small group of engineers  scientists  product managers  and designers who drive technological innovation to improve customer \n",
       "<mark class=\"entity\" style=\"background: pink; padding: 0.45em 0.6em; margin: 0 0.25em; line-height: 1; border-radius: 0.35em;\">\n",
       "    experience\n",
       "    <span style=\"font-size: 0.8em; font-weight: bold; line-height: 1; border-radius: 0.35em; vertical-align: middle; margin-left: 0.5rem\">MISSING</span>\n",
       "</mark>\n",
       ". </div></span>"
      ],
      "text/plain": [
       "<IPython.core.display.HTML object>"
      ]
     },
     "metadata": {},
     "output_type": "display_data"
    },
    {
     "data": {
      "text/html": [
       "<span class=\"tex2jax_ignore\"><div class=\"entities\" style=\"line-height: 2.5; direction: ltr\">\n",
       "<mark class=\"entity\" style=\"background: pink; padding: 0.45em 0.6em; margin: 0 0.25em; line-height: 1; border-radius: 0.35em;\">\n",
       "    Experience\n",
       "    <span style=\"font-size: 0.8em; font-weight: bold; line-height: 1; border-radius: 0.35em; vertical-align: middle; margin-left: 0.5rem\">MISSING</span>\n",
       "</mark>\n",
       " applying various machine learning techniques  and understanding the key parameters that affect their performance. </div></span>"
      ],
      "text/plain": [
       "<IPython.core.display.HTML object>"
      ]
     },
     "metadata": {},
     "output_type": "display_data"
    },
    {
     "data": {
      "text/html": [
       "<span class=\"tex2jax_ignore\"><div class=\"entities\" style=\"line-height: 2.5; direction: ltr\">\n",
       "<mark class=\"entity\" style=\"background: pink; padding: 0.45em 0.6em; margin: 0 0.25em; line-height: 1; border-radius: 0.35em;\">\n",
       "    Experience\n",
       "    <span style=\"font-size: 0.8em; font-weight: bold; line-height: 1; border-radius: 0.35em; vertical-align: middle; margin-left: 0.5rem\">MISSING</span>\n",
       "</mark>\n",
       " partnering with engineering teams to build and test production systems. </div></span>"
      ],
      "text/plain": [
       "<IPython.core.display.HTML object>"
      ]
     },
     "metadata": {},
     "output_type": "display_data"
    },
    {
     "data": {
      "text/html": [
       "<span class=\"tex2jax_ignore\"><div class=\"entities\" style=\"line-height: 2.5; direction: ltr\">Experience in \n",
       "<mark class=\"entity\" style=\"background: lightgreen; padding: 0.45em 0.6em; margin: 0 0.25em; line-height: 1; border-radius: 0.35em;\">\n",
       "    Frequentist and Bayesian Statistical methods\n",
       "    <span style=\"font-size: 0.8em; font-weight: bold; line-height: 1; border-radius: 0.35em; vertical-align: middle; margin-left: 0.5rem\">EXPERIENCE</span>\n",
       "</mark>\n",
       " (2+ years) </div></span>"
      ],
      "text/plain": [
       "<IPython.core.display.HTML object>"
      ]
     },
     "metadata": {},
     "output_type": "display_data"
    },
    {
     "data": {
      "text/html": [
       "<span class=\"tex2jax_ignore\"><div class=\"entities\" style=\"line-height: 2.5; direction: ltr\">\n",
       "<mark class=\"entity\" style=\"background: pink; padding: 0.45em 0.6em; margin: 0 0.25em; line-height: 1; border-radius: 0.35em;\">\n",
       "    Experience\n",
       "    <span style=\"font-size: 0.8em; font-weight: bold; line-height: 1; border-radius: 0.35em; vertical-align: middle; margin-left: 0.5rem\">MISSING</span>\n",
       "</mark>\n",
       " working with Machine Learning algorithms  Probabilistic Models  and/or other statistical modelling approaches (2+ years) </div></span>"
      ],
      "text/plain": [
       "<IPython.core.display.HTML object>"
      ]
     },
     "metadata": {},
     "output_type": "display_data"
    },
    {
     "data": {
      "text/html": [
       "<span class=\"tex2jax_ignore\"><div class=\"entities\" style=\"line-height: 2.5; direction: ltr\">Experience with \n",
       "<mark class=\"entity\" style=\"background: lightgreen; padding: 0.45em 0.6em; margin: 0 0.25em; line-height: 1; border-radius: 0.35em;\">\n",
       "    modern R packages\n",
       "    <span style=\"font-size: 0.8em; font-weight: bold; line-height: 1; border-radius: 0.35em; vertical-align: middle; margin-left: 0.5rem\">EXPERIENCE</span>\n",
       "</mark>\n",
       " such as dplyr  ggplot2  data.table  etc Experience in \n",
       "<mark class=\"entity\" style=\"background: lightgreen; padding: 0.45em 0.6em; margin: 0 0.25em; line-height: 1; border-radius: 0.35em;\">\n",
       "    front-end R technologies\n",
       "    <span style=\"font-size: 0.8em; font-weight: bold; line-height: 1; border-radius: 0.35em; vertical-align: middle; margin-left: 0.5rem\">EXPERIENCE</span>\n",
       "</mark>\n",
       " for data products such as ShinyR  Flexdashboard Ability to write complex SQL queries Working knowledge of software engineering fundamentals and workflows Experience working with container orchestration platforms such as Kubernetes or Docker Swarm Cloud Computing Experience Authority to legally work in Canada We offer: An environment passionate about growth and learning Competitive salary with bonus Fitness subsidy program Free beverages in the office Workplace that is conveniently located along the Yonge/Sheppard line What we are looking for: This is a key role within the team and would suit someone who has a strong passion for working with data and data science. </div></span>"
      ],
      "text/plain": [
       "<IPython.core.display.HTML object>"
      ]
     },
     "metadata": {},
     "output_type": "display_data"
    },
    {
     "data": {
      "text/html": [
       "<span class=\"tex2jax_ignore\"><div class=\"entities\" style=\"line-height: 2.5; direction: ltr\">\n",
       "<mark class=\"entity\" style=\"background: pink; padding: 0.45em 0.6em; margin: 0 0.25em; line-height: 1; border-radius: 0.35em;\">\n",
       "    Experience\n",
       "    <span style=\"font-size: 0.8em; font-weight: bold; line-height: 1; border-radius: 0.35em; vertical-align: middle; margin-left: 0.5rem\">MISSING</span>\n",
       "</mark>\n",
       ": R programming: 3 years (preferred) Frequentist and/or Bayesian statistical: 2 years (preferred) </div></span>"
      ],
      "text/plain": [
       "<IPython.core.display.HTML object>"
      ]
     },
     "metadata": {},
     "output_type": "display_data"
    },
    {
     "data": {
      "text/html": [
       "<span class=\"tex2jax_ignore\"><div class=\"entities\" style=\"line-height: 2.5; direction: ltr\">We love to turn data into stories - stories about money falling through the cracks  success stories about our products and services  but most importantly stories about our customers and how we can enhance their \n",
       "<mark class=\"entity\" style=\"background: pink; padding: 0.45em 0.6em; margin: 0 0.25em; line-height: 1; border-radius: 0.35em;\">\n",
       "    experience\n",
       "    <span style=\"font-size: 0.8em; font-weight: bold; line-height: 1; border-radius: 0.35em; vertical-align: middle; margin-left: 0.5rem\">MISSING</span>\n",
       "</mark>\n",
       ". </div></span>"
      ],
      "text/plain": [
       "<IPython.core.display.HTML object>"
      ]
     },
     "metadata": {},
     "output_type": "display_data"
    },
    {
     "data": {
      "text/html": [
       "<span class=\"tex2jax_ignore\"><div class=\"entities\" style=\"line-height: 2.5; direction: ltr\">You're the missing piece of the puzzle You are analytical and outcome-oriented with a proven ability to synthesize data into actionable insights You can work with business stakeholders  manage relationships and lead marketing programs from a data standpoint Effectively communicate to senior leadership giving them updates on programs Work closely with other BI teams to enable marketing initiatives Can work in a highly dynamic environment  with changing priorities and has ability to switch gears quickly to a new initiative You believe in automation and in building repeatable processes to create standardized datasets  reports or analysis You are well-versed with Business Intelligence/ Market Intelligence processes  CRM  or other marketing technologies You have demonstrated the ability to successfully deliver complex projects involving people  process  technology  and change management You have experience with \n",
       "<mark class=\"entity\" style=\"background: lightgreen; padding: 0.45em 0.6em; margin: 0 0.25em; line-height: 1; border-radius: 0.35em;\">\n",
       "    agile ways\n",
       "    <span style=\"font-size: 0.8em; font-weight: bold; line-height: 1; border-radius: 0.35em; vertical-align: middle; margin-left: 0.5rem\">EXPERIENCE</span>\n",
       "</mark>\n",
       " of working and a bias for action to break down barriers to get results fast with a test and learn mindset You can assemble large complex datasets across multiple databases and sources by building automated pipelines (ETL) You have experience mapping various customer data using ‘fuzzy matching' to join disconnected data sets You have proven record of implementing business rules  optimizing processes and performing automated data quality audits Strong analytic skills related to working with unstructured datasets. </div></span>"
      ],
      "text/plain": [
       "<IPython.core.display.HTML object>"
      ]
     },
     "metadata": {},
     "output_type": "display_data"
    },
    {
     "data": {
      "text/html": [
       "<span class=\"tex2jax_ignore\"><div class=\"entities\" style=\"line-height: 2.5; direction: ltr\">You can influence team members and work on projects collaboratively Must-haves Advanced working SQL knowledge and \n",
       "<mark class=\"entity\" style=\"background: pink; padding: 0.45em 0.6em; margin: 0 0.25em; line-height: 1; border-radius: 0.35em;\">\n",
       "    experience\n",
       "    <span style=\"font-size: 0.8em; font-weight: bold; line-height: 1; border-radius: 0.35em; vertical-align: middle; margin-left: 0.5rem\">MISSING</span>\n",
       "</mark>\n",
       " working with relational databases  query authoring (SQL) as well as working familiarity with a variety of databases Can live  breathe and talk data SAS  DOMO  Tableau experience Technical or data-driven educational background (computer science  engineering  statistics  data science) and/or </div></span>"
      ],
      "text/plain": [
       "<IPython.core.display.HTML object>"
      ]
     },
     "metadata": {},
     "output_type": "display_data"
    },
    {
     "data": {
      "text/html": [
       "<span class=\"tex2jax_ignore\"><div class=\"entities\" style=\"line-height: 2.5; direction: ltr\">Masters of Business Administration (MBA) degree 3+ years of progressive and relevant work experience Great-to-haves Prior telecommunications expertise Python experience Hive  Spark  NiFi experience B2B marketing Experience with \n",
       "<mark class=\"entity\" style=\"background: lightgreen; padding: 0.45em 0.6em; margin: 0 0.25em; line-height: 1; border-radius: 0.35em;\">\n",
       "    cloud\n",
       "    <span style=\"font-size: 0.8em; font-weight: bold; line-height: 1; border-radius: 0.35em; vertical-align: middle; margin-left: 0.5rem\">EXPERIENCE</span>\n",
       "</mark>\n",
       " (GCP AWS or Azure) Experience with \n",
       "<mark class=\"entity\" style=\"background: lightgreen; padding: 0.45em 0.6em; margin: 0 0.25em; line-height: 1; border-radius: 0.35em;\">\n",
       "    the Salesforce tech  i.e.  marketing cloud  Pardot  Einstein Data Science / Modeling experience\n",
       "    <span style=\"font-size: 0.8em; font-weight: bold; line-height: 1; border-radius: 0.35em; vertical-align: middle; margin-left: 0.5rem\">EXPERIENCE</span>\n",
       "</mark>\n",
       " or working in a Data Science team Who is TELUS? </div></span>"
      ],
      "text/plain": [
       "<IPython.core.display.HTML object>"
      ]
     },
     "metadata": {},
     "output_type": "display_data"
    }
   ],
   "source": [
    "show_extraction(ads[10:15], extract_adp_experience)"
   ]
  },
  {
   "cell_type": "code",
   "execution_count": 39,
   "id": "f90762b6",
   "metadata": {},
   "outputs": [],
   "source": [
    "def extract_adp_experience_2(doc):\n",
    "    for np in doc.noun_chunks:\n",
    "        start_tok = np[0].i\n",
    "        if start_tok >= 2 and doc[start_tok - 2].lower_ == 'experience' and doc[start_tok - 1].pos_ == 'ADP':\n",
    "            yield 'EXPERIENCE', start_tok, start_tok + len(np)\n"
   ]
  },
  {
   "cell_type": "code",
   "execution_count": 40,
   "id": "efcdcdd2",
   "metadata": {
    "scrolled": false
   },
   "outputs": [
    {
     "data": {
      "text/html": [
       "<span class=\"tex2jax_ignore\"><div class=\"entities\" style=\"line-height: 2.5; direction: ltr\">Key Responsibilities Create MySQL queries to retrieve metrics from our database Work with BigQuery to create a data pipeline Use tray.io to fetch  unify and push data Create dashboards in our BI tool Manage properties from intercom and Hubspot that need to be fetched and pushed Create a system to monitor and keep data organized Job Benefits Profit-sharing  distributed 3 times a year Frequent promotions 3 weeks vacation and paid sick days Happy Hour every Friday Extended health benefits Continued education allowance Annual fitness allowance Work from anywhere in the world Join a bootstrapped  product-focused  &amp; customer-oriented team Minimum 3+ years of data experience  ideally with SaaS Experience with \n",
       "<mark class=\"entity\" style=\"background: lightgreen; padding: 0.45em 0.6em; margin: 0 0.25em; line-height: 1; border-radius: 0.35em;\">\n",
       "    MySQL &amp; BigQuery Experience\n",
       "    <span style=\"font-size: 0.8em; font-weight: bold; line-height: 1; border-radius: 0.35em; vertical-align: middle; margin-left: 0.5rem\">EXPERIENCE</span>\n",
       "</mark>\n",
       " creating dashboards in a BI tool Experience creating workflows Experience using Tray.io (nice to have) College / university degree About AgencyAnalytics  AgencyAnalytics is a reporting platform that helps digital agencies automate their client reporting.     </div></span>"
      ],
      "text/plain": [
       "<IPython.core.display.HTML object>"
      ]
     },
     "metadata": {},
     "output_type": "display_data"
    },
    {
     "data": {
      "text/html": [
       "<span class=\"tex2jax_ignore\"><div class=\"entities\" style=\"line-height: 2.5; direction: ltr\">The ideal candidate is a junior environmental engineering professional or recent graduate with an environmental engineering degree or diploma with some previous relevant \n",
       "<mark class=\"entity\" style=\"background: pink; padding: 0.45em 0.6em; margin: 0 0.25em; line-height: 1; border-radius: 0.35em;\">\n",
       "    experience\n",
       "    <span style=\"font-size: 0.8em; font-weight: bold; line-height: 1; border-radius: 0.35em; vertical-align: middle; margin-left: 0.5rem\">MISSING</span>\n",
       "</mark>\n",
       " which would be an asset.  </div></span>"
      ],
      "text/plain": [
       "<IPython.core.display.HTML object>"
      ]
     },
     "metadata": {},
     "output_type": "display_data"
    },
    {
     "data": {
      "text/html": [
       "<span class=\"tex2jax_ignore\"><div class=\"entities\" style=\"line-height: 2.5; direction: ltr\">Previous environmental or consulting work \n",
       "<mark class=\"entity\" style=\"background: pink; padding: 0.45em 0.6em; margin: 0 0.25em; line-height: 1; border-radius: 0.35em;\">\n",
       "    experience\n",
       "    <span style=\"font-size: 0.8em; font-weight: bold; line-height: 1; border-radius: 0.35em; vertical-align: middle; margin-left: 0.5rem\">MISSING</span>\n",
       "</mark>\n",
       " is preferred. </div></span>"
      ],
      "text/plain": [
       "<IPython.core.display.HTML object>"
      ]
     },
     "metadata": {},
     "output_type": "display_data"
    },
    {
     "data": {
      "text/html": [
       "<span class=\"tex2jax_ignore\"><div class=\"entities\" style=\"line-height: 2.5; direction: ltr\">2+ years of non-internship professional \n",
       "<mark class=\"entity\" style=\"background: pink; padding: 0.45em 0.6em; margin: 0 0.25em; line-height: 1; border-radius: 0.35em;\">\n",
       "    experience\n",
       "    <span style=\"font-size: 0.8em; font-weight: bold; line-height: 1; border-radius: 0.35em; vertical-align: middle; margin-left: 0.5rem\">MISSING</span>\n",
       "</mark>\n",
       " with machine learning  statistical modeling  data mining  and/or analytics techniques. </div></span>"
      ],
      "text/plain": [
       "<IPython.core.display.HTML object>"
      ]
     },
     "metadata": {},
     "output_type": "display_data"
    },
    {
     "data": {
      "text/html": [
       "<span class=\"tex2jax_ignore\"><div class=\"entities\" style=\"line-height: 2.5; direction: ltr\">2+ years of experience with \n",
       "<mark class=\"entity\" style=\"background: lightgreen; padding: 0.45em 0.6em; margin: 0 0.25em; line-height: 1; border-radius: 0.35em;\">\n",
       "    Python  R\n",
       "    <span style=\"font-size: 0.8em; font-weight: bold; line-height: 1; border-radius: 0.35em; vertical-align: middle; margin-left: 0.5rem\">EXPERIENCE</span>\n",
       "</mark>\n",
       "  or other scripting languages. </div></span>"
      ],
      "text/plain": [
       "<IPython.core.display.HTML object>"
      ]
     },
     "metadata": {},
     "output_type": "display_data"
    },
    {
     "data": {
      "text/html": [
       "<span class=\"tex2jax_ignore\"><div class=\"entities\" style=\"line-height: 2.5; direction: ltr\">Are you interested in using the latest advances in machine learning  computer vision  and augmented reality to build online customer experiences for Beauty products that can equal or even surpass an in-store \n",
       "<mark class=\"entity\" style=\"background: pink; padding: 0.45em 0.6em; margin: 0 0.25em; line-height: 1; border-radius: 0.35em;\">\n",
       "    experience\n",
       "    <span style=\"font-size: 0.8em; font-weight: bold; line-height: 1; border-radius: 0.35em; vertical-align: middle; margin-left: 0.5rem\">MISSING</span>\n",
       "</mark>\n",
       "?  </div></span>"
      ],
      "text/plain": [
       "<IPython.core.display.HTML object>"
      ]
     },
     "metadata": {},
     "output_type": "display_data"
    },
    {
     "data": {
      "text/html": [
       "<span class=\"tex2jax_ignore\"><div class=\"entities\" style=\"line-height: 2.5; direction: ltr\">You will have an opportunity to revolutionize the customer shopping experience across \n",
       "<mark class=\"entity\" style=\"background: lightgreen; padding: 0.45em 0.6em; margin: 0 0.25em; line-height: 1; border-radius: 0.35em;\">\n",
       "    the world's most extensive catalog\n",
       "    <span style=\"font-size: 0.8em; font-weight: bold; line-height: 1; border-radius: 0.35em; vertical-align: middle; margin-left: 0.5rem\">EXPERIENCE</span>\n",
       "</mark>\n",
       " of beauty products. </div></span>"
      ],
      "text/plain": [
       "<IPython.core.display.HTML object>"
      ]
     },
     "metadata": {},
     "output_type": "display_data"
    },
    {
     "data": {
      "text/html": [
       "<span class=\"tex2jax_ignore\"><div class=\"entities\" style=\"line-height: 2.5; direction: ltr\">You will collaborate with product managers  software engineers  UX designers  scientists  and the broader Amazon tech community to build solutions that enhance the beauty shopping experience across \n",
       "<mark class=\"entity\" style=\"background: lightgreen; padding: 0.45em 0.6em; margin: 0 0.25em; line-height: 1; border-radius: 0.35em;\">\n",
       "    all surfaces\n",
       "    <span style=\"font-size: 0.8em; font-weight: bold; line-height: 1; border-radius: 0.35em; vertical-align: middle; margin-left: 0.5rem\">EXPERIENCE</span>\n",
       "</mark>\n",
       "  including desktop  mobile devices  and other Amazon devices.  </div></span>"
      ],
      "text/plain": [
       "<IPython.core.display.HTML object>"
      ]
     },
     "metadata": {},
     "output_type": "display_data"
    },
    {
     "data": {
      "text/html": [
       "<span class=\"tex2jax_ignore\"><div class=\"entities\" style=\"line-height: 2.5; direction: ltr\">We are a small group of engineers  scientists  product managers  and designers who drive technological innovation to improve customer \n",
       "<mark class=\"entity\" style=\"background: pink; padding: 0.45em 0.6em; margin: 0 0.25em; line-height: 1; border-radius: 0.35em;\">\n",
       "    experience\n",
       "    <span style=\"font-size: 0.8em; font-weight: bold; line-height: 1; border-radius: 0.35em; vertical-align: middle; margin-left: 0.5rem\">MISSING</span>\n",
       "</mark>\n",
       ". </div></span>"
      ],
      "text/plain": [
       "<IPython.core.display.HTML object>"
      ]
     },
     "metadata": {},
     "output_type": "display_data"
    },
    {
     "data": {
      "text/html": [
       "<span class=\"tex2jax_ignore\"><div class=\"entities\" style=\"line-height: 2.5; direction: ltr\">\n",
       "<mark class=\"entity\" style=\"background: pink; padding: 0.45em 0.6em; margin: 0 0.25em; line-height: 1; border-radius: 0.35em;\">\n",
       "    Experience\n",
       "    <span style=\"font-size: 0.8em; font-weight: bold; line-height: 1; border-radius: 0.35em; vertical-align: middle; margin-left: 0.5rem\">MISSING</span>\n",
       "</mark>\n",
       " applying various machine learning techniques  and understanding the key parameters that affect their performance. </div></span>"
      ],
      "text/plain": [
       "<IPython.core.display.HTML object>"
      ]
     },
     "metadata": {},
     "output_type": "display_data"
    },
    {
     "data": {
      "text/html": [
       "<span class=\"tex2jax_ignore\"><div class=\"entities\" style=\"line-height: 2.5; direction: ltr\">\n",
       "<mark class=\"entity\" style=\"background: pink; padding: 0.45em 0.6em; margin: 0 0.25em; line-height: 1; border-radius: 0.35em;\">\n",
       "    Experience\n",
       "    <span style=\"font-size: 0.8em; font-weight: bold; line-height: 1; border-radius: 0.35em; vertical-align: middle; margin-left: 0.5rem\">MISSING</span>\n",
       "</mark>\n",
       " partnering with engineering teams to build and test production systems. </div></span>"
      ],
      "text/plain": [
       "<IPython.core.display.HTML object>"
      ]
     },
     "metadata": {},
     "output_type": "display_data"
    },
    {
     "data": {
      "text/html": [
       "<span class=\"tex2jax_ignore\"><div class=\"entities\" style=\"line-height: 2.5; direction: ltr\">Experience in \n",
       "<mark class=\"entity\" style=\"background: lightgreen; padding: 0.45em 0.6em; margin: 0 0.25em; line-height: 1; border-radius: 0.35em;\">\n",
       "    Frequentist and Bayesian Statistical methods\n",
       "    <span style=\"font-size: 0.8em; font-weight: bold; line-height: 1; border-radius: 0.35em; vertical-align: middle; margin-left: 0.5rem\">EXPERIENCE</span>\n",
       "</mark>\n",
       " (2+ years) </div></span>"
      ],
      "text/plain": [
       "<IPython.core.display.HTML object>"
      ]
     },
     "metadata": {},
     "output_type": "display_data"
    },
    {
     "data": {
      "text/html": [
       "<span class=\"tex2jax_ignore\"><div class=\"entities\" style=\"line-height: 2.5; direction: ltr\">\n",
       "<mark class=\"entity\" style=\"background: pink; padding: 0.45em 0.6em; margin: 0 0.25em; line-height: 1; border-radius: 0.35em;\">\n",
       "    Experience\n",
       "    <span style=\"font-size: 0.8em; font-weight: bold; line-height: 1; border-radius: 0.35em; vertical-align: middle; margin-left: 0.5rem\">MISSING</span>\n",
       "</mark>\n",
       " working with Machine Learning algorithms  Probabilistic Models  and/or other statistical modelling approaches (2+ years) </div></span>"
      ],
      "text/plain": [
       "<IPython.core.display.HTML object>"
      ]
     },
     "metadata": {},
     "output_type": "display_data"
    },
    {
     "data": {
      "text/html": [
       "<span class=\"tex2jax_ignore\"><div class=\"entities\" style=\"line-height: 2.5; direction: ltr\">Experience with \n",
       "<mark class=\"entity\" style=\"background: lightgreen; padding: 0.45em 0.6em; margin: 0 0.25em; line-height: 1; border-radius: 0.35em;\">\n",
       "    modern R packages\n",
       "    <span style=\"font-size: 0.8em; font-weight: bold; line-height: 1; border-radius: 0.35em; vertical-align: middle; margin-left: 0.5rem\">EXPERIENCE</span>\n",
       "</mark>\n",
       " such as dplyr  ggplot2  data.table  etc Experience in \n",
       "<mark class=\"entity\" style=\"background: lightgreen; padding: 0.45em 0.6em; margin: 0 0.25em; line-height: 1; border-radius: 0.35em;\">\n",
       "    front-end R technologies\n",
       "    <span style=\"font-size: 0.8em; font-weight: bold; line-height: 1; border-radius: 0.35em; vertical-align: middle; margin-left: 0.5rem\">EXPERIENCE</span>\n",
       "</mark>\n",
       " for data products such as ShinyR  Flexdashboard Ability to write complex SQL queries Working knowledge of software engineering fundamentals and workflows Experience working with container orchestration platforms such as Kubernetes or Docker Swarm Cloud Computing Experience Authority to legally work in Canada We offer: An environment passionate about growth and learning Competitive salary with bonus Fitness subsidy program Free beverages in the office Workplace that is conveniently located along the Yonge/Sheppard line What we are looking for: This is a key role within the team and would suit someone who has a strong passion for working with data and data science. </div></span>"
      ],
      "text/plain": [
       "<IPython.core.display.HTML object>"
      ]
     },
     "metadata": {},
     "output_type": "display_data"
    },
    {
     "data": {
      "text/html": [
       "<span class=\"tex2jax_ignore\"><div class=\"entities\" style=\"line-height: 2.5; direction: ltr\">\n",
       "<mark class=\"entity\" style=\"background: pink; padding: 0.45em 0.6em; margin: 0 0.25em; line-height: 1; border-radius: 0.35em;\">\n",
       "    Experience\n",
       "    <span style=\"font-size: 0.8em; font-weight: bold; line-height: 1; border-radius: 0.35em; vertical-align: middle; margin-left: 0.5rem\">MISSING</span>\n",
       "</mark>\n",
       ": R programming: 3 years (preferred) Frequentist and/or Bayesian statistical: 2 years (preferred) </div></span>"
      ],
      "text/plain": [
       "<IPython.core.display.HTML object>"
      ]
     },
     "metadata": {},
     "output_type": "display_data"
    },
    {
     "data": {
      "text/html": [
       "<span class=\"tex2jax_ignore\"><div class=\"entities\" style=\"line-height: 2.5; direction: ltr\">We love to turn data into stories - stories about money falling through the cracks  success stories about our products and services  but most importantly stories about our customers and how we can enhance their \n",
       "<mark class=\"entity\" style=\"background: pink; padding: 0.45em 0.6em; margin: 0 0.25em; line-height: 1; border-radius: 0.35em;\">\n",
       "    experience\n",
       "    <span style=\"font-size: 0.8em; font-weight: bold; line-height: 1; border-radius: 0.35em; vertical-align: middle; margin-left: 0.5rem\">MISSING</span>\n",
       "</mark>\n",
       ". </div></span>"
      ],
      "text/plain": [
       "<IPython.core.display.HTML object>"
      ]
     },
     "metadata": {},
     "output_type": "display_data"
    },
    {
     "data": {
      "text/html": [
       "<span class=\"tex2jax_ignore\"><div class=\"entities\" style=\"line-height: 2.5; direction: ltr\">You're the missing piece of the puzzle You are analytical and outcome-oriented with a proven ability to synthesize data into actionable insights You can work with business stakeholders  manage relationships and lead marketing programs from a data standpoint Effectively communicate to senior leadership giving them updates on programs Work closely with other BI teams to enable marketing initiatives Can work in a highly dynamic environment  with changing priorities and has ability to switch gears quickly to a new initiative You believe in automation and in building repeatable processes to create standardized datasets  reports or analysis You are well-versed with Business Intelligence/ Market Intelligence processes  CRM  or other marketing technologies You have demonstrated the ability to successfully deliver complex projects involving people  process  technology  and change management You have experience with \n",
       "<mark class=\"entity\" style=\"background: lightgreen; padding: 0.45em 0.6em; margin: 0 0.25em; line-height: 1; border-radius: 0.35em;\">\n",
       "    agile ways\n",
       "    <span style=\"font-size: 0.8em; font-weight: bold; line-height: 1; border-radius: 0.35em; vertical-align: middle; margin-left: 0.5rem\">EXPERIENCE</span>\n",
       "</mark>\n",
       " of working and a bias for action to break down barriers to get results fast with a test and learn mindset You can assemble large complex datasets across multiple databases and sources by building automated pipelines (ETL) You have experience mapping various customer data using ‘fuzzy matching' to join disconnected data sets You have proven record of implementing business rules  optimizing processes and performing automated data quality audits Strong analytic skills related to working with unstructured datasets. </div></span>"
      ],
      "text/plain": [
       "<IPython.core.display.HTML object>"
      ]
     },
     "metadata": {},
     "output_type": "display_data"
    },
    {
     "data": {
      "text/html": [
       "<span class=\"tex2jax_ignore\"><div class=\"entities\" style=\"line-height: 2.5; direction: ltr\">You can influence team members and work on projects collaboratively Must-haves Advanced working SQL knowledge and \n",
       "<mark class=\"entity\" style=\"background: pink; padding: 0.45em 0.6em; margin: 0 0.25em; line-height: 1; border-radius: 0.35em;\">\n",
       "    experience\n",
       "    <span style=\"font-size: 0.8em; font-weight: bold; line-height: 1; border-radius: 0.35em; vertical-align: middle; margin-left: 0.5rem\">MISSING</span>\n",
       "</mark>\n",
       " working with relational databases  query authoring (SQL) as well as working familiarity with a variety of databases Can live  breathe and talk data SAS  DOMO  Tableau experience Technical or data-driven educational background (computer science  engineering  statistics  data science) and/or </div></span>"
      ],
      "text/plain": [
       "<IPython.core.display.HTML object>"
      ]
     },
     "metadata": {},
     "output_type": "display_data"
    },
    {
     "data": {
      "text/html": [
       "<span class=\"tex2jax_ignore\"><div class=\"entities\" style=\"line-height: 2.5; direction: ltr\">Masters of Business Administration (MBA) degree 3+ years of progressive and relevant work experience Great-to-haves Prior telecommunications expertise Python experience Hive  Spark  NiFi experience B2B marketing Experience with \n",
       "<mark class=\"entity\" style=\"background: lightgreen; padding: 0.45em 0.6em; margin: 0 0.25em; line-height: 1; border-radius: 0.35em;\">\n",
       "    cloud\n",
       "    <span style=\"font-size: 0.8em; font-weight: bold; line-height: 1; border-radius: 0.35em; vertical-align: middle; margin-left: 0.5rem\">EXPERIENCE</span>\n",
       "</mark>\n",
       " (GCP AWS or Azure) Experience with \n",
       "<mark class=\"entity\" style=\"background: lightgreen; padding: 0.45em 0.6em; margin: 0 0.25em; line-height: 1; border-radius: 0.35em;\">\n",
       "    the Salesforce tech  i.e.  marketing cloud  Pardot  Einstein Data Science / Modeling experience\n",
       "    <span style=\"font-size: 0.8em; font-weight: bold; line-height: 1; border-radius: 0.35em; vertical-align: middle; margin-left: 0.5rem\">EXPERIENCE</span>\n",
       "</mark>\n",
       " or working in a Data Science team Who is TELUS? </div></span>"
      ],
      "text/plain": [
       "<IPython.core.display.HTML object>"
      ]
     },
     "metadata": {},
     "output_type": "display_data"
    }
   ],
   "source": [
    "show_extraction(ads[10:15], extract_adp_experience_2)"
   ]
  },
  {
   "cell_type": "code",
   "execution_count": 41,
   "id": "22c76778",
   "metadata": {},
   "outputs": [
    {
     "name": "stdout",
     "output_type": "stream",
     "text": [
      "CPU times: total: 0 ns\n",
      "Wall time: 0 ns\n"
     ]
    }
   ],
   "source": [
    "%time \n",
    "ent_adp_df = extract_df(extract_adp_experience, n_max=50)\n"
   ]
  },
  {
   "cell_type": "code",
   "execution_count": 42,
   "id": "c309f579",
   "metadata": {},
   "outputs": [
    {
     "name": "stdout",
     "output_type": "stream",
     "text": [
      "CPU times: total: 0 ns\n",
      "Wall time: 0 ns\n"
     ]
    }
   ],
   "source": [
    "%time \n",
    "ent_adp_df = extract_df(extract_adp_experience_2, n_max=50)\n"
   ]
  },
  {
   "cell_type": "code",
   "execution_count": 43,
   "id": "cee8f735",
   "metadata": {},
   "outputs": [
    {
     "name": "stdout",
     "output_type": "stream",
     "text": [
      "CPU times: total: 0 ns\n",
      "Wall time: 0 ns\n"
     ]
    }
   ],
   "source": [
    "%time \n",
    "ent_adp_df = extract_df(extract_adp_experience, n_max=50000)\n"
   ]
  },
  {
   "cell_type": "code",
   "execution_count": 44,
   "id": "2f33aff9",
   "metadata": {
    "scrolled": true
   },
   "outputs": [
    {
     "data": {
      "text/html": [
       "<div>\n",
       "<style scoped>\n",
       "    .dataframe tbody tr th:only-of-type {\n",
       "        vertical-align: middle;\n",
       "    }\n",
       "\n",
       "    .dataframe tbody tr th {\n",
       "        vertical-align: top;\n",
       "    }\n",
       "\n",
       "    .dataframe thead th {\n",
       "        text-align: right;\n",
       "    }\n",
       "</style>\n",
       "<table border=\"1\" class=\"dataframe\">\n",
       "  <thead>\n",
       "    <tr style=\"text-align: right;\">\n",
       "      <th></th>\n",
       "      <th>text</th>\n",
       "      <th>n_company</th>\n",
       "    </tr>\n",
       "  </thead>\n",
       "  <tbody>\n",
       "    <tr>\n",
       "      <th>334</th>\n",
       "      <td>Python</td>\n",
       "      <td>31</td>\n",
       "    </tr>\n",
       "    <tr>\n",
       "      <th>375</th>\n",
       "      <td>SQL</td>\n",
       "      <td>19</td>\n",
       "    </tr>\n",
       "    <tr>\n",
       "      <th>816</th>\n",
       "      <td>data science</td>\n",
       "      <td>15</td>\n",
       "    </tr>\n",
       "    <tr>\n",
       "      <th>760</th>\n",
       "      <td>data</td>\n",
       "      <td>13</td>\n",
       "    </tr>\n",
       "    <tr>\n",
       "      <th>640</th>\n",
       "      <td>big data tools</td>\n",
       "      <td>13</td>\n",
       "    </tr>\n",
       "    <tr>\n",
       "      <th>273</th>\n",
       "      <td>Machine Learning</td>\n",
       "      <td>11</td>\n",
       "    </tr>\n",
       "    <tr>\n",
       "      <th>839</th>\n",
       "      <td>data visualization</td>\n",
       "      <td>10</td>\n",
       "    </tr>\n",
       "    <tr>\n",
       "      <th>1192</th>\n",
       "      <td>relational databases</td>\n",
       "      <td>9</td>\n",
       "    </tr>\n",
       "    <tr>\n",
       "      <th>844</th>\n",
       "      <td>data visualization tools</td>\n",
       "      <td>9</td>\n",
       "    </tr>\n",
       "    <tr>\n",
       "      <th>339</th>\n",
       "      <td>Python  R</td>\n",
       "      <td>8</td>\n",
       "    </tr>\n",
       "    <tr>\n",
       "      <th>1188</th>\n",
       "      <td>relational SQL</td>\n",
       "      <td>8</td>\n",
       "    </tr>\n",
       "    <tr>\n",
       "      <th>639</th>\n",
       "      <td>big data technologies</td>\n",
       "      <td>8</td>\n",
       "    </tr>\n",
       "    <tr>\n",
       "      <th>454</th>\n",
       "      <td>a Data Engineer</td>\n",
       "      <td>8</td>\n",
       "    </tr>\n",
       "    <tr>\n",
       "      <th>460</th>\n",
       "      <td>a Data Scientist</td>\n",
       "      <td>8</td>\n",
       "    </tr>\n",
       "    <tr>\n",
       "      <th>1233</th>\n",
       "      <td>software development</td>\n",
       "      <td>7</td>\n",
       "    </tr>\n",
       "    <tr>\n",
       "      <th>1153</th>\n",
       "      <td>programming languages</td>\n",
       "      <td>7</td>\n",
       "    </tr>\n",
       "    <tr>\n",
       "      <th>1004</th>\n",
       "      <td>machine learning</td>\n",
       "      <td>7</td>\n",
       "    </tr>\n",
       "    <tr>\n",
       "      <th>1088</th>\n",
       "      <td>one</td>\n",
       "      <td>7</td>\n",
       "    </tr>\n",
       "    <tr>\n",
       "      <th>1105</th>\n",
       "      <td>our customers</td>\n",
       "      <td>7</td>\n",
       "    </tr>\n",
       "    <tr>\n",
       "      <th>873</th>\n",
       "      <td>development</td>\n",
       "      <td>6</td>\n",
       "    </tr>\n",
       "    <tr>\n",
       "      <th>804</th>\n",
       "      <td>data pipeline</td>\n",
       "      <td>6</td>\n",
       "    </tr>\n",
       "    <tr>\n",
       "      <th>652</th>\n",
       "      <td>building</td>\n",
       "      <td>6</td>\n",
       "    </tr>\n",
       "    <tr>\n",
       "      <th>1260</th>\n",
       "      <td>stream-processing systems</td>\n",
       "      <td>5</td>\n",
       "    </tr>\n",
       "    <tr>\n",
       "      <th>600</th>\n",
       "      <td>any</td>\n",
       "      <td>5</td>\n",
       "    </tr>\n",
       "    <tr>\n",
       "      <th>312</th>\n",
       "      <td>NoSQL</td>\n",
       "      <td>5</td>\n",
       "    </tr>\n",
       "    <tr>\n",
       "      <th>1085</th>\n",
       "      <td>object-oriented/object function scripting lang...</td>\n",
       "      <td>5</td>\n",
       "    </tr>\n",
       "    <tr>\n",
       "      <th>869</th>\n",
       "      <td>designing</td>\n",
       "      <td>5</td>\n",
       "    </tr>\n",
       "    <tr>\n",
       "      <th>1309</th>\n",
       "      <td>the application</td>\n",
       "      <td>5</td>\n",
       "    </tr>\n",
       "    <tr>\n",
       "      <th>763</th>\n",
       "      <td>data analysis</td>\n",
       "      <td>5</td>\n",
       "    </tr>\n",
       "    <tr>\n",
       "      <th>1209</th>\n",
       "      <td>schema design</td>\n",
       "      <td>5</td>\n",
       "    </tr>\n",
       "    <tr>\n",
       "      <th>419</th>\n",
       "      <td>Tableau</td>\n",
       "      <td>5</td>\n",
       "    </tr>\n",
       "    <tr>\n",
       "      <th>142</th>\n",
       "      <td>Data Science</td>\n",
       "      <td>5</td>\n",
       "    </tr>\n",
       "    <tr>\n",
       "      <th>16</th>\n",
       "      <td>AWS</td>\n",
       "      <td>5</td>\n",
       "    </tr>\n",
       "    <tr>\n",
       "      <th>698</th>\n",
       "      <td>cloud services</td>\n",
       "      <td>5</td>\n",
       "    </tr>\n",
       "    <tr>\n",
       "      <th>58</th>\n",
       "      <td>Azure</td>\n",
       "      <td>4</td>\n",
       "    </tr>\n",
       "    <tr>\n",
       "      <th>767</th>\n",
       "      <td>data analytics</td>\n",
       "      <td>4</td>\n",
       "    </tr>\n",
       "    <tr>\n",
       "      <th>528</th>\n",
       "      <td>a similar role</td>\n",
       "      <td>4</td>\n",
       "    </tr>\n",
       "    <tr>\n",
       "      <th>228</th>\n",
       "      <td>Hadoop</td>\n",
       "      <td>4</td>\n",
       "    </tr>\n",
       "    <tr>\n",
       "      <th>917</th>\n",
       "      <td>etc</td>\n",
       "      <td>4</td>\n",
       "    </tr>\n",
       "    <tr>\n",
       "      <th>607</th>\n",
       "      <td>applications</td>\n",
       "      <td>4</td>\n",
       "    </tr>\n",
       "    <tr>\n",
       "      <th>186</th>\n",
       "      <td>ETL tools</td>\n",
       "      <td>4</td>\n",
       "    </tr>\n",
       "    <tr>\n",
       "      <th>1162</th>\n",
       "      <td>python</td>\n",
       "      <td>4</td>\n",
       "    </tr>\n",
       "    <tr>\n",
       "      <th>1166</th>\n",
       "      <td>quantitative analysis</td>\n",
       "      <td>4</td>\n",
       "    </tr>\n",
       "    <tr>\n",
       "      <th>950</th>\n",
       "      <td>hands-on quantitative/statistical analysis</td>\n",
       "      <td>4</td>\n",
       "    </tr>\n",
       "    <tr>\n",
       "      <th>1250</th>\n",
       "      <td>statistical and data mining techniques</td>\n",
       "      <td>4</td>\n",
       "    </tr>\n",
       "    <tr>\n",
       "      <th>853</th>\n",
       "      <td>databases</td>\n",
       "      <td>4</td>\n",
       "    </tr>\n",
       "    <tr>\n",
       "      <th>302</th>\n",
       "      <td>NLP</td>\n",
       "      <td>4</td>\n",
       "    </tr>\n",
       "    <tr>\n",
       "      <th>406</th>\n",
       "      <td>Spark</td>\n",
       "      <td>4</td>\n",
       "    </tr>\n",
       "    <tr>\n",
       "      <th>1201</th>\n",
       "      <td>retail</td>\n",
       "      <td>4</td>\n",
       "    </tr>\n",
       "    <tr>\n",
       "      <th>682</th>\n",
       "      <td>cloud</td>\n",
       "      <td>4</td>\n",
       "    </tr>\n",
       "  </tbody>\n",
       "</table>\n",
       "</div>"
      ],
      "text/plain": [
       "                                                   text  n_company\n",
       "334                                              Python         31\n",
       "375                                                 SQL         19\n",
       "816                                        data science         15\n",
       "760                                                data         13\n",
       "640                                      big data tools         13\n",
       "273                                    Machine Learning         11\n",
       "839                                  data visualization         10\n",
       "1192                               relational databases          9\n",
       "844                            data visualization tools          9\n",
       "339                                           Python  R          8\n",
       "1188                                     relational SQL          8\n",
       "639                               big data technologies          8\n",
       "454                                     a Data Engineer          8\n",
       "460                                    a Data Scientist          8\n",
       "1233                               software development          7\n",
       "1153                              programming languages          7\n",
       "1004                                   machine learning          7\n",
       "1088                                                one          7\n",
       "1105                                      our customers          7\n",
       "873                                         development          6\n",
       "804                                       data pipeline          6\n",
       "652                                            building          6\n",
       "1260                          stream-processing systems          5\n",
       "600                                                 any          5\n",
       "312                                               NoSQL          5\n",
       "1085  object-oriented/object function scripting lang...          5\n",
       "869                                           designing          5\n",
       "1309                                    the application          5\n",
       "763                                       data analysis          5\n",
       "1209                                      schema design          5\n",
       "419                                             Tableau          5\n",
       "142                                        Data Science          5\n",
       "16                                                  AWS          5\n",
       "698                                      cloud services          5\n",
       "58                                                Azure          4\n",
       "767                                      data analytics          4\n",
       "528                                      a similar role          4\n",
       "228                                              Hadoop          4\n",
       "917                                                 etc          4\n",
       "607                                        applications          4\n",
       "186                                           ETL tools          4\n",
       "1162                                             python          4\n",
       "1166                              quantitative analysis          4\n",
       "950          hands-on quantitative/statistical analysis          4\n",
       "1250             statistical and data mining techniques          4\n",
       "853                                           databases          4\n",
       "302                                                 NLP          4\n",
       "406                                               Spark          4\n",
       "1201                                             retail          4\n",
       "682                                               cloud          4"
      ]
     },
     "execution_count": 44,
     "metadata": {},
     "output_type": "execute_result"
    }
   ],
   "source": [
    "aggregate_df(ent_adp_df).head(50)\n"
   ]
  },
  {
   "cell_type": "code",
   "execution_count": 45,
   "id": "e323259a",
   "metadata": {},
   "outputs": [],
   "source": [
    "showent_df(ent_adp_df.query(\"text=='C'\").head(5))\n"
   ]
  },
  {
   "cell_type": "code",
   "execution_count": 46,
   "id": "97855a3f",
   "metadata": {
    "scrolled": true
   },
   "outputs": [
    {
     "data": {
      "text/html": [
       "<span class=\"tex2jax_ignore\"><div class=\"entities\" style=\"line-height: 2.5; direction: ltr\">2+ years of experience with \n",
       "<mark class=\"entity\" style=\"background: #ddd; padding: 0.45em 0.6em; margin: 0 0.25em; line-height: 1; border-radius: 0.35em;\">\n",
       "    R\n",
       "    <span style=\"font-size: 0.8em; font-weight: bold; line-height: 1; border-radius: 0.35em; vertical-align: middle; margin-left: 0.5rem\">EXPERIENCE</span>\n",
       "</mark>\n",
       " or Python and SQL. </div></span>"
      ],
      "text/plain": [
       "<IPython.core.display.HTML object>"
      ]
     },
     "metadata": {},
     "output_type": "display_data"
    },
    {
     "data": {
      "text/html": [
       "<span class=\"tex2jax_ignore\"><div class=\"entities\" style=\"line-height: 2.5; direction: ltr\">Qualifications 5+ years work experience as a Data Scientist Experience with \n",
       "<mark class=\"entity\" style=\"background: #ddd; padding: 0.45em 0.6em; margin: 0 0.25em; line-height: 1; border-radius: 0.35em;\">\n",
       "    R\n",
       "    <span style=\"font-size: 0.8em; font-weight: bold; line-height: 1; border-radius: 0.35em; vertical-align: middle; margin-left: 0.5rem\">EXPERIENCE</span>\n",
       "</mark>\n",
       " or Python and SQL Experience with one or more of the following technologies: C  C++  C#  Shell Scripting  Java  Scope  Hive  MapReduce  Scala  Spark  or Pig Bachelor’s degree is required  with preference given to a Quantitative (Statistics  Data Mining  Machine Learning  Mathematics  Computer Science  or Data Science)  or Applied Science (Biology  Physics  Chemistry  or Psychology) discipline.  </div></span>"
      ],
      "text/plain": [
       "<IPython.core.display.HTML object>"
      ]
     },
     "metadata": {},
     "output_type": "display_data"
    },
    {
     "data": {
      "text/html": [
       "<span class=\"tex2jax_ignore\"><div class=\"entities\" style=\"line-height: 2.5; direction: ltr\">Our ideal candidate should have: Degree/Diploma in Computer Science/Software Engineering/Statistics or equivalent 3+ years of relevant experience with \n",
       "<mark class=\"entity\" style=\"background: #ddd; padding: 0.45em 0.6em; margin: 0 0.25em; line-height: 1; border-radius: 0.35em;\">\n",
       "    R\n",
       "    <span style=\"font-size: 0.8em; font-weight: bold; line-height: 1; border-radius: 0.35em; vertical-align: middle; margin-left: 0.5rem\">EXPERIENCE</span>\n",
       "</mark>\n",
       " or Python 3+ years of experience with Machine Learning algorithms and Probabilistic Modelling Strong background in statistics  preferable Bayesian Statistics Experience with SQL and SQL Server Experience with modern R packages and technologies (i.e. dplyr  tidyR  data.table  ShinyR) Experience/Knowledge in the following preferred: </div></span>"
      ],
      "text/plain": [
       "<IPython.core.display.HTML object>"
      ]
     },
     "metadata": {},
     "output_type": "display_data"
    },
    {
     "data": {
      "text/html": [
       "<span class=\"tex2jax_ignore\"><div class=\"entities\" style=\"line-height: 2.5; direction: ltr\">Our ideal candidate should have:  Degree/Diploma in Computer Science/Software Engineering/Statistics or equivalent 3+ years of relevant experience with \n",
       "<mark class=\"entity\" style=\"background: #ddd; padding: 0.45em 0.6em; margin: 0 0.25em; line-height: 1; border-radius: 0.35em;\">\n",
       "    R\n",
       "    <span style=\"font-size: 0.8em; font-weight: bold; line-height: 1; border-radius: 0.35em; vertical-align: middle; margin-left: 0.5rem\">EXPERIENCE</span>\n",
       "</mark>\n",
       " or Python (NumPy  SciPy  Pandas  etc) </div></span>"
      ],
      "text/plain": [
       "<IPython.core.display.HTML object>"
      ]
     },
     "metadata": {},
     "output_type": "display_data"
    }
   ],
   "source": [
    "showent_df(ent_adp_df.query(\"text=='R'\").head(5))\n"
   ]
  },
  {
   "cell_type": "code",
   "execution_count": 47,
   "id": "9dbf1462",
   "metadata": {},
   "outputs": [],
   "source": [
    "def highlight_text_context(terms, texts, n_before=1, n_after=2):\n",
    "    context = []\n",
    "    for doc in nlp.pipe(texts):\n",
    "        sentences = list(doc.sents)\n",
    "        idxs = [i for i, sent in enumerate(sentences) if any(term in sent.text.lower() for term in terms)]\n",
    "        \n",
    "        for idx in idxs:\n",
    "            before = ''.join(sent.text for sent in sentences[max(idx-n_before, 0):idx])\n",
    "            after = ''.join(sent.text for sent in sentences[idx+1:min(idx+n_before+1, len(sentences))])\n",
    "            text = sentences[idx].text\n",
    "            markup = re.sub(fr'(?i)\\b({\"|\".join(terms)})\\b', r'<strong>\\1</strong>',\n",
    "                                 f'<span style=\"color:blue\">{text}</span>')\n",
    "            display(HTML(before + markup + after))"
   ]
  },
  {
   "cell_type": "code",
   "execution_count": 48,
   "id": "0218fbcc",
   "metadata": {},
   "outputs": [],
   "source": [
    "terms = ['experience']\n",
    "\n",
    "for _, q in ent_adp_df.query(\"text=='a'\").head(7).iterrows():\n",
    "    doc = nlp(q.FullDescription)\n",
    "    if q.sent_start > 0:\n",
    "        prev_sent = doc[q.sent_start - 1].sent.text\n",
    "    else:\n",
    "        prev_sent = ''\n",
    "    \n",
    "    if q.sent_end < len(doc):\n",
    "        next_sent = doc[q.sent_end].sent.text\n",
    "    else:\n",
    "        next_sent = ''\n",
    "        \n",
    "    text = doc[q.sent_start:q.sent_end].text\n",
    "    markup = re.sub(fr'(?i)\\b({\"|\".join(terms)})\\b', r'<strong>\\1</strong>',\n",
    "                     f'<span style=\"color:blue\">{text}</span>')\n",
    "    display(HTML(prev_sent + markup + next_sent))"
   ]
  },
  {
   "cell_type": "code",
   "execution_count": 49,
   "id": "e3cfcd77",
   "metadata": {},
   "outputs": [],
   "source": [
    "def get_left_span(tok, label='', include=True):\n",
    "    offset = 1 if include else 0\n",
    "    idx = tok.i\n",
    "    while idx > tok.left_edge.i:\n",
    "        if tok.doc[idx - 1].pos_ in ('NOUN', 'PROPN', 'ADJ', 'X'):\n",
    "            idx -= 1\n",
    "        else:\n",
    "            break\n",
    "    return label, idx, tok.i+offset\n"
   ]
  },
  {
   "cell_type": "code",
   "execution_count": 50,
   "id": "31e4c860",
   "metadata": {},
   "outputs": [],
   "source": [
    "def get_conjugations(tok):\n",
    "    new = [tok]\n",
    "    while new:\n",
    "        tok = new.pop()\n",
    "        yield tok\n",
    "        for child in tok.children:\n",
    "            if child.dep_ == 'conj':\n",
    "                new.append(child)"
   ]
  },
  {
   "cell_type": "code",
   "execution_count": 51,
   "id": "8a14976c",
   "metadata": {},
   "outputs": [],
   "source": [
    "#old\n",
    "EXP_TERMS = ['experience']\n",
    "def extract_adp_conj_experience(doc, label='EXPERIENCE'):\n",
    "    for tok in doc:\n",
    "        if tok.lower_ in EXP_TERMS:\n",
    "            for child in tok.rights:\n",
    "                if child.dep_ == 'prep':\n",
    "                    for obj in child.children:\n",
    "                        if obj.dep_ == 'pobj':\n",
    "                            for conj in get_conjugations(obj):\n",
    "                                yield get_left_span(conj, label)"
   ]
  },
  {
   "cell_type": "code",
   "execution_count": 52,
   "id": "055c9de2",
   "metadata": {},
   "outputs": [
    {
     "data": {
      "text/html": [
       "<span class=\"tex2jax_ignore\"><div class=\"entities\" style=\"line-height: 2.5; direction: ltr\">Key Responsibilities Create MySQL queries to retrieve metrics from our database Work with BigQuery to create a data pipeline Use tray.io to fetch  unify and push data Create dashboards in our BI tool Manage properties from intercom and Hubspot that need to be fetched and pushed Create a system to monitor and keep data organized Job Benefits Profit-sharing  distributed 3 times a year Frequent promotions 3 weeks vacation and paid sick days Happy Hour every Friday Extended health benefits Continued education allowance Annual fitness allowance Work from anywhere in the world Join a bootstrapped  product-focused  &amp; customer-oriented team Minimum 3+ years of data experience  ideally with SaaS Experience with MySQL &amp; \n",
       "<mark class=\"entity\" style=\"background: lightgreen; padding: 0.45em 0.6em; margin: 0 0.25em; line-height: 1; border-radius: 0.35em;\">\n",
       "    BigQuery Experience\n",
       "    <span style=\"font-size: 0.8em; font-weight: bold; line-height: 1; border-radius: 0.35em; vertical-align: middle; margin-left: 0.5rem\">EXPERIENCE</span>\n",
       "</mark>\n",
       " creating dashboards in a BI tool Experience creating workflows Experience using Tray.io (nice to have) College / university degree About AgencyAnalytics  AgencyAnalytics is a reporting platform that helps digital agencies automate their client reporting.     </div></span>"
      ],
      "text/plain": [
       "<IPython.core.display.HTML object>"
      ]
     },
     "metadata": {},
     "output_type": "display_data"
    },
    {
     "data": {
      "text/html": [
       "<span class=\"tex2jax_ignore\"><div class=\"entities\" style=\"line-height: 2.5; direction: ltr\">The ideal candidate is a junior environmental engineering professional or recent graduate with an environmental engineering degree or diploma with some previous relevant \n",
       "<mark class=\"entity\" style=\"background: pink; padding: 0.45em 0.6em; margin: 0 0.25em; line-height: 1; border-radius: 0.35em;\">\n",
       "    experience\n",
       "    <span style=\"font-size: 0.8em; font-weight: bold; line-height: 1; border-radius: 0.35em; vertical-align: middle; margin-left: 0.5rem\">MISSING</span>\n",
       "</mark>\n",
       " which would be an asset.  </div></span>"
      ],
      "text/plain": [
       "<IPython.core.display.HTML object>"
      ]
     },
     "metadata": {},
     "output_type": "display_data"
    },
    {
     "data": {
      "text/html": [
       "<span class=\"tex2jax_ignore\"><div class=\"entities\" style=\"line-height: 2.5; direction: ltr\">Previous environmental or consulting work \n",
       "<mark class=\"entity\" style=\"background: pink; padding: 0.45em 0.6em; margin: 0 0.25em; line-height: 1; border-radius: 0.35em;\">\n",
       "    experience\n",
       "    <span style=\"font-size: 0.8em; font-weight: bold; line-height: 1; border-radius: 0.35em; vertical-align: middle; margin-left: 0.5rem\">MISSING</span>\n",
       "</mark>\n",
       " is preferred. </div></span>"
      ],
      "text/plain": [
       "<IPython.core.display.HTML object>"
      ]
     },
     "metadata": {},
     "output_type": "display_data"
    },
    {
     "data": {
      "text/html": [
       "<span class=\"tex2jax_ignore\"><div class=\"entities\" style=\"line-height: 2.5; direction: ltr\">2+ years of non-internship professional \n",
       "<mark class=\"entity\" style=\"background: pink; padding: 0.45em 0.6em; margin: 0 0.25em; line-height: 1; border-radius: 0.35em;\">\n",
       "    experience\n",
       "    <span style=\"font-size: 0.8em; font-weight: bold; line-height: 1; border-radius: 0.35em; vertical-align: middle; margin-left: 0.5rem\">MISSING</span>\n",
       "</mark>\n",
       " with machine learning  statistical modeling  data mining  and/or analytics techniques. </div></span>"
      ],
      "text/plain": [
       "<IPython.core.display.HTML object>"
      ]
     },
     "metadata": {},
     "output_type": "display_data"
    },
    {
     "data": {
      "text/html": [
       "<span class=\"tex2jax_ignore\"><div class=\"entities\" style=\"line-height: 2.5; direction: ltr\">2+ years of experience with Python  \n",
       "<mark class=\"entity\" style=\"background: lightgreen; padding: 0.45em 0.6em; margin: 0 0.25em; line-height: 1; border-radius: 0.35em;\">\n",
       "    R\n",
       "    <span style=\"font-size: 0.8em; font-weight: bold; line-height: 1; border-radius: 0.35em; vertical-align: middle; margin-left: 0.5rem\">EXPERIENCE</span>\n",
       "</mark>\n",
       "  or \n",
       "<mark class=\"entity\" style=\"background: lightgreen; padding: 0.45em 0.6em; margin: 0 0.25em; line-height: 1; border-radius: 0.35em;\">\n",
       "    other scripting languages\n",
       "    <span style=\"font-size: 0.8em; font-weight: bold; line-height: 1; border-radius: 0.35em; vertical-align: middle; margin-left: 0.5rem\">EXPERIENCE</span>\n",
       "</mark>\n",
       ". </div></span>"
      ],
      "text/plain": [
       "<IPython.core.display.HTML object>"
      ]
     },
     "metadata": {},
     "output_type": "display_data"
    },
    {
     "data": {
      "text/html": [
       "<span class=\"tex2jax_ignore\"><div class=\"entities\" style=\"line-height: 2.5; direction: ltr\">Are you interested in using the latest advances in machine learning  computer vision  and augmented reality to build online customer experiences for Beauty products that can equal or even surpass an in-store \n",
       "<mark class=\"entity\" style=\"background: pink; padding: 0.45em 0.6em; margin: 0 0.25em; line-height: 1; border-radius: 0.35em;\">\n",
       "    experience\n",
       "    <span style=\"font-size: 0.8em; font-weight: bold; line-height: 1; border-radius: 0.35em; vertical-align: middle; margin-left: 0.5rem\">MISSING</span>\n",
       "</mark>\n",
       "?  </div></span>"
      ],
      "text/plain": [
       "<IPython.core.display.HTML object>"
      ]
     },
     "metadata": {},
     "output_type": "display_data"
    },
    {
     "data": {
      "text/html": [
       "<span class=\"tex2jax_ignore\"><div class=\"entities\" style=\"line-height: 2.5; direction: ltr\">You will have an opportunity to revolutionize the customer shopping experience across the world's most \n",
       "<mark class=\"entity\" style=\"background: lightgreen; padding: 0.45em 0.6em; margin: 0 0.25em; line-height: 1; border-radius: 0.35em;\">\n",
       "    extensive catalog\n",
       "    <span style=\"font-size: 0.8em; font-weight: bold; line-height: 1; border-radius: 0.35em; vertical-align: middle; margin-left: 0.5rem\">EXPERIENCE</span>\n",
       "</mark>\n",
       " of beauty products. </div></span>"
      ],
      "text/plain": [
       "<IPython.core.display.HTML object>"
      ]
     },
     "metadata": {},
     "output_type": "display_data"
    },
    {
     "data": {
      "text/html": [
       "<span class=\"tex2jax_ignore\"><div class=\"entities\" style=\"line-height: 2.5; direction: ltr\">You will collaborate with product managers  software engineers  UX designers  scientists  and the broader Amazon tech community to build solutions that enhance the beauty shopping \n",
       "<mark class=\"entity\" style=\"background: pink; padding: 0.45em 0.6em; margin: 0 0.25em; line-height: 1; border-radius: 0.35em;\">\n",
       "    experience\n",
       "    <span style=\"font-size: 0.8em; font-weight: bold; line-height: 1; border-radius: 0.35em; vertical-align: middle; margin-left: 0.5rem\">MISSING</span>\n",
       "</mark>\n",
       " across all surfaces  including desktop  mobile devices  and other Amazon devices.  </div></span>"
      ],
      "text/plain": [
       "<IPython.core.display.HTML object>"
      ]
     },
     "metadata": {},
     "output_type": "display_data"
    },
    {
     "data": {
      "text/html": [
       "<span class=\"tex2jax_ignore\"><div class=\"entities\" style=\"line-height: 2.5; direction: ltr\">We are a small group of engineers  scientists  product managers  and designers who drive technological innovation to improve customer \n",
       "<mark class=\"entity\" style=\"background: pink; padding: 0.45em 0.6em; margin: 0 0.25em; line-height: 1; border-radius: 0.35em;\">\n",
       "    experience\n",
       "    <span style=\"font-size: 0.8em; font-weight: bold; line-height: 1; border-radius: 0.35em; vertical-align: middle; margin-left: 0.5rem\">MISSING</span>\n",
       "</mark>\n",
       ". </div></span>"
      ],
      "text/plain": [
       "<IPython.core.display.HTML object>"
      ]
     },
     "metadata": {},
     "output_type": "display_data"
    },
    {
     "data": {
      "text/html": [
       "<span class=\"tex2jax_ignore\"><div class=\"entities\" style=\"line-height: 2.5; direction: ltr\">\n",
       "<mark class=\"entity\" style=\"background: pink; padding: 0.45em 0.6em; margin: 0 0.25em; line-height: 1; border-radius: 0.35em;\">\n",
       "    Experience\n",
       "    <span style=\"font-size: 0.8em; font-weight: bold; line-height: 1; border-radius: 0.35em; vertical-align: middle; margin-left: 0.5rem\">MISSING</span>\n",
       "</mark>\n",
       " applying various machine learning techniques  and understanding the key parameters that affect their performance. </div></span>"
      ],
      "text/plain": [
       "<IPython.core.display.HTML object>"
      ]
     },
     "metadata": {},
     "output_type": "display_data"
    },
    {
     "data": {
      "text/html": [
       "<span class=\"tex2jax_ignore\"><div class=\"entities\" style=\"line-height: 2.5; direction: ltr\">\n",
       "<mark class=\"entity\" style=\"background: pink; padding: 0.45em 0.6em; margin: 0 0.25em; line-height: 1; border-radius: 0.35em;\">\n",
       "    Experience\n",
       "    <span style=\"font-size: 0.8em; font-weight: bold; line-height: 1; border-radius: 0.35em; vertical-align: middle; margin-left: 0.5rem\">MISSING</span>\n",
       "</mark>\n",
       " partnering with engineering teams to build and test production systems. </div></span>"
      ],
      "text/plain": [
       "<IPython.core.display.HTML object>"
      ]
     },
     "metadata": {},
     "output_type": "display_data"
    },
    {
     "data": {
      "text/html": [
       "<span class=\"tex2jax_ignore\"><div class=\"entities\" style=\"line-height: 2.5; direction: ltr\">Experience in Frequentist and \n",
       "<mark class=\"entity\" style=\"background: lightgreen; padding: 0.45em 0.6em; margin: 0 0.25em; line-height: 1; border-radius: 0.35em;\">\n",
       "    Bayesian Statistical methods\n",
       "    <span style=\"font-size: 0.8em; font-weight: bold; line-height: 1; border-radius: 0.35em; vertical-align: middle; margin-left: 0.5rem\">EXPERIENCE</span>\n",
       "</mark>\n",
       " (2+ years) </div></span>"
      ],
      "text/plain": [
       "<IPython.core.display.HTML object>"
      ]
     },
     "metadata": {},
     "output_type": "display_data"
    },
    {
     "data": {
      "text/html": [
       "<span class=\"tex2jax_ignore\"><div class=\"entities\" style=\"line-height: 2.5; direction: ltr\">\n",
       "<mark class=\"entity\" style=\"background: pink; padding: 0.45em 0.6em; margin: 0 0.25em; line-height: 1; border-radius: 0.35em;\">\n",
       "    Experience\n",
       "    <span style=\"font-size: 0.8em; font-weight: bold; line-height: 1; border-radius: 0.35em; vertical-align: middle; margin-left: 0.5rem\">MISSING</span>\n",
       "</mark>\n",
       " working with Machine Learning algorithms  Probabilistic Models  and/or other statistical modelling approaches (2+ years) </div></span>"
      ],
      "text/plain": [
       "<IPython.core.display.HTML object>"
      ]
     },
     "metadata": {},
     "output_type": "display_data"
    },
    {
     "data": {
      "text/html": [
       "<span class=\"tex2jax_ignore\"><div class=\"entities\" style=\"line-height: 2.5; direction: ltr\">Experience with \n",
       "<mark class=\"entity\" style=\"background: lightgreen; padding: 0.45em 0.6em; margin: 0 0.25em; line-height: 1; border-radius: 0.35em;\">\n",
       "    modern R packages\n",
       "    <span style=\"font-size: 0.8em; font-weight: bold; line-height: 1; border-radius: 0.35em; vertical-align: middle; margin-left: 0.5rem\">EXPERIENCE</span>\n",
       "</mark>\n",
       " such as dplyr  ggplot2  data.table  etc Experience in front-\n",
       "<mark class=\"entity\" style=\"background: lightgreen; padding: 0.45em 0.6em; margin: 0 0.25em; line-height: 1; border-radius: 0.35em;\">\n",
       "    end R technologies\n",
       "    <span style=\"font-size: 0.8em; font-weight: bold; line-height: 1; border-radius: 0.35em; vertical-align: middle; margin-left: 0.5rem\">EXPERIENCE</span>\n",
       "</mark>\n",
       " for data products such as ShinyR  Flexdashboard Ability to write complex SQL queries Working knowledge of software engineering fundamentals and workflows Experience working with container orchestration platforms such as Kubernetes or Docker Swarm Cloud Computing Experience Authority to legally work in Canada We offer: An environment passionate about growth and learning Competitive salary with bonus Fitness subsidy program Free beverages in the office Workplace that is conveniently located along the Yonge/Sheppard line What we are looking for: This is a key role within the team and would suit someone who has a strong passion for working with data and data science. </div></span>"
      ],
      "text/plain": [
       "<IPython.core.display.HTML object>"
      ]
     },
     "metadata": {},
     "output_type": "display_data"
    },
    {
     "data": {
      "text/html": [
       "<span class=\"tex2jax_ignore\"><div class=\"entities\" style=\"line-height: 2.5; direction: ltr\">\n",
       "<mark class=\"entity\" style=\"background: pink; padding: 0.45em 0.6em; margin: 0 0.25em; line-height: 1; border-radius: 0.35em;\">\n",
       "    Experience\n",
       "    <span style=\"font-size: 0.8em; font-weight: bold; line-height: 1; border-radius: 0.35em; vertical-align: middle; margin-left: 0.5rem\">MISSING</span>\n",
       "</mark>\n",
       ": R programming: 3 years (preferred) Frequentist and/or Bayesian statistical: 2 years (preferred) </div></span>"
      ],
      "text/plain": [
       "<IPython.core.display.HTML object>"
      ]
     },
     "metadata": {},
     "output_type": "display_data"
    },
    {
     "data": {
      "text/html": [
       "<span class=\"tex2jax_ignore\"><div class=\"entities\" style=\"line-height: 2.5; direction: ltr\">We love to turn data into stories - stories about money falling through the cracks  success stories about our products and services  but most importantly stories about our customers and how we can enhance their \n",
       "<mark class=\"entity\" style=\"background: pink; padding: 0.45em 0.6em; margin: 0 0.25em; line-height: 1; border-radius: 0.35em;\">\n",
       "    experience\n",
       "    <span style=\"font-size: 0.8em; font-weight: bold; line-height: 1; border-radius: 0.35em; vertical-align: middle; margin-left: 0.5rem\">MISSING</span>\n",
       "</mark>\n",
       ". </div></span>"
      ],
      "text/plain": [
       "<IPython.core.display.HTML object>"
      ]
     },
     "metadata": {},
     "output_type": "display_data"
    },
    {
     "data": {
      "text/html": [
       "<span class=\"tex2jax_ignore\"><div class=\"entities\" style=\"line-height: 2.5; direction: ltr\">You're the missing piece of the puzzle You are analytical and outcome-oriented with a proven ability to synthesize data into actionable insights You can work with business stakeholders  manage relationships and lead marketing programs from a data standpoint Effectively communicate to senior leadership giving them updates on programs Work closely with other BI teams to enable marketing initiatives Can work in a highly dynamic environment  with changing priorities and has ability to switch gears quickly to a new initiative You believe in automation and in building repeatable processes to create standardized datasets  reports or analysis You are well-versed with Business Intelligence/ Market Intelligence processes  CRM  or other marketing technologies You have demonstrated the ability to successfully deliver complex projects involving people  process  technology  and change management You have experience with \n",
       "<mark class=\"entity\" style=\"background: lightgreen; padding: 0.45em 0.6em; margin: 0 0.25em; line-height: 1; border-radius: 0.35em;\">\n",
       "    agile ways\n",
       "    <span style=\"font-size: 0.8em; font-weight: bold; line-height: 1; border-radius: 0.35em; vertical-align: middle; margin-left: 0.5rem\">EXPERIENCE</span>\n",
       "</mark>\n",
       " of working and a bias for action to break down barriers to get results fast with a test and learn mindset You can assemble large complex datasets across multiple databases and sources by building automated pipelines (ETL) You have experience mapping various customer data using ‘fuzzy matching' to join disconnected data sets You have proven record of implementing business rules  optimizing processes and performing automated data quality audits Strong analytic skills related to working with unstructured datasets. </div></span>"
      ],
      "text/plain": [
       "<IPython.core.display.HTML object>"
      ]
     },
     "metadata": {},
     "output_type": "display_data"
    },
    {
     "data": {
      "text/html": [
       "<span class=\"tex2jax_ignore\"><div class=\"entities\" style=\"line-height: 2.5; direction: ltr\">You can influence team members and work on projects collaboratively Must-haves Advanced working SQL knowledge and \n",
       "<mark class=\"entity\" style=\"background: pink; padding: 0.45em 0.6em; margin: 0 0.25em; line-height: 1; border-radius: 0.35em;\">\n",
       "    experience\n",
       "    <span style=\"font-size: 0.8em; font-weight: bold; line-height: 1; border-radius: 0.35em; vertical-align: middle; margin-left: 0.5rem\">MISSING</span>\n",
       "</mark>\n",
       " working with relational databases  query authoring (SQL) as well as working familiarity with a variety of databases Can live  breathe and talk data SAS  DOMO  Tableau experience Technical or data-driven educational background (computer science  engineering  statistics  data science) and/or </div></span>"
      ],
      "text/plain": [
       "<IPython.core.display.HTML object>"
      ]
     },
     "metadata": {},
     "output_type": "display_data"
    },
    {
     "data": {
      "text/html": [
       "<span class=\"tex2jax_ignore\"><div class=\"entities\" style=\"line-height: 2.5; direction: ltr\">Masters of Business Administration (MBA) degree 3+ years of progressive and relevant work experience Great-to-haves Prior telecommunications expertise Python experience Hive  Spark  NiFi experience B2B marketing Experience with \n",
       "<mark class=\"entity\" style=\"background: lightgreen; padding: 0.45em 0.6em; margin: 0 0.25em; line-height: 1; border-radius: 0.35em;\">\n",
       "    cloud\n",
       "    <span style=\"font-size: 0.8em; font-weight: bold; line-height: 1; border-radius: 0.35em; vertical-align: middle; margin-left: 0.5rem\">EXPERIENCE</span>\n",
       "</mark>\n",
       " (\n",
       "<mark class=\"entity\" style=\"background: lightgreen; padding: 0.45em 0.6em; margin: 0 0.25em; line-height: 1; border-radius: 0.35em;\">\n",
       "    GCP AWS\n",
       "    <span style=\"font-size: 0.8em; font-weight: bold; line-height: 1; border-radius: 0.35em; vertical-align: middle; margin-left: 0.5rem\">EXPERIENCE</span>\n",
       "</mark>\n",
       " or \n",
       "<mark class=\"entity\" style=\"background: lightgreen; padding: 0.45em 0.6em; margin: 0 0.25em; line-height: 1; border-radius: 0.35em;\">\n",
       "    Azure\n",
       "    <span style=\"font-size: 0.8em; font-weight: bold; line-height: 1; border-radius: 0.35em; vertical-align: middle; margin-left: 0.5rem\">EXPERIENCE</span>\n",
       "</mark>\n",
       ") Experience with the Salesforce tech  i.e.  marketing cloud  Pardot  Einstein Data Science / \n",
       "<mark class=\"entity\" style=\"background: lightgreen; padding: 0.45em 0.6em; margin: 0 0.25em; line-height: 1; border-radius: 0.35em;\">\n",
       "    Modeling experience\n",
       "    <span style=\"font-size: 0.8em; font-weight: bold; line-height: 1; border-radius: 0.35em; vertical-align: middle; margin-left: 0.5rem\">EXPERIENCE</span>\n",
       "</mark>\n",
       " or \n",
       "<mark class=\"entity\" style=\"background: lightgreen; padding: 0.45em 0.6em; margin: 0 0.25em; line-height: 1; border-radius: 0.35em;\">\n",
       "    working\n",
       "    <span style=\"font-size: 0.8em; font-weight: bold; line-height: 1; border-radius: 0.35em; vertical-align: middle; margin-left: 0.5rem\">EXPERIENCE</span>\n",
       "</mark>\n",
       " in a Data Science team Who is TELUS? </div></span>"
      ],
      "text/plain": [
       "<IPython.core.display.HTML object>"
      ]
     },
     "metadata": {},
     "output_type": "display_data"
    }
   ],
   "source": [
    "show_extraction(ads[10:15], extract_adp_conj_experience)\n"
   ]
  },
  {
   "cell_type": "code",
   "execution_count": 53,
   "id": "73411223",
   "metadata": {
    "scrolled": true
   },
   "outputs": [
    {
     "data": {
      "text/html": [
       "<span class=\"tex2jax_ignore\"><div class=\"entities\" style=\"line-height: 2.5; direction: ltr\">The successful candidate will work closely with the product and engineering team to translate technological and customer requirements into valuable features that ensure a great user \n",
       "<mark class=\"entity\" style=\"background: pink; padding: 0.45em 0.6em; margin: 0 0.25em; line-height: 1; border-radius: 0.35em;\">\n",
       "    experience\n",
       "    <span style=\"font-size: 0.8em; font-weight: bold; line-height: 1; border-radius: 0.35em; vertical-align: middle; margin-left: 0.5rem\">MISSING</span>\n",
       "</mark>\n",
       ".   </div></span>"
      ],
      "text/plain": [
       "<IPython.core.display.HTML object>"
      ]
     },
     "metadata": {},
     "output_type": "display_data"
    },
    {
     "data": {
      "text/html": [
       "<span class=\"tex2jax_ignore\"><div class=\"entities\" style=\"line-height: 2.5; direction: ltr\">Requirements:  3+ years in data scripting languages e.g Python Hands-on experience in the \n",
       "<mark class=\"entity\" style=\"background: lightgreen; padding: 0.45em 0.6em; margin: 0 0.25em; line-height: 1; border-radius: 0.35em;\">\n",
       "    application\n",
       "    <span style=\"font-size: 0.8em; font-weight: bold; line-height: 1; border-radius: 0.35em; vertical-align: middle; margin-left: 0.5rem\">EXPERIENCE</span>\n",
       "</mark>\n",
       " of predictive modeling  artificial neural networks  time-series analysis  clustering and classification techniques  and other advanced analytical techniques Experience using CI/CD tools Good design and problem-solving skills and an ability to innovate and solve challenging technical problems Knowledge of the software development lifecycle and Agile methodologies Excellent organization and time management skills</div></span>"
      ],
      "text/plain": [
       "<IPython.core.display.HTML object>"
      ]
     },
     "metadata": {},
     "output_type": "display_data"
    },
    {
     "data": {
      "text/html": [
       "<span class=\"tex2jax_ignore\"><div class=\"entities\" style=\"line-height: 2.5; direction: ltr\">Requirements: Minimum of 3 - 5 years of data science experience using python Strong ML and statistics background 2+ years of software development experience Experience with keras  \n",
       "<mark class=\"entity\" style=\"background: lightgreen; padding: 0.45em 0.6em; margin: 0 0.25em; line-height: 1; border-radius: 0.35em;\">\n",
       "    tensorflow\n",
       "    <span style=\"font-size: 0.8em; font-weight: bold; line-height: 1; border-radius: 0.35em; vertical-align: middle; margin-left: 0.5rem\">EXPERIENCE</span>\n",
       "</mark>\n",
       "  and \n",
       "<mark class=\"entity\" style=\"background: lightgreen; padding: 0.45em 0.6em; margin: 0 0.25em; line-height: 1; border-radius: 0.35em;\">\n",
       "    sklearn\n",
       "    <span style=\"font-size: 0.8em; font-weight: bold; line-height: 1; border-radius: 0.35em; vertical-align: middle; margin-left: 0.5rem\">EXPERIENCE</span>\n",
       "</mark>\n",
       ". </div></span>"
      ],
      "text/plain": [
       "<IPython.core.display.HTML object>"
      ]
     },
     "metadata": {},
     "output_type": "display_data"
    },
    {
     "data": {
      "text/html": [
       "<span class=\"tex2jax_ignore\"><div class=\"entities\" style=\"line-height: 2.5; direction: ltr\">Experience with time-series and \n",
       "<mark class=\"entity\" style=\"background: lightgreen; padding: 0.45em 0.6em; margin: 0 0.25em; line-height: 1; border-radius: 0.35em;\">\n",
       "    operations data\n",
       "    <span style=\"font-size: 0.8em; font-weight: bold; line-height: 1; border-radius: 0.35em; vertical-align: middle; margin-left: 0.5rem\">EXPERIENCE</span>\n",
       "</mark>\n",
       " is an asset Previous Kaggle experience or similar is a plus Ability to work in a fast-paced agile environment Experience using Git in a team environment Flexibility to adjust to changing priorities  requirements  and schedules Familiarity with working on remote linux instances Available in office full-time (KW)  Responsibilities: Own significant product requirements and drive them from development to deployment Tune and monitor machine learning models deployed for customers. </div></span>"
      ],
      "text/plain": [
       "<IPython.core.display.HTML object>"
      ]
     },
     "metadata": {},
     "output_type": "display_data"
    },
    {
     "data": {
      "text/html": [
       "<span class=\"tex2jax_ignore\"><div class=\"entities\" style=\"line-height: 2.5; direction: ltr\">In our mission to be the BEST combined Live and Digital fitness \n",
       "<mark class=\"entity\" style=\"background: pink; padding: 0.45em 0.6em; margin: 0 0.25em; line-height: 1; border-radius: 0.35em;\">\n",
       "    experience\n",
       "    <span style=\"font-size: 0.8em; font-weight: bold; line-height: 1; border-radius: 0.35em; vertical-align: middle; margin-left: 0.5rem\">MISSING</span>\n",
       "</mark>\n",
       "  data plays a significant role in empowering a more personalized and informed suite of digital services. </div></span>"
      ],
      "text/plain": [
       "<IPython.core.display.HTML object>"
      ]
     },
     "metadata": {},
     "output_type": "display_data"
    },
    {
     "data": {
      "text/html": [
       "<span class=\"tex2jax_ignore\"><div class=\"entities\" style=\"line-height: 2.5; direction: ltr\">Bachelor’s degree in Computer Science  Software Engineering or equivalent 5+ years’ experience in ETL/\n",
       "<mark class=\"entity\" style=\"background: lightgreen; padding: 0.45em 0.6em; margin: 0 0.25em; line-height: 1; border-radius: 0.35em;\">\n",
       "    data modeling\n",
       "    <span style=\"font-size: 0.8em; font-weight: bold; line-height: 1; border-radius: 0.35em; vertical-align: middle; margin-left: 0.5rem\">EXPERIENCE</span>\n",
       "</mark>\n",
       "  building scalable and reliable data pipelines  architecting data stores  supporting complex ETL processes including SLA  performance measurements  and monitoring Hands-on experience with leading \n",
       "<mark class=\"entity\" style=\"background: lightgreen; padding: 0.45em 0.6em; margin: 0 0.25em; line-height: 1; border-radius: 0.35em;\">\n",
       "    Cloud platforms\n",
       "    <span style=\"font-size: 0.8em; font-weight: bold; line-height: 1; border-radius: 0.35em; vertical-align: middle; margin-left: 0.5rem\">EXPERIENCE</span>\n",
       "</mark>\n",
       "  including Azure Cloud Data Solutions and AWS Experience with \n",
       "<mark class=\"entity\" style=\"background: lightgreen; padding: 0.45em 0.6em; margin: 0 0.25em; line-height: 1; border-radius: 0.35em;\">\n",
       "    Informatica IICS\n",
       "    <span style=\"font-size: 0.8em; font-weight: bold; line-height: 1; border-radius: 0.35em; vertical-align: middle; margin-left: 0.5rem\">EXPERIENCE</span>\n",
       "</mark>\n",
       " and \n",
       "<mark class=\"entity\" style=\"background: lightgreen; padding: 0.45em 0.6em; margin: 0 0.25em; line-height: 1; border-radius: 0.35em;\">\n",
       "    Snowflake\n",
       "    <span style=\"font-size: 0.8em; font-weight: bold; line-height: 1; border-radius: 0.35em; vertical-align: middle; margin-left: 0.5rem\">EXPERIENCE</span>\n",
       "</mark>\n",
       " considered a strong asset Experience with message queues  \n",
       "<mark class=\"entity\" style=\"background: lightgreen; padding: 0.45em 0.6em; margin: 0 0.25em; line-height: 1; border-radius: 0.35em;\">\n",
       "    batch\n",
       "    <span style=\"font-size: 0.8em; font-weight: bold; line-height: 1; border-radius: 0.35em; vertical-align: middle; margin-left: 0.5rem\">EXPERIENCE</span>\n",
       "</mark>\n",
       " and \n",
       "<mark class=\"entity\" style=\"background: lightgreen; padding: 0.45em 0.6em; margin: 0 0.25em; line-height: 1; border-radius: 0.35em;\">\n",
       "    stream\n",
       "    <span style=\"font-size: 0.8em; font-weight: bold; line-height: 1; border-radius: 0.35em; vertical-align: middle; margin-left: 0.5rem\">EXPERIENCE</span>\n",
       "</mark>\n",
       " processing Excellent SQL skills and experience in a DevOps environment Experience with \n",
       "<mark class=\"entity\" style=\"background: lightgreen; padding: 0.45em 0.6em; margin: 0 0.25em; line-height: 1; border-radius: 0.35em;\">\n",
       "    Agile development methodologies\n",
       "    <span style=\"font-size: 0.8em; font-weight: bold; line-height: 1; border-radius: 0.35em; vertical-align: middle; margin-left: 0.5rem\">EXPERIENCE</span>\n",
       "</mark>\n",
       " Detail oriented: high standard of data quality and integrity Familiarity with NoSQL databases like MongoDB is nice to have Adaptable to a fast-paced environment and able to pivot quickly to align with changing priorities Strong people skills  team player  excellent oral and written communication skills Strong analytical and problem-solving skills  Able to multi-task Committed to contributing to a culture that celebrates diversity  equity and inclusion and embraces social and environmental responsibility  </div></span>"
      ],
      "text/plain": [
       "<IPython.core.display.HTML object>"
      ]
     },
     "metadata": {},
     "output_type": "display_data"
    },
    {
     "data": {
      "text/html": [
       "<span class=\"tex2jax_ignore\"><div class=\"entities\" style=\"line-height: 2.5; direction: ltr\">Qualifications High School Diploma or equivalent Req 1 to 2 years’ relevant work \n",
       "<mark class=\"entity\" style=\"background: pink; padding: 0.45em 0.6em; margin: 0 0.25em; line-height: 1; border-radius: 0.35em;\">\n",
       "    experience\n",
       "    <span style=\"font-size: 0.8em; font-weight: bold; line-height: 1; border-radius: 0.35em; vertical-align: middle; margin-left: 0.5rem\">MISSING</span>\n",
       "</mark>\n",
       ". </div></span>"
      ],
      "text/plain": [
       "<IPython.core.display.HTML object>"
      ]
     },
     "metadata": {},
     "output_type": "display_data"
    },
    {
     "data": {
      "text/html": [
       "<span class=\"tex2jax_ignore\"><div class=\"entities\" style=\"line-height: 2.5; direction: ltr\">Equivalent combination of education  training and \n",
       "<mark class=\"entity\" style=\"background: pink; padding: 0.45em 0.6em; margin: 0 0.25em; line-height: 1; border-radius: 0.35em;\">\n",
       "    experience\n",
       "    <span style=\"font-size: 0.8em; font-weight: bold; line-height: 1; border-radius: 0.35em; vertical-align: middle; margin-left: 0.5rem\">MISSING</span>\n",
       "</mark>\n",
       ". </div></span>"
      ],
      "text/plain": [
       "<IPython.core.display.HTML object>"
      ]
     },
     "metadata": {},
     "output_type": "display_data"
    },
    {
     "data": {
      "text/html": [
       "<span class=\"tex2jax_ignore\"><div class=\"entities\" style=\"line-height: 2.5; direction: ltr\">Collaborate with other groups worldwide to assist in product design  business strategy and user experience research  etc. Be constantly challenged to learn and grow with new technologies  identify and solve complex problems via data  Skills and Qualifications  5+ years of experience in \n",
       "<mark class=\"entity\" style=\"background: lightgreen; padding: 0.45em 0.6em; margin: 0 0.25em; line-height: 1; border-radius: 0.35em;\">\n",
       "    big data engineering\n",
       "    <span style=\"font-size: 0.8em; font-weight: bold; line-height: 1; border-radius: 0.35em; vertical-align: middle; margin-left: 0.5rem\">EXPERIENCE</span>\n",
       "</mark>\n",
       " Have deep understanding on data engineering principles Hands-on experience of \n",
       "<mark class=\"entity\" style=\"background: lightgreen; padding: 0.45em 0.6em; margin: 0 0.25em; line-height: 1; border-radius: 0.35em;\">\n",
       "    large scale\n",
       "    <span style=\"font-size: 0.8em; font-weight: bold; line-height: 1; border-radius: 0.35em; vertical-align: middle; margin-left: 0.5rem\">EXPERIENCE</span>\n",
       "</mark>\n",
       " and \n",
       "<mark class=\"entity\" style=\"background: lightgreen; padding: 0.45em 0.6em; margin: 0 0.25em; line-height: 1; border-radius: 0.35em;\">\n",
       "    high availability systems\n",
       "    <span style=\"font-size: 0.8em; font-weight: bold; line-height: 1; border-radius: 0.35em; vertical-align: middle; margin-left: 0.5rem\">EXPERIENCE</span>\n",
       "</mark>\n",
       " Strong knowledge of SQL (MySQL  PostgreSQL) and preferably experience with \n",
       "<mark class=\"entity\" style=\"background: lightgreen; padding: 0.45em 0.6em; margin: 0 0.25em; line-height: 1; border-radius: 0.35em;\">\n",
       "    NoSQL\n",
       "    <span style=\"font-size: 0.8em; font-weight: bold; line-height: 1; border-radius: 0.35em; vertical-align: middle; margin-left: 0.5rem\">EXPERIENCE</span>\n",
       "</mark>\n",
       " databases Proficient in at least one programming language and scripting languages (bash  Python  etc.) </div></span>"
      ],
      "text/plain": [
       "<IPython.core.display.HTML object>"
      ]
     },
     "metadata": {},
     "output_type": "display_data"
    },
    {
     "data": {
      "text/html": [
       "<span class=\"tex2jax_ignore\"><div class=\"entities\" style=\"line-height: 2.5; direction: ltr\">Experience with \n",
       "<mark class=\"entity\" style=\"background: lightgreen; padding: 0.45em 0.6em; margin: 0 0.25em; line-height: 1; border-radius: 0.35em;\">\n",
       "    various AWS services\n",
       "    <span style=\"font-size: 0.8em; font-weight: bold; line-height: 1; border-radius: 0.35em; vertical-align: middle; margin-left: 0.5rem\">EXPERIENCE</span>\n",
       "</mark>\n",
       " (EC2  S3  AWS </div></span>"
      ],
      "text/plain": [
       "<IPython.core.display.HTML object>"
      ]
     },
     "metadata": {},
     "output_type": "display_data"
    },
    {
     "data": {
      "text/html": [
       "<span class=\"tex2jax_ignore\"><div class=\"entities\" style=\"line-height: 2.5; direction: ltr\">BS or MS in Computer Science or equivalent experience  Bonus Skills  Experience with Ariflow  EKS  \n",
       "<mark class=\"entity\" style=\"background: lightgreen; padding: 0.45em 0.6em; margin: 0 0.25em; line-height: 1; border-radius: 0.35em;\">\n",
       "    EMR\n",
       "    <span style=\"font-size: 0.8em; font-weight: bold; line-height: 1; border-radius: 0.35em; vertical-align: middle; margin-left: 0.5rem\">EXPERIENCE</span>\n",
       "</mark>\n",
       "  Redshift  OLAP </div></span>"
      ],
      "text/plain": [
       "<IPython.core.display.HTML object>"
      ]
     },
     "metadata": {},
     "output_type": "display_data"
    },
    {
     "data": {
      "text/html": [
       "<span class=\"tex2jax_ignore\"><div class=\"entities\" style=\"line-height: 2.5; direction: ltr\">Experience with \n",
       "<mark class=\"entity\" style=\"background: lightgreen; padding: 0.45em 0.6em; margin: 0 0.25em; line-height: 1; border-radius: 0.35em;\">\n",
       "    Git\n",
       "    <span style=\"font-size: 0.8em; font-weight: bold; line-height: 1; border-radius: 0.35em; vertical-align: middle; margin-left: 0.5rem\">EXPERIENCE</span>\n",
       "</mark>\n",
       " and \n",
       "<mark class=\"entity\" style=\"background: lightgreen; padding: 0.45em 0.6em; margin: 0 0.25em; line-height: 1; border-radius: 0.35em;\">\n",
       "    CircleCI\n",
       "    <span style=\"font-size: 0.8em; font-weight: bold; line-height: 1; border-radius: 0.35em; vertical-align: middle; margin-left: 0.5rem\">EXPERIENCE</span>\n",
       "</mark>\n",
       " </div></span>"
      ],
      "text/plain": [
       "<IPython.core.display.HTML object>"
      ]
     },
     "metadata": {},
     "output_type": "display_data"
    },
    {
     "data": {
      "text/html": [
       "<span class=\"tex2jax_ignore\"><div class=\"entities\" style=\"line-height: 2.5; direction: ltr\">We help insurers fully automate more claims  deliver a great customer \n",
       "<mark class=\"entity\" style=\"background: pink; padding: 0.45em 0.6em; margin: 0 0.25em; line-height: 1; border-radius: 0.35em;\">\n",
       "    experience\n",
       "    <span style=\"font-size: 0.8em; font-weight: bold; line-height: 1; border-radius: 0.35em; vertical-align: middle; margin-left: 0.5rem\">MISSING</span>\n",
       "</mark>\n",
       " while protecting against risk and accurately identifying suspected fraud  making internal teams more effective and improving financial performance.  </div></span>"
      ],
      "text/plain": [
       "<IPython.core.display.HTML object>"
      ]
     },
     "metadata": {},
     "output_type": "display_data"
    },
    {
     "data": {
      "text/html": [
       "<span class=\"tex2jax_ignore\"><div class=\"entities\" style=\"line-height: 2.5; direction: ltr\">Shift Technology offers a unique opportunity to brilliant candidates to accelerate their careers in data science  Data scientists work on a broad range of subjects  acquiring a lot of technical and professional experience in data science  \n",
       "<mark class=\"entity\" style=\"background: lightgreen; padding: 0.45em 0.6em; margin: 0 0.25em; line-height: 1; border-radius: 0.35em;\">\n",
       "    data engineering\n",
       "    <span style=\"font-size: 0.8em; font-weight: bold; line-height: 1; border-radius: 0.35em; vertical-align: middle; margin-left: 0.5rem\">EXPERIENCE</span>\n",
       "</mark>\n",
       "  coding  \n",
       "<mark class=\"entity\" style=\"background: lightgreen; padding: 0.45em 0.6em; margin: 0 0.25em; line-height: 1; border-radius: 0.35em;\">\n",
       "    business understanding\n",
       "    <span style=\"font-size: 0.8em; font-weight: bold; line-height: 1; border-radius: 0.35em; vertical-align: middle; margin-left: 0.5rem\">EXPERIENCE</span>\n",
       "</mark>\n",
       " and \n",
       "<mark class=\"entity\" style=\"background: lightgreen; padding: 0.45em 0.6em; margin: 0 0.25em; line-height: 1; border-radius: 0.35em;\">\n",
       "    client interactions\n",
       "    <span style=\"font-size: 0.8em; font-weight: bold; line-height: 1; border-radius: 0.35em; vertical-align: middle; margin-left: 0.5rem\">EXPERIENCE</span>\n",
       "</mark>\n",
       "  skills invaluable in any career.  </div></span>"
      ],
      "text/plain": [
       "<IPython.core.display.HTML object>"
      ]
     },
     "metadata": {},
     "output_type": "display_data"
    },
    {
     "data": {
      "text/html": [
       "<span class=\"tex2jax_ignore\"><div class=\"entities\" style=\"line-height: 2.5; direction: ltr\">At the Intact Lab  we use machine learning  data science  software engineering  AI  agility  UX and design thinking to transform the customer \n",
       "<mark class=\"entity\" style=\"background: pink; padding: 0.45em 0.6em; margin: 0 0.25em; line-height: 1; border-radius: 0.35em;\">\n",
       "    experience\n",
       "    <span style=\"font-size: 0.8em; font-weight: bold; line-height: 1; border-radius: 0.35em; vertical-align: middle; margin-left: 0.5rem\">MISSING</span>\n",
       "</mark>\n",
       " for millions of Canadians. </div></span>"
      ],
      "text/plain": [
       "<IPython.core.display.HTML object>"
      ]
     },
     "metadata": {},
     "output_type": "display_data"
    },
    {
     "data": {
      "text/html": [
       "<span class=\"tex2jax_ignore\"><div class=\"entities\" style=\"line-height: 2.5; direction: ltr\">Your 8 years of experience in the \n",
       "<mark class=\"entity\" style=\"background: lightgreen; padding: 0.45em 0.6em; margin: 0 0.25em; line-height: 1; border-radius: 0.35em;\">\n",
       "    field\n",
       "    <span style=\"font-size: 0.8em; font-weight: bold; line-height: 1; border-radius: 0.35em; vertical-align: middle; margin-left: 0.5rem\">EXPERIENCE</span>\n",
       "</mark>\n",
       " of advanced statistics  data mining and text mining Strong communication  time management  great teamworking and organization skills Expert-level understanding of the underlying theory of machine learning Expert-level understanding in either computer image analysis  natural language processing or artificial intelligence A multi-platform production experience with commercial and open-\n",
       "<mark class=\"entity\" style=\"background: lightgreen; padding: 0.45em 0.6em; margin: 0 0.25em; line-height: 1; border-radius: 0.35em;\">\n",
       "    source data mining frameworks\n",
       "    <span style=\"font-size: 0.8em; font-weight: bold; line-height: 1; border-radius: 0.35em; vertical-align: middle; margin-left: 0.5rem\">EXPERIENCE</span>\n",
       "</mark>\n",
       " like Python  R  GitHub  etc. </div></span>"
      ],
      "text/plain": [
       "<IPython.core.display.HTML object>"
      ]
     },
     "metadata": {},
     "output_type": "display_data"
    },
    {
     "data": {
      "text/html": [
       "<span class=\"tex2jax_ignore\"><div class=\"entities\" style=\"line-height: 2.5; direction: ltr\">They understand the technical aspects of data engineering and analysis but are focused on what the data is saying and how we can use it to provide a more personalized and targeted experience for our \n",
       "<mark class=\"entity\" style=\"background: lightgreen; padding: 0.45em 0.6em; margin: 0 0.25em; line-height: 1; border-radius: 0.35em;\">\n",
       "    customers\n",
       "    <span style=\"font-size: 0.8em; font-weight: bold; line-height: 1; border-radius: 0.35em; vertical-align: middle; margin-left: 0.5rem\">EXPERIENCE</span>\n",
       "</mark>\n",
       ".  </div></span>"
      ],
      "text/plain": [
       "<IPython.core.display.HTML object>"
      ]
     },
     "metadata": {},
     "output_type": "display_data"
    },
    {
     "data": {
      "text/html": [
       "<span class=\"tex2jax_ignore\"><div class=\"entities\" style=\"line-height: 2.5; direction: ltr\">Operational Efficiencies: Analyze data and developer feedback to understand needs  reduce time to onboard and build on the platform  and improve overall stakeholder \n",
       "<mark class=\"entity\" style=\"background: pink; padding: 0.45em 0.6em; margin: 0 0.25em; line-height: 1; border-radius: 0.35em;\">\n",
       "    experience\n",
       "    <span style=\"font-size: 0.8em; font-weight: bold; line-height: 1; border-radius: 0.35em; vertical-align: middle; margin-left: 0.5rem\">MISSING</span>\n",
       "</mark>\n",
       ". </div></span>"
      ],
      "text/plain": [
       "<IPython.core.display.HTML object>"
      ]
     },
     "metadata": {},
     "output_type": "display_data"
    },
    {
     "data": {
      "text/html": [
       "<span class=\"tex2jax_ignore\"><div class=\"entities\" style=\"line-height: 2.5; direction: ltr\">What we’re looking for:  Degree in Computer Science or equivalent with 5+ years of data analysis and product management \n",
       "<mark class=\"entity\" style=\"background: pink; padding: 0.45em 0.6em; margin: 0 0.25em; line-height: 1; border-radius: 0.35em;\">\n",
       "    experience\n",
       "    <span style=\"font-size: 0.8em; font-weight: bold; line-height: 1; border-radius: 0.35em; vertical-align: middle; margin-left: 0.5rem\">MISSING</span>\n",
       "</mark>\n",
       ". </div></span>"
      ],
      "text/plain": [
       "<IPython.core.display.HTML object>"
      ]
     },
     "metadata": {},
     "output_type": "display_data"
    },
    {
     "data": {
      "text/html": [
       "<span class=\"tex2jax_ignore\"><div class=\"entities\" style=\"line-height: 2.5; direction: ltr\">Hands on data extraction and analytical \n",
       "<mark class=\"entity\" style=\"background: pink; padding: 0.45em 0.6em; margin: 0 0.25em; line-height: 1; border-radius: 0.35em;\">\n",
       "    experience\n",
       "    <span style=\"font-size: 0.8em; font-weight: bold; line-height: 1; border-radius: 0.35em; vertical-align: middle; margin-left: 0.5rem\">MISSING</span>\n",
       "</mark>\n",
       " with SQL  Google Firebase  Metabase and Tableau. </div></span>"
      ],
      "text/plain": [
       "<IPython.core.display.HTML object>"
      ]
     },
     "metadata": {},
     "output_type": "display_data"
    },
    {
     "data": {
      "text/html": [
       "<span class=\"tex2jax_ignore\"><div class=\"entities\" style=\"line-height: 2.5; direction: ltr\">Demonstrated experience in \n",
       "<mark class=\"entity\" style=\"background: lightgreen; padding: 0.45em 0.6em; margin: 0 0.25em; line-height: 1; border-radius: 0.35em;\">\n",
       "    building\n",
       "    <span style=\"font-size: 0.8em; font-weight: bold; line-height: 1; border-radius: 0.35em; vertical-align: middle; margin-left: 0.5rem\">EXPERIENCE</span>\n",
       "</mark>\n",
       " or \n",
       "<mark class=\"entity\" style=\"background: lightgreen; padding: 0.45em 0.6em; margin: 0 0.25em; line-height: 1; border-radius: 0.35em;\">\n",
       "    delivering\n",
       "    <span style=\"font-size: 0.8em; font-weight: bold; line-height: 1; border-radius: 0.35em; vertical-align: middle; margin-left: 0.5rem\">EXPERIENCE</span>\n",
       "</mark>\n",
       " data store/warehouse solutions using ML  NLP  etc. </div></span>"
      ],
      "text/plain": [
       "<IPython.core.display.HTML object>"
      ]
     },
     "metadata": {},
     "output_type": "display_data"
    },
    {
     "data": {
      "text/html": [
       "<span class=\"tex2jax_ignore\"><div class=\"entities\" style=\"line-height: 2.5; direction: ltr\">Nice to have:  Experience with \n",
       "<mark class=\"entity\" style=\"background: lightgreen; padding: 0.45em 0.6em; margin: 0 0.25em; line-height: 1; border-radius: 0.35em;\">\n",
       "    Python\n",
       "    <span style=\"font-size: 0.8em; font-weight: bold; line-height: 1; border-radius: 0.35em; vertical-align: middle; margin-left: 0.5rem\">EXPERIENCE</span>\n",
       "</mark>\n",
       ". </div></span>"
      ],
      "text/plain": [
       "<IPython.core.display.HTML object>"
      ]
     },
     "metadata": {},
     "output_type": "display_data"
    },
    {
     "data": {
      "text/html": [
       "<span class=\"tex2jax_ignore\"><div class=\"entities\" style=\"line-height: 2.5; direction: ltr\">SaaS or cloud-based app product \n",
       "<mark class=\"entity\" style=\"background: pink; padding: 0.45em 0.6em; margin: 0 0.25em; line-height: 1; border-radius: 0.35em;\">\n",
       "    experience\n",
       "    <span style=\"font-size: 0.8em; font-weight: bold; line-height: 1; border-radius: 0.35em; vertical-align: middle; margin-left: 0.5rem\">MISSING</span>\n",
       "</mark>\n",
       ". </div></span>"
      ],
      "text/plain": [
       "<IPython.core.display.HTML object>"
      ]
     },
     "metadata": {},
     "output_type": "display_data"
    },
    {
     "data": {
      "text/html": [
       "<span class=\"tex2jax_ignore\"><div class=\"entities\" style=\"line-height: 2.5; direction: ltr\">Experience and success in both \n",
       "<mark class=\"entity\" style=\"background: lightgreen; padding: 0.45em 0.6em; margin: 0 0.25em; line-height: 1; border-radius: 0.35em;\">\n",
       "    small startup environments\n",
       "    <span style=\"font-size: 0.8em; font-weight: bold; line-height: 1; border-radius: 0.35em; vertical-align: middle; margin-left: 0.5rem\">EXPERIENCE</span>\n",
       "</mark>\n",
       " and \n",
       "<mark class=\"entity\" style=\"background: lightgreen; padding: 0.45em 0.6em; margin: 0 0.25em; line-height: 1; border-radius: 0.35em;\">\n",
       "    large matrix organizations\n",
       "    <span style=\"font-size: 0.8em; font-weight: bold; line-height: 1; border-radius: 0.35em; vertical-align: middle; margin-left: 0.5rem\">EXPERIENCE</span>\n",
       "</mark>\n",
       ". </div></span>"
      ],
      "text/plain": [
       "<IPython.core.display.HTML object>"
      ]
     },
     "metadata": {},
     "output_type": "display_data"
    },
    {
     "data": {
      "text/html": [
       "<span class=\"tex2jax_ignore\"><div class=\"entities\" style=\"line-height: 2.5; direction: ltr\">\n",
       "<mark class=\"entity\" style=\"background: pink; padding: 0.45em 0.6em; margin: 0 0.25em; line-height: 1; border-radius: 0.35em;\">\n",
       "    Experience\n",
       "    <span style=\"font-size: 0.8em; font-weight: bold; line-height: 1; border-radius: 0.35em; vertical-align: middle; margin-left: 0.5rem\">MISSING</span>\n",
       "</mark>\n",
       " working with large financial institutions. </div></span>"
      ],
      "text/plain": [
       "<IPython.core.display.HTML object>"
      ]
     },
     "metadata": {},
     "output_type": "display_data"
    },
    {
     "data": {
      "text/html": [
       "<span class=\"tex2jax_ignore\"><div class=\"entities\" style=\"line-height: 2.5; direction: ltr\">\n",
       "<mark class=\"entity\" style=\"background: pink; padding: 0.45em 0.6em; margin: 0 0.25em; line-height: 1; border-radius: 0.35em;\">\n",
       "    Experience\n",
       "    <span style=\"font-size: 0.8em; font-weight: bold; line-height: 1; border-radius: 0.35em; vertical-align: middle; margin-left: 0.5rem\">MISSING</span>\n",
       "</mark>\n",
       " exploring new capabilities and technologies to drive innovation.   </div></span>"
      ],
      "text/plain": [
       "<IPython.core.display.HTML object>"
      ]
     },
     "metadata": {},
     "output_type": "display_data"
    },
    {
     "data": {
      "text/html": [
       "<span class=\"tex2jax_ignore\"><div class=\"entities\" style=\"line-height: 2.5; direction: ltr\">We love to turn data into stories - stories about money falling through the cracks  success stories about our products and services  but most importantly stories about our customers and how we can enhance their \n",
       "<mark class=\"entity\" style=\"background: pink; padding: 0.45em 0.6em; margin: 0 0.25em; line-height: 1; border-radius: 0.35em;\">\n",
       "    experience\n",
       "    <span style=\"font-size: 0.8em; font-weight: bold; line-height: 1; border-radius: 0.35em; vertical-align: middle; margin-left: 0.5rem\">MISSING</span>\n",
       "</mark>\n",
       ". </div></span>"
      ],
      "text/plain": [
       "<IPython.core.display.HTML object>"
      ]
     },
     "metadata": {},
     "output_type": "display_data"
    },
    {
     "data": {
      "text/html": [
       "<span class=\"tex2jax_ignore\"><div class=\"entities\" style=\"line-height: 2.5; direction: ltr\">You have advanced working SQL knowledge and experience working with relational databases  query authoring (SQL) as well as working familiarity with a variety of databases You are recognized for your curiosity and growth mindset You see the bigger picture of the problem you are trying to solve  and will proactively out new data points from varied sources (external and internal) to complement your analysis You have excellent attention to detail  a structured approach to analysis and the ability to develop logical arguments You have minimum 4-7 years of experience in a similar role and/or related education with demonstrated performance  Great-to-haves  Prior telecommunications expertise Python experience Hive  Spark  NiFi experience B2B marketing Experience with \n",
       "<mark class=\"entity\" style=\"background: lightgreen; padding: 0.45em 0.6em; margin: 0 0.25em; line-height: 1; border-radius: 0.35em;\">\n",
       "    cloud\n",
       "    <span style=\"font-size: 0.8em; font-weight: bold; line-height: 1; border-radius: 0.35em; vertical-align: middle; margin-left: 0.5rem\">EXPERIENCE</span>\n",
       "</mark>\n",
       " (\n",
       "<mark class=\"entity\" style=\"background: lightgreen; padding: 0.45em 0.6em; margin: 0 0.25em; line-height: 1; border-radius: 0.35em;\">\n",
       "    GCP AWS\n",
       "    <span style=\"font-size: 0.8em; font-weight: bold; line-height: 1; border-radius: 0.35em; vertical-align: middle; margin-left: 0.5rem\">EXPERIENCE</span>\n",
       "</mark>\n",
       " or \n",
       "<mark class=\"entity\" style=\"background: lightgreen; padding: 0.45em 0.6em; margin: 0 0.25em; line-height: 1; border-radius: 0.35em;\">\n",
       "    Azure\n",
       "    <span style=\"font-size: 0.8em; font-weight: bold; line-height: 1; border-radius: 0.35em; vertical-align: middle; margin-left: 0.5rem\">EXPERIENCE</span>\n",
       "</mark>\n",
       ") Experience with the Salesforce tech  i.e.  marketing cloud  Pardot  Einstein Data Science / \n",
       "<mark class=\"entity\" style=\"background: lightgreen; padding: 0.45em 0.6em; margin: 0 0.25em; line-height: 1; border-radius: 0.35em;\">\n",
       "    Modeling experience\n",
       "    <span style=\"font-size: 0.8em; font-weight: bold; line-height: 1; border-radius: 0.35em; vertical-align: middle; margin-left: 0.5rem\">EXPERIENCE</span>\n",
       "</mark>\n",
       " or \n",
       "<mark class=\"entity\" style=\"background: lightgreen; padding: 0.45em 0.6em; margin: 0 0.25em; line-height: 1; border-radius: 0.35em;\">\n",
       "    working\n",
       "    <span style=\"font-size: 0.8em; font-weight: bold; line-height: 1; border-radius: 0.35em; vertical-align: middle; margin-left: 0.5rem\">EXPERIENCE</span>\n",
       "</mark>\n",
       " in a Data Science team  Contract would be until 31st Dec 2021 with a high possibility of extension.  </div></span>"
      ],
      "text/plain": [
       "<IPython.core.display.HTML object>"
      ]
     },
     "metadata": {},
     "output_type": "display_data"
    },
    {
     "data": {
      "text/html": [
       "<span class=\"tex2jax_ignore\"><div class=\"entities\" style=\"line-height: 2.5; direction: ltr\">Type: Contract / Permanent Location: Toronto  Requirements  Must-have:  4-6 years of experience with \n",
       "<mark class=\"entity\" style=\"background: lightgreen; padding: 0.45em 0.6em; margin: 0 0.25em; line-height: 1; border-radius: 0.35em;\">\n",
       "    data engineering skills\n",
       "    <span style=\"font-size: 0.8em; font-weight: bold; line-height: 1; border-radius: 0.35em; vertical-align: middle; margin-left: 0.5rem\">EXPERIENCE</span>\n",
       "</mark>\n",
       " 4-6 years of hands on experience with SQL  \n",
       "<mark class=\"entity\" style=\"background: lightgreen; padding: 0.45em 0.6em; margin: 0 0.25em; line-height: 1; border-radius: 0.35em;\">\n",
       "    Shell Scripting\n",
       "    <span style=\"font-size: 0.8em; font-weight: bold; line-height: 1; border-radius: 0.35em; vertical-align: middle; margin-left: 0.5rem\">EXPERIENCE</span>\n",
       "</mark>\n",
       " and \n",
       "<mark class=\"entity\" style=\"background: lightgreen; padding: 0.45em 0.6em; margin: 0 0.25em; line-height: 1; border-radius: 0.35em;\">\n",
       "    Python\n",
       "    <span style=\"font-size: 0.8em; font-weight: bold; line-height: 1; border-radius: 0.35em; vertical-align: middle; margin-left: 0.5rem\">EXPERIENCE</span>\n",
       "</mark>\n",
       " (TensorFlow  Pandas  Numpy  Keras) 4-6 years of hands on experience ingesting data using APIs 4-6 years of hands on experience with \n",
       "<mark class=\"entity\" style=\"background: lightgreen; padding: 0.45em 0.6em; margin: 0 0.25em; line-height: 1; border-radius: 0.35em;\">\n",
       "    BI tools\n",
       "    <span style=\"font-size: 0.8em; font-weight: bold; line-height: 1; border-radius: 0.35em; vertical-align: middle; margin-left: 0.5rem\">EXPERIENCE</span>\n",
       "</mark>\n",
       " / Big data technologies like </div></span>"
      ],
      "text/plain": [
       "<IPython.core.display.HTML object>"
      ]
     },
     "metadata": {},
     "output_type": "display_data"
    },
    {
     "data": {
      "text/html": [
       "<span class=\"tex2jax_ignore\"><div class=\"entities\" style=\"line-height: 2.5; direction: ltr\">For further information on our company  please visit: www.dawninfotek.com  Contract length: 4 months  Job Types: Full-time  Contract  Salary: $65.00-$75.00 per hour  Benefits:  Work from home  Schedule:  Monday to Friday  \n",
       "<mark class=\"entity\" style=\"background: pink; padding: 0.45em 0.6em; margin: 0 0.25em; line-height: 1; border-radius: 0.35em;\">\n",
       "    Experience\n",
       "    <span style=\"font-size: 0.8em; font-weight: bold; line-height: 1; border-radius: 0.35em; vertical-align: middle; margin-left: 0.5rem\">MISSING</span>\n",
       "</mark>\n",
       ":  data engineering: 4 years (required) SQL  Shell Scripting and Python: 4 years (required) ingesting data using APIs: 4 years (required) BI tools / Big data technologies (Hadoop  Spark  Scala): 4 years (required) Dialogflow ES and CX APIs  BigQuery  DataFlow: 1 year (preferred)  Work remotely:  </div></span>"
      ],
      "text/plain": [
       "<IPython.core.display.HTML object>"
      ]
     },
     "metadata": {},
     "output_type": "display_data"
    }
   ],
   "source": [
    "show_extraction(ads[:10], extract_adp_conj_experience)\n"
   ]
  },
  {
   "cell_type": "code",
   "execution_count": 54,
   "id": "fcd40894",
   "metadata": {},
   "outputs": [],
   "source": [
    "def extract_verb_maybeadj_noun_experience(doc, label='EXPERIENCE'):\n",
    "    for tok in doc:\n",
    "        if tok.lower_ in EXP_TERMS:\n",
    "            for child in tok.rights:\n",
    "                if child.dep_ == 'acl':\n",
    "                    for gc in child.children:\n",
    "                        if gc.dep_ == 'prep':\n",
    "                            for ggc in gc.children:\n",
    "                                if ggc.dep_ == 'pobj':\n",
    "                                    for c in get_conjugations(ggc):\n",
    "                                        yield get_left_span(c, 'EXPERIENCE')\n",
    "                        elif gc.dep_ == 'dobj':\n",
    "                            for c in get_conjugations(gc):\n",
    "                                yield get_left_span(c, 'EXPERIENCE')\n"
   ]
  },
  {
   "cell_type": "code",
   "execution_count": 55,
   "id": "bfde680b",
   "metadata": {
    "scrolled": true
   },
   "outputs": [
    {
     "data": {
      "text/html": [
       "<span class=\"tex2jax_ignore\"><div class=\"entities\" style=\"line-height: 2.5; direction: ltr\">We help insurers fully automate more claims  deliver a great customer \n",
       "<mark class=\"entity\" style=\"background: pink; padding: 0.45em 0.6em; margin: 0 0.25em; line-height: 1; border-radius: 0.35em;\">\n",
       "    experience\n",
       "    <span style=\"font-size: 0.8em; font-weight: bold; line-height: 1; border-radius: 0.35em; vertical-align: middle; margin-left: 0.5rem\">MISSING</span>\n",
       "</mark>\n",
       " while protecting against risk and accurately identifying suspected fraud  making internal teams more effective and improving financial performance.  </div></span>"
      ],
      "text/plain": [
       "<IPython.core.display.HTML object>"
      ]
     },
     "metadata": {},
     "output_type": "display_data"
    },
    {
     "data": {
      "text/html": [
       "<span class=\"tex2jax_ignore\"><div class=\"entities\" style=\"line-height: 2.5; direction: ltr\">Shift Technology offers a unique opportunity to brilliant candidates to accelerate their careers in data science  Data scientists work on a broad range of subjects  acquiring a lot of technical and professional \n",
       "<mark class=\"entity\" style=\"background: pink; padding: 0.45em 0.6em; margin: 0 0.25em; line-height: 1; border-radius: 0.35em;\">\n",
       "    experience\n",
       "    <span style=\"font-size: 0.8em; font-weight: bold; line-height: 1; border-radius: 0.35em; vertical-align: middle; margin-left: 0.5rem\">MISSING</span>\n",
       "</mark>\n",
       " in data science  data engineering  coding  business understanding and client interactions  skills invaluable in any career.  </div></span>"
      ],
      "text/plain": [
       "<IPython.core.display.HTML object>"
      ]
     },
     "metadata": {},
     "output_type": "display_data"
    },
    {
     "data": {
      "text/html": [
       "<span class=\"tex2jax_ignore\"><div class=\"entities\" style=\"line-height: 2.5; direction: ltr\">At the Intact Lab  we use machine learning  data science  software engineering  AI  agility  UX and design thinking to transform the customer \n",
       "<mark class=\"entity\" style=\"background: pink; padding: 0.45em 0.6em; margin: 0 0.25em; line-height: 1; border-radius: 0.35em;\">\n",
       "    experience\n",
       "    <span style=\"font-size: 0.8em; font-weight: bold; line-height: 1; border-radius: 0.35em; vertical-align: middle; margin-left: 0.5rem\">MISSING</span>\n",
       "</mark>\n",
       " for millions of Canadians. </div></span>"
      ],
      "text/plain": [
       "<IPython.core.display.HTML object>"
      ]
     },
     "metadata": {},
     "output_type": "display_data"
    },
    {
     "data": {
      "text/html": [
       "<span class=\"tex2jax_ignore\"><div class=\"entities\" style=\"line-height: 2.5; direction: ltr\">Your 8 years of \n",
       "<mark class=\"entity\" style=\"background: pink; padding: 0.45em 0.6em; margin: 0 0.25em; line-height: 1; border-radius: 0.35em;\">\n",
       "    experience\n",
       "    <span style=\"font-size: 0.8em; font-weight: bold; line-height: 1; border-radius: 0.35em; vertical-align: middle; margin-left: 0.5rem\">MISSING</span>\n",
       "</mark>\n",
       " in the field of advanced statistics  data mining and text mining Strong communication  time management  great teamworking and organization skills Expert-level understanding of the underlying theory of machine learning Expert-level understanding in either computer image analysis  natural language processing or artificial intelligence A multi-platform production experience with commercial and open-source data mining frameworks like Python  R  GitHub  etc. </div></span>"
      ],
      "text/plain": [
       "<IPython.core.display.HTML object>"
      ]
     },
     "metadata": {},
     "output_type": "display_data"
    },
    {
     "data": {
      "text/html": [
       "<span class=\"tex2jax_ignore\"><div class=\"entities\" style=\"line-height: 2.5; direction: ltr\">They understand the technical aspects of data engineering and analysis but are focused on what the data is saying and how we can use it to provide a more personalized and targeted \n",
       "<mark class=\"entity\" style=\"background: pink; padding: 0.45em 0.6em; margin: 0 0.25em; line-height: 1; border-radius: 0.35em;\">\n",
       "    experience\n",
       "    <span style=\"font-size: 0.8em; font-weight: bold; line-height: 1; border-radius: 0.35em; vertical-align: middle; margin-left: 0.5rem\">MISSING</span>\n",
       "</mark>\n",
       " for our customers.  </div></span>"
      ],
      "text/plain": [
       "<IPython.core.display.HTML object>"
      ]
     },
     "metadata": {},
     "output_type": "display_data"
    },
    {
     "data": {
      "text/html": [
       "<span class=\"tex2jax_ignore\"><div class=\"entities\" style=\"line-height: 2.5; direction: ltr\">Operational Efficiencies: Analyze data and developer feedback to understand needs  reduce time to onboard and build on the platform  and improve overall stakeholder \n",
       "<mark class=\"entity\" style=\"background: pink; padding: 0.45em 0.6em; margin: 0 0.25em; line-height: 1; border-radius: 0.35em;\">\n",
       "    experience\n",
       "    <span style=\"font-size: 0.8em; font-weight: bold; line-height: 1; border-radius: 0.35em; vertical-align: middle; margin-left: 0.5rem\">MISSING</span>\n",
       "</mark>\n",
       ". </div></span>"
      ],
      "text/plain": [
       "<IPython.core.display.HTML object>"
      ]
     },
     "metadata": {},
     "output_type": "display_data"
    },
    {
     "data": {
      "text/html": [
       "<span class=\"tex2jax_ignore\"><div class=\"entities\" style=\"line-height: 2.5; direction: ltr\">What we’re looking for:  Degree in Computer Science or equivalent with 5+ years of data analysis and product management \n",
       "<mark class=\"entity\" style=\"background: pink; padding: 0.45em 0.6em; margin: 0 0.25em; line-height: 1; border-radius: 0.35em;\">\n",
       "    experience\n",
       "    <span style=\"font-size: 0.8em; font-weight: bold; line-height: 1; border-radius: 0.35em; vertical-align: middle; margin-left: 0.5rem\">MISSING</span>\n",
       "</mark>\n",
       ". </div></span>"
      ],
      "text/plain": [
       "<IPython.core.display.HTML object>"
      ]
     },
     "metadata": {},
     "output_type": "display_data"
    },
    {
     "data": {
      "text/html": [
       "<span class=\"tex2jax_ignore\"><div class=\"entities\" style=\"line-height: 2.5; direction: ltr\">Hands on data extraction and analytical \n",
       "<mark class=\"entity\" style=\"background: pink; padding: 0.45em 0.6em; margin: 0 0.25em; line-height: 1; border-radius: 0.35em;\">\n",
       "    experience\n",
       "    <span style=\"font-size: 0.8em; font-weight: bold; line-height: 1; border-radius: 0.35em; vertical-align: middle; margin-left: 0.5rem\">MISSING</span>\n",
       "</mark>\n",
       " with SQL  Google Firebase  Metabase and Tableau. </div></span>"
      ],
      "text/plain": [
       "<IPython.core.display.HTML object>"
      ]
     },
     "metadata": {},
     "output_type": "display_data"
    },
    {
     "data": {
      "text/html": [
       "<span class=\"tex2jax_ignore\"><div class=\"entities\" style=\"line-height: 2.5; direction: ltr\">Demonstrated experience in building or delivering data store/warehouse solutions using ML  \n",
       "<mark class=\"entity\" style=\"background: lightgreen; padding: 0.45em 0.6em; margin: 0 0.25em; line-height: 1; border-radius: 0.35em;\">\n",
       "    NLP\n",
       "    <span style=\"font-size: 0.8em; font-weight: bold; line-height: 1; border-radius: 0.35em; vertical-align: middle; margin-left: 0.5rem\">EXPERIENCE</span>\n",
       "</mark>\n",
       "  etc. </div></span>"
      ],
      "text/plain": [
       "<IPython.core.display.HTML object>"
      ]
     },
     "metadata": {},
     "output_type": "display_data"
    },
    {
     "data": {
      "text/html": [
       "<span class=\"tex2jax_ignore\"><div class=\"entities\" style=\"line-height: 2.5; direction: ltr\">Nice to have:  \n",
       "<mark class=\"entity\" style=\"background: pink; padding: 0.45em 0.6em; margin: 0 0.25em; line-height: 1; border-radius: 0.35em;\">\n",
       "    Experience\n",
       "    <span style=\"font-size: 0.8em; font-weight: bold; line-height: 1; border-radius: 0.35em; vertical-align: middle; margin-left: 0.5rem\">MISSING</span>\n",
       "</mark>\n",
       " with Python. </div></span>"
      ],
      "text/plain": [
       "<IPython.core.display.HTML object>"
      ]
     },
     "metadata": {},
     "output_type": "display_data"
    },
    {
     "data": {
      "text/html": [
       "<span class=\"tex2jax_ignore\"><div class=\"entities\" style=\"line-height: 2.5; direction: ltr\">SaaS or cloud-based app product \n",
       "<mark class=\"entity\" style=\"background: pink; padding: 0.45em 0.6em; margin: 0 0.25em; line-height: 1; border-radius: 0.35em;\">\n",
       "    experience\n",
       "    <span style=\"font-size: 0.8em; font-weight: bold; line-height: 1; border-radius: 0.35em; vertical-align: middle; margin-left: 0.5rem\">MISSING</span>\n",
       "</mark>\n",
       ". </div></span>"
      ],
      "text/plain": [
       "<IPython.core.display.HTML object>"
      ]
     },
     "metadata": {},
     "output_type": "display_data"
    },
    {
     "data": {
      "text/html": [
       "<span class=\"tex2jax_ignore\"><div class=\"entities\" style=\"line-height: 2.5; direction: ltr\">\n",
       "<mark class=\"entity\" style=\"background: pink; padding: 0.45em 0.6em; margin: 0 0.25em; line-height: 1; border-radius: 0.35em;\">\n",
       "    Experience\n",
       "    <span style=\"font-size: 0.8em; font-weight: bold; line-height: 1; border-radius: 0.35em; vertical-align: middle; margin-left: 0.5rem\">MISSING</span>\n",
       "</mark>\n",
       " and success in both small startup environments and large matrix organizations. </div></span>"
      ],
      "text/plain": [
       "<IPython.core.display.HTML object>"
      ]
     },
     "metadata": {},
     "output_type": "display_data"
    },
    {
     "data": {
      "text/html": [
       "<span class=\"tex2jax_ignore\"><div class=\"entities\" style=\"line-height: 2.5; direction: ltr\">Experience working with \n",
       "<mark class=\"entity\" style=\"background: lightgreen; padding: 0.45em 0.6em; margin: 0 0.25em; line-height: 1; border-radius: 0.35em;\">\n",
       "    large financial institutions\n",
       "    <span style=\"font-size: 0.8em; font-weight: bold; line-height: 1; border-radius: 0.35em; vertical-align: middle; margin-left: 0.5rem\">EXPERIENCE</span>\n",
       "</mark>\n",
       ". </div></span>"
      ],
      "text/plain": [
       "<IPython.core.display.HTML object>"
      ]
     },
     "metadata": {},
     "output_type": "display_data"
    },
    {
     "data": {
      "text/html": [
       "<span class=\"tex2jax_ignore\"><div class=\"entities\" style=\"line-height: 2.5; direction: ltr\">Experience exploring \n",
       "<mark class=\"entity\" style=\"background: lightgreen; padding: 0.45em 0.6em; margin: 0 0.25em; line-height: 1; border-radius: 0.35em;\">\n",
       "    new capabilities\n",
       "    <span style=\"font-size: 0.8em; font-weight: bold; line-height: 1; border-radius: 0.35em; vertical-align: middle; margin-left: 0.5rem\">EXPERIENCE</span>\n",
       "</mark>\n",
       " and \n",
       "<mark class=\"entity\" style=\"background: lightgreen; padding: 0.45em 0.6em; margin: 0 0.25em; line-height: 1; border-radius: 0.35em;\">\n",
       "    technologies\n",
       "    <span style=\"font-size: 0.8em; font-weight: bold; line-height: 1; border-radius: 0.35em; vertical-align: middle; margin-left: 0.5rem\">EXPERIENCE</span>\n",
       "</mark>\n",
       " to drive innovation.   </div></span>"
      ],
      "text/plain": [
       "<IPython.core.display.HTML object>"
      ]
     },
     "metadata": {},
     "output_type": "display_data"
    },
    {
     "data": {
      "text/html": [
       "<span class=\"tex2jax_ignore\"><div class=\"entities\" style=\"line-height: 2.5; direction: ltr\">We love to turn data into stories - stories about money falling through the cracks  success stories about our products and services  but most importantly stories about our customers and how we can enhance their \n",
       "<mark class=\"entity\" style=\"background: pink; padding: 0.45em 0.6em; margin: 0 0.25em; line-height: 1; border-radius: 0.35em;\">\n",
       "    experience\n",
       "    <span style=\"font-size: 0.8em; font-weight: bold; line-height: 1; border-radius: 0.35em; vertical-align: middle; margin-left: 0.5rem\">MISSING</span>\n",
       "</mark>\n",
       ". </div></span>"
      ],
      "text/plain": [
       "<IPython.core.display.HTML object>"
      ]
     },
     "metadata": {},
     "output_type": "display_data"
    },
    {
     "data": {
      "text/html": [
       "<span class=\"tex2jax_ignore\"><div class=\"entities\" style=\"line-height: 2.5; direction: ltr\">You have advanced working SQL knowledge and \n",
       "<mark class=\"entity\" style=\"background: pink; padding: 0.45em 0.6em; margin: 0 0.25em; line-height: 1; border-radius: 0.35em;\">\n",
       "    experience\n",
       "    <span style=\"font-size: 0.8em; font-weight: bold; line-height: 1; border-radius: 0.35em; vertical-align: middle; margin-left: 0.5rem\">MISSING</span>\n",
       "</mark>\n",
       " working with relational databases  query authoring (SQL) as well as working familiarity with a variety of databases You are recognized for your curiosity and growth mindset You see the bigger picture of the problem you are trying to solve  and will proactively out new data points from varied sources (external and internal) to complement your analysis You have excellent attention to detail  a structured approach to analysis and the ability to develop logical arguments You have minimum 4-7 years of experience in a similar role and/or related education with demonstrated performance  Great-to-haves  Prior telecommunications expertise Python experience Hive  Spark  NiFi experience B2B marketing Experience with cloud (GCP AWS or Azure) Experience with the Salesforce tech  i.e.  marketing cloud  Pardot  Einstein Data Science / Modeling experience or working in a Data Science team  Contract would be until 31st Dec 2021 with a high possibility of extension.  </div></span>"
      ],
      "text/plain": [
       "<IPython.core.display.HTML object>"
      ]
     },
     "metadata": {},
     "output_type": "display_data"
    },
    {
     "data": {
      "text/html": [
       "<span class=\"tex2jax_ignore\"><div class=\"entities\" style=\"line-height: 2.5; direction: ltr\">Type: Contract / Permanent Location: Toronto  Requirements  Must-have:  4-6 years of experience with data engineering skills 4-6 years of hands on experience with SQL  Shell Scripting and Python (TensorFlow  Pandas  Numpy  Keras) 4-6 years of hands on experience ingesting \n",
       "<mark class=\"entity\" style=\"background: lightgreen; padding: 0.45em 0.6em; margin: 0 0.25em; line-height: 1; border-radius: 0.35em;\">\n",
       "    data\n",
       "    <span style=\"font-size: 0.8em; font-weight: bold; line-height: 1; border-radius: 0.35em; vertical-align: middle; margin-left: 0.5rem\">EXPERIENCE</span>\n",
       "</mark>\n",
       " using APIs 4-6 years of hands on experience with BI tools / Big data technologies like </div></span>"
      ],
      "text/plain": [
       "<IPython.core.display.HTML object>"
      ]
     },
     "metadata": {},
     "output_type": "display_data"
    },
    {
     "data": {
      "text/html": [
       "<span class=\"tex2jax_ignore\"><div class=\"entities\" style=\"line-height: 2.5; direction: ltr\">For further information on our company  please visit: www.dawninfotek.com  Contract length: 4 months  Job Types: Full-time  Contract  Salary: $65.00-$75.00 per hour  Benefits:  Work from home  Schedule:  Monday to Friday  \n",
       "<mark class=\"entity\" style=\"background: pink; padding: 0.45em 0.6em; margin: 0 0.25em; line-height: 1; border-radius: 0.35em;\">\n",
       "    Experience\n",
       "    <span style=\"font-size: 0.8em; font-weight: bold; line-height: 1; border-radius: 0.35em; vertical-align: middle; margin-left: 0.5rem\">MISSING</span>\n",
       "</mark>\n",
       ":  data engineering: 4 years (required) SQL  Shell Scripting and Python: 4 years (required) ingesting data using APIs: 4 years (required) BI tools / Big data technologies (Hadoop  Spark  Scala): 4 years (required) Dialogflow ES and CX APIs  BigQuery  DataFlow: 1 year (preferred)  Work remotely:  </div></span>"
      ],
      "text/plain": [
       "<IPython.core.display.HTML object>"
      ]
     },
     "metadata": {},
     "output_type": "display_data"
    }
   ],
   "source": [
    "show_extraction(ads[5:10], extract_verb_maybeadj_noun_experience)\n"
   ]
  },
  {
   "cell_type": "code",
   "execution_count": 56,
   "id": "b710c8c4",
   "metadata": {},
   "outputs": [],
   "source": [
    "extract_exps = [extract_adp_conj_experience,]\n"
   ]
  },
  {
   "cell_type": "code",
   "execution_count": 57,
   "id": "6c11a743",
   "metadata": {},
   "outputs": [],
   "source": [
    "n_ads = len(df)"
   ]
  },
  {
   "cell_type": "code",
   "execution_count": 58,
   "id": "5712756b",
   "metadata": {},
   "outputs": [
    {
     "name": "stdout",
     "output_type": "stream",
     "text": [
      "CPU times: total: 32.7 s\n",
      "Wall time: 32.8 s\n"
     ]
    }
   ],
   "source": [
    "%%time\n",
    "df_ents = extract_df(*extract_exps, n_max=n_ads)"
   ]
  },
  {
   "cell_type": "code",
   "execution_count": 59,
   "id": "734bec55",
   "metadata": {
    "scrolled": true
   },
   "outputs": [
    {
     "data": {
      "text/html": [
       "<div>\n",
       "<style scoped>\n",
       "    .dataframe tbody tr th:only-of-type {\n",
       "        vertical-align: middle;\n",
       "    }\n",
       "\n",
       "    .dataframe tbody tr th {\n",
       "        vertical-align: top;\n",
       "    }\n",
       "\n",
       "    .dataframe thead th {\n",
       "        text-align: right;\n",
       "    }\n",
       "</style>\n",
       "<table border=\"1\" class=\"dataframe\">\n",
       "  <thead>\n",
       "    <tr style=\"text-align: right;\">\n",
       "      <th></th>\n",
       "      <th>text</th>\n",
       "      <th>docidx</th>\n",
       "      <th>start</th>\n",
       "      <th>end</th>\n",
       "      <th>label</th>\n",
       "      <th>sent_start</th>\n",
       "      <th>sent_end</th>\n",
       "      <th>Job Title</th>\n",
       "      <th>Company Name</th>\n",
       "      <th>Job Description</th>\n",
       "      <th>Location</th>\n",
       "      <th>Job Board</th>\n",
       "    </tr>\n",
       "  </thead>\n",
       "  <tbody>\n",
       "    <tr>\n",
       "      <th>0</th>\n",
       "      <td>application</td>\n",
       "      <td>0</td>\n",
       "      <td>242</td>\n",
       "      <td>243</td>\n",
       "      <td>EXPERIENCE</td>\n",
       "      <td>224</td>\n",
       "      <td>304</td>\n",
       "      <td>Data Scientist</td>\n",
       "      <td>Metricsflow Inc</td>\n",
       "      <td>At Metricsflow  we work to shape the future of...</td>\n",
       "      <td>St. John's</td>\n",
       "      <td>Glassdoor</td>\n",
       "    </tr>\n",
       "    <tr>\n",
       "      <th>1</th>\n",
       "      <td>tensorflow</td>\n",
       "      <td>1</td>\n",
       "      <td>164</td>\n",
       "      <td>165</td>\n",
       "      <td>EXPERIENCE</td>\n",
       "      <td>134</td>\n",
       "      <td>169</td>\n",
       "      <td>Data Scientist - 05/12/21</td>\n",
       "      <td>Acerta Analytics Solutions Inc</td>\n",
       "      <td>Acerta’s machine learning platforms leverage a...</td>\n",
       "      <td>Kitchener</td>\n",
       "      <td>Indeed</td>\n",
       "    </tr>\n",
       "    <tr>\n",
       "      <th>2</th>\n",
       "      <td>sklearn</td>\n",
       "      <td>1</td>\n",
       "      <td>167</td>\n",
       "      <td>168</td>\n",
       "      <td>EXPERIENCE</td>\n",
       "      <td>134</td>\n",
       "      <td>169</td>\n",
       "      <td>Data Scientist - 05/12/21</td>\n",
       "      <td>Acerta Analytics Solutions Inc</td>\n",
       "      <td>Acerta’s machine learning platforms leverage a...</td>\n",
       "      <td>Kitchener</td>\n",
       "      <td>Indeed</td>\n",
       "    </tr>\n",
       "    <tr>\n",
       "      <th>3</th>\n",
       "      <td>operations data</td>\n",
       "      <td>1</td>\n",
       "      <td>175</td>\n",
       "      <td>177</td>\n",
       "      <td>EXPERIENCE</td>\n",
       "      <td>169</td>\n",
       "      <td>256</td>\n",
       "      <td>Data Scientist - 05/12/21</td>\n",
       "      <td>Acerta Analytics Solutions Inc</td>\n",
       "      <td>Acerta’s machine learning platforms leverage a...</td>\n",
       "      <td>Kitchener</td>\n",
       "      <td>Indeed</td>\n",
       "    </tr>\n",
       "    <tr>\n",
       "      <th>4</th>\n",
       "      <td>data modeling</td>\n",
       "      <td>2</td>\n",
       "      <td>403</td>\n",
       "      <td>405</td>\n",
       "      <td>EXPERIENCE</td>\n",
       "      <td>384</td>\n",
       "      <td>561</td>\n",
       "      <td>Data Engineer</td>\n",
       "      <td>GoodLife Fitness\\n</td>\n",
       "      <td>Position Description     DATA ENGINEER **This ...</td>\n",
       "      <td>Midtown Toronto</td>\n",
       "      <td>Glassdoor</td>\n",
       "    </tr>\n",
       "    <tr>\n",
       "      <th>...</th>\n",
       "      <td>...</td>\n",
       "      <td>...</td>\n",
       "      <td>...</td>\n",
       "      <td>...</td>\n",
       "      <td>...</td>\n",
       "      <td>...</td>\n",
       "      <td>...</td>\n",
       "      <td>...</td>\n",
       "      <td>...</td>\n",
       "      <td>...</td>\n",
       "      <td>...</td>\n",
       "      <td>...</td>\n",
       "    </tr>\n",
       "    <tr>\n",
       "      <th>2839</th>\n",
       "      <td>variety</td>\n",
       "      <td>879</td>\n",
       "      <td>396</td>\n",
       "      <td>397</td>\n",
       "      <td>EXPERIENCE</td>\n",
       "      <td>365</td>\n",
       "      <td>448</td>\n",
       "      <td>Data Engineer</td>\n",
       "      <td>Cyient\\n</td>\n",
       "      <td>Cyient is a global engineering and technology ...</td>\n",
       "      <td>Montreal</td>\n",
       "      <td>Glassdoor</td>\n",
       "    </tr>\n",
       "    <tr>\n",
       "      <th>2840</th>\n",
       "      <td>Data Engineer</td>\n",
       "      <td>880</td>\n",
       "      <td>441</td>\n",
       "      <td>443</td>\n",
       "      <td>EXPERIENCE</td>\n",
       "      <td>432</td>\n",
       "      <td>467</td>\n",
       "      <td>Principal Data Engineer</td>\n",
       "      <td>ELEMENTS Global Services</td>\n",
       "      <td>Elements Global Services is an award-winning H...</td>\n",
       "      <td>Toronto</td>\n",
       "      <td>Indeed</td>\n",
       "    </tr>\n",
       "    <tr>\n",
       "      <th>2841</th>\n",
       "      <td>NoSQL database technologies</td>\n",
       "      <td>880</td>\n",
       "      <td>523</td>\n",
       "      <td>526</td>\n",
       "      <td>EXPERIENCE</td>\n",
       "      <td>515</td>\n",
       "      <td>532</td>\n",
       "      <td>Principal Data Engineer</td>\n",
       "      <td>ELEMENTS Global Services</td>\n",
       "      <td>Elements Global Services is an award-winning H...</td>\n",
       "      <td>Toronto</td>\n",
       "      <td>Indeed</td>\n",
       "    </tr>\n",
       "    <tr>\n",
       "      <th>2842</th>\n",
       "      <td>modern programming languages</td>\n",
       "      <td>880</td>\n",
       "      <td>538</td>\n",
       "      <td>541</td>\n",
       "      <td>EXPERIENCE</td>\n",
       "      <td>532</td>\n",
       "      <td>559</td>\n",
       "      <td>Principal Data Engineer</td>\n",
       "      <td>ELEMENTS Global Services</td>\n",
       "      <td>Elements Global Services is an award-winning H...</td>\n",
       "      <td>Toronto</td>\n",
       "      <td>Indeed</td>\n",
       "    </tr>\n",
       "    <tr>\n",
       "      <th>2843</th>\n",
       "      <td>tools</td>\n",
       "      <td>880</td>\n",
       "      <td>542</td>\n",
       "      <td>543</td>\n",
       "      <td>EXPERIENCE</td>\n",
       "      <td>532</td>\n",
       "      <td>559</td>\n",
       "      <td>Principal Data Engineer</td>\n",
       "      <td>ELEMENTS Global Services</td>\n",
       "      <td>Elements Global Services is an award-winning H...</td>\n",
       "      <td>Toronto</td>\n",
       "      <td>Indeed</td>\n",
       "    </tr>\n",
       "  </tbody>\n",
       "</table>\n",
       "<p>2844 rows × 12 columns</p>\n",
       "</div>"
      ],
      "text/plain": [
       "                              text  docidx  start  end       label  \\\n",
       "0                      application       0    242  243  EXPERIENCE   \n",
       "1                       tensorflow       1    164  165  EXPERIENCE   \n",
       "2                          sklearn       1    167  168  EXPERIENCE   \n",
       "3                  operations data       1    175  177  EXPERIENCE   \n",
       "4                    data modeling       2    403  405  EXPERIENCE   \n",
       "...                            ...     ...    ...  ...         ...   \n",
       "2839                       variety     879    396  397  EXPERIENCE   \n",
       "2840                 Data Engineer     880    441  443  EXPERIENCE   \n",
       "2841   NoSQL database technologies     880    523  526  EXPERIENCE   \n",
       "2842  modern programming languages     880    538  541  EXPERIENCE   \n",
       "2843                         tools     880    542  543  EXPERIENCE   \n",
       "\n",
       "      sent_start  sent_end                  Job Title  \\\n",
       "0            224       304             Data Scientist   \n",
       "1            134       169  Data Scientist - 05/12/21   \n",
       "2            134       169  Data Scientist - 05/12/21   \n",
       "3            169       256  Data Scientist - 05/12/21   \n",
       "4            384       561              Data Engineer   \n",
       "...          ...       ...                        ...   \n",
       "2839         365       448              Data Engineer   \n",
       "2840         432       467    Principal Data Engineer   \n",
       "2841         515       532    Principal Data Engineer   \n",
       "2842         532       559    Principal Data Engineer   \n",
       "2843         532       559    Principal Data Engineer   \n",
       "\n",
       "                        Company Name  \\\n",
       "0                    Metricsflow Inc   \n",
       "1     Acerta Analytics Solutions Inc   \n",
       "2     Acerta Analytics Solutions Inc   \n",
       "3     Acerta Analytics Solutions Inc   \n",
       "4                 GoodLife Fitness\\n   \n",
       "...                              ...   \n",
       "2839                        Cyient\\n   \n",
       "2840        ELEMENTS Global Services   \n",
       "2841        ELEMENTS Global Services   \n",
       "2842        ELEMENTS Global Services   \n",
       "2843        ELEMENTS Global Services   \n",
       "\n",
       "                                        Job Description         Location  \\\n",
       "0     At Metricsflow  we work to shape the future of...       St. John's   \n",
       "1     Acerta’s machine learning platforms leverage a...        Kitchener   \n",
       "2     Acerta’s machine learning platforms leverage a...        Kitchener   \n",
       "3     Acerta’s machine learning platforms leverage a...        Kitchener   \n",
       "4     Position Description     DATA ENGINEER **This ...  Midtown Toronto   \n",
       "...                                                 ...              ...   \n",
       "2839  Cyient is a global engineering and technology ...         Montreal   \n",
       "2840  Elements Global Services is an award-winning H...          Toronto   \n",
       "2841  Elements Global Services is an award-winning H...          Toronto   \n",
       "2842  Elements Global Services is an award-winning H...          Toronto   \n",
       "2843  Elements Global Services is an award-winning H...          Toronto   \n",
       "\n",
       "      Job Board  \n",
       "0     Glassdoor  \n",
       "1        Indeed  \n",
       "2        Indeed  \n",
       "3        Indeed  \n",
       "4     Glassdoor  \n",
       "...         ...  \n",
       "2839  Glassdoor  \n",
       "2840     Indeed  \n",
       "2841     Indeed  \n",
       "2842     Indeed  \n",
       "2843     Indeed  \n",
       "\n",
       "[2844 rows x 12 columns]"
      ]
     },
     "execution_count": 59,
     "metadata": {},
     "output_type": "execute_result"
    }
   ],
   "source": [
    "df_ents"
   ]
  },
  {
   "cell_type": "code",
   "execution_count": 60,
   "id": "6b385ad9",
   "metadata": {
    "scrolled": true
   },
   "outputs": [
    {
     "data": {
      "text/html": [
       "<span class=\"tex2jax_ignore\"><div class=\"entities\" style=\"line-height: 2.5; direction: ltr\">Requirements:  3+ years in data scripting languages e.g Python Hands-on experience in the \n",
       "<mark class=\"entity\" style=\"background: #ddd; padding: 0.45em 0.6em; margin: 0 0.25em; line-height: 1; border-radius: 0.35em;\">\n",
       "    application\n",
       "    <span style=\"font-size: 0.8em; font-weight: bold; line-height: 1; border-radius: 0.35em; vertical-align: middle; margin-left: 0.5rem\">EXPERIENCE</span>\n",
       "</mark>\n",
       " of predictive modeling  artificial neural networks  time-series analysis  clustering and classification techniques  and other advanced analytical techniques Experience using CI/CD tools Good design and problem-solving skills and an ability to innovate and solve challenging technical problems Knowledge of the software development lifecycle and Agile methodologies Excellent organization and time management skills</div></span>"
      ],
      "text/plain": [
       "<IPython.core.display.HTML object>"
      ]
     },
     "metadata": {},
     "output_type": "display_data"
    },
    {
     "data": {
      "text/html": [
       "<span class=\"tex2jax_ignore\"><div class=\"entities\" style=\"line-height: 2.5; direction: ltr\">Requirements: Minimum of 3 - 5 years of data science experience using python Strong ML and statistics background 2+ years of software development experience Experience with keras  \n",
       "<mark class=\"entity\" style=\"background: #ddd; padding: 0.45em 0.6em; margin: 0 0.25em; line-height: 1; border-radius: 0.35em;\">\n",
       "    tensorflow\n",
       "    <span style=\"font-size: 0.8em; font-weight: bold; line-height: 1; border-radius: 0.35em; vertical-align: middle; margin-left: 0.5rem\">EXPERIENCE</span>\n",
       "</mark>\n",
       "  and sklearn. </div></span>"
      ],
      "text/plain": [
       "<IPython.core.display.HTML object>"
      ]
     },
     "metadata": {},
     "output_type": "display_data"
    }
   ],
   "source": [
    "showent_df(df_ents[:2])\n"
   ]
  },
  {
   "cell_type": "code",
   "execution_count": 61,
   "id": "82c94155",
   "metadata": {
    "scrolled": true
   },
   "outputs": [
    {
     "data": {
      "text/html": [
       "<div>\n",
       "<style scoped>\n",
       "    .dataframe tbody tr th:only-of-type {\n",
       "        vertical-align: middle;\n",
       "    }\n",
       "\n",
       "    .dataframe tbody tr th {\n",
       "        vertical-align: top;\n",
       "    }\n",
       "\n",
       "    .dataframe thead th {\n",
       "        text-align: right;\n",
       "    }\n",
       "</style>\n",
       "<table border=\"1\" class=\"dataframe\">\n",
       "  <thead>\n",
       "    <tr style=\"text-align: right;\">\n",
       "      <th></th>\n",
       "      <th>text</th>\n",
       "      <th>n_company</th>\n",
       "    </tr>\n",
       "  </thead>\n",
       "  <tbody>\n",
       "    <tr>\n",
       "      <th>425</th>\n",
       "      <td>Python</td>\n",
       "      <td>42</td>\n",
       "    </tr>\n",
       "    <tr>\n",
       "      <th>462</th>\n",
       "      <td>SQL</td>\n",
       "      <td>28</td>\n",
       "    </tr>\n",
       "    <tr>\n",
       "      <th>1075</th>\n",
       "      <td>machine learning</td>\n",
       "      <td>22</td>\n",
       "    </tr>\n",
       "    <tr>\n",
       "      <th>818</th>\n",
       "      <td>data science</td>\n",
       "      <td>22</td>\n",
       "    </tr>\n",
       "    <tr>\n",
       "      <th>768</th>\n",
       "      <td>data</td>\n",
       "      <td>20</td>\n",
       "    </tr>\n",
       "    <tr>\n",
       "      <th>385</th>\n",
       "      <td>NoSQL</td>\n",
       "      <td>18</td>\n",
       "    </tr>\n",
       "    <tr>\n",
       "      <th>1506</th>\n",
       "      <td>tools</td>\n",
       "      <td>18</td>\n",
       "    </tr>\n",
       "    <tr>\n",
       "      <th>945</th>\n",
       "      <td>experience</td>\n",
       "      <td>17</td>\n",
       "    </tr>\n",
       "    <tr>\n",
       "      <th>878</th>\n",
       "      <td>development</td>\n",
       "      <td>16</td>\n",
       "    </tr>\n",
       "    <tr>\n",
       "      <th>937</th>\n",
       "      <td>etc</td>\n",
       "      <td>14</td>\n",
       "    </tr>\n",
       "  </tbody>\n",
       "</table>\n",
       "</div>"
      ],
      "text/plain": [
       "                  text  n_company\n",
       "425             Python         42\n",
       "462                SQL         28\n",
       "1075  machine learning         22\n",
       "818       data science         22\n",
       "768               data         20\n",
       "385              NoSQL         18\n",
       "1506             tools         18\n",
       "945         experience         17\n",
       "878        development         16\n",
       "937                etc         14"
      ]
     },
     "execution_count": 61,
     "metadata": {},
     "output_type": "execute_result"
    }
   ],
   "source": [
    "df_ent_agg = aggregate_df(df_ents)\n",
    "df_ent_agg.head(10)"
   ]
  },
  {
   "cell_type": "code",
   "execution_count": 62,
   "id": "3ffcede7",
   "metadata": {},
   "outputs": [],
   "source": [
    "from flashtext import KeywordProcessor\n"
   ]
  },
  {
   "cell_type": "code",
   "execution_count": 63,
   "id": "ba52b3fc",
   "metadata": {},
   "outputs": [],
   "source": [
    "keyword_processor = KeywordProcessor(case_sensitive=True)\n"
   ]
  },
  {
   "cell_type": "code",
   "execution_count": 64,
   "id": "b8a49779",
   "metadata": {},
   "outputs": [
    {
     "data": {
      "text/plain": [
       "161"
      ]
     },
     "execution_count": 64,
     "metadata": {},
     "output_type": "execute_result"
    }
   ],
   "source": [
    "#selecting most popular\n",
    "skills = df_ent_agg.query('n_company >= 3').text\n",
    "len(skills)"
   ]
  },
  {
   "cell_type": "code",
   "execution_count": 65,
   "id": "53a4a54c",
   "metadata": {},
   "outputs": [],
   "source": [
    "for skill in skills:\n",
    "    keyword_processor.add_keyword(skill)"
   ]
  },
  {
   "cell_type": "code",
   "execution_count": 66,
   "id": "642c4c2e",
   "metadata": {},
   "outputs": [],
   "source": [
    "from collections import Counter\n"
   ]
  },
  {
   "cell_type": "code",
   "execution_count": 67,
   "id": "69a4a876",
   "metadata": {},
   "outputs": [
    {
     "data": {
      "text/plain": [
       "161"
      ]
     },
     "execution_count": 67,
     "metadata": {},
     "output_type": "execute_result"
    }
   ],
   "source": [
    "skills = list(\n",
    "(df_ent_agg\n",
    " .query('n_company >= 3')\n",
    ").text\n",
    ")\n",
    "len(skills)"
   ]
  },
  {
   "cell_type": "code",
   "execution_count": 68,
   "id": "26175c76",
   "metadata": {
    "scrolled": true
   },
   "outputs": [
    {
     "name": "stdout",
     "output_type": "stream",
     "text": [
      "Python                             SQL                                machine learning\n",
      "data science                       data                               NoSQL\n",
      "tools                              experience                         development\n",
      "etc                                Machine Learning                   R\n",
      "big data tools                     Experience                         technologies\n",
      "data visualization                 big data technologies              relational databases\n",
      ".                                  years                              data analysis\n",
      "programming languages              Data Scientist                     software development\n",
      "Data Engineer                      data visualization tools           customers\n",
      "building                           relational SQL                     Tableau\n",
      "analysis                           implementation                     cloud\n",
      "processing systems                 object function scripting languagesdata analytics\n",
      "frameworks                         AWS                                one\n",
      "statistical analysis               field                              techniques\n",
      "areas                              machine                            application\n",
      "optimization                       analytics                          Azure\n",
      "Docker                             data pipeline                      predictive modeling\n",
      "designing                          related field                      degree\n",
      "Data Science                       libraries                          more\n",
      "design                             model development                  Databricks\n",
      "GCP                                any                                ML\n",
      "applications                       computer vision                    cloud services\n",
      "management                         industry                           Scala\n",
      "schema design                      data engineering                   NLP\n",
      "python                             Spark                              projects\n",
      "quantitative analysis              Java                               systems\n",
      "natural language processing        Snowflake                          BI tools\n",
      "-                                  ability                            streaming\n",
      "deployment                         solutions                          databases\n",
      "environment                        data mining techniques             financial industry\n",
      "Deep Learning frameworks           consulting                         similar role\n",
      "ETL tools                          modern programming languages       automation\n",
      "retail                             track record                       analytical tools\n",
      "area                               Hadoop                             related business areas\n",
      "reporting                          High Performance Computing         Data Science tools\n",
      "Kubernetes                         ML frameworks                      Jenkins\n",
      "Degree                             related occupation                 role\n",
      "Git                                services                           algorithms\n",
      "MLOps                              machine learning libraries         e\n",
      "deep learning                      data warehousing                   data transformation modules\n",
      "data scripting languages           data processing                    exposure\n",
      "forecasting                        infrastructure                     common data science toolkits\n",
      "cloud environments                 job                                least one\n",
      "business intelligence              biotechnology industry             programming\n",
      "messaging                          methodologies                      methods\n",
      "millions                           analytics tools                    analytics platforms\n",
      "agile methodology                  modern R packages                  Statistics\n",
      "SQL Experience                     other programming languages        packages\n",
      "PhD                                process                            Data Engineering\n",
      "dimensional data                   Apache Airflow                     visualization\n",
      "web development                    BigQuery                           Ansible\n",
      "Apache Spark                       understanding                      Agile development methods\n",
      "AWS technologies                   Big Data technologies              teams\n"
     ]
    }
   ],
   "source": [
    "n_max=1000\n",
    "for a,b,c in zip(skills[:n_max:3],skills[1:n_max:3],skills[2:n_max:3]):\n",
    "     print('{:<35}{:<35}{:<}'.format(a,b,c))"
   ]
  },
  {
   "cell_type": "code",
   "execution_count": 69,
   "id": "cf2828e0",
   "metadata": {},
   "outputs": [],
   "source": [
    "def get_extractions_2(examples, *extractors):\n",
    "    # Could use context instead of enumerate\n",
    "    doc = nlp(examples, disable=['ner'])\n",
    "    for ent in filter_spans([Span(doc, start, end, label) for extractor in extractors for label, start, end in extractor(doc)]):\n",
    "        sent = ent.root.sent\n",
    "        yield ent.text\n",
    "\n"
   ]
  },
  {
   "cell_type": "code",
   "execution_count": 70,
   "id": "c7c0efbb",
   "metadata": {},
   "outputs": [],
   "source": [
    "def list_skills(examples, *extractors):\n",
    "    return list(get_extractions_2(examples, *extractors))"
   ]
  },
  {
   "cell_type": "code",
   "execution_count": 82,
   "id": "6e8a2e2f",
   "metadata": {},
   "outputs": [
    {
     "name": "stdout",
     "output_type": "stream",
     "text": [
      "['BigQuery Experience']\n"
     ]
    }
   ],
   "source": [
    "print(list_skills(df['Job Description'][10], extract_adp_conj_experience))"
   ]
  },
  {
   "cell_type": "code",
   "execution_count": 72,
   "id": "cab690b6",
   "metadata": {},
   "outputs": [
    {
     "name": "stdout",
     "output_type": "stream",
     "text": [
      "None <function extract_adp_conj_experience at 0x000001EDD1AE2CB0>\n"
     ]
    }
   ],
   "source": [
    "#for debugging visually\n",
    "print(show_extraction(df['Job Description'][10]), extract_adp_conj_experience)"
   ]
  },
  {
   "cell_type": "code",
   "execution_count": 73,
   "id": "0214c42c",
   "metadata": {},
   "outputs": [
    {
     "name": "stdout",
     "output_type": "stream",
     "text": [
      "CPU times: total: 41.2 s\n",
      "Wall time: 41.2 s\n"
     ]
    }
   ],
   "source": [
    "%%time\n",
    "#create a new column in df with the fxn that works\n",
    "df['skills'] = df['Job Description'].apply(lambda x: list_skills(x, extract_adp_conj_experience)) \n"
   ]
  },
  {
   "cell_type": "code",
   "execution_count": 74,
   "id": "50634384",
   "metadata": {},
   "outputs": [
    {
     "data": {
      "text/html": [
       "<div>\n",
       "<style scoped>\n",
       "    .dataframe tbody tr th:only-of-type {\n",
       "        vertical-align: middle;\n",
       "    }\n",
       "\n",
       "    .dataframe tbody tr th {\n",
       "        vertical-align: top;\n",
       "    }\n",
       "\n",
       "    .dataframe thead th {\n",
       "        text-align: right;\n",
       "    }\n",
       "</style>\n",
       "<table border=\"1\" class=\"dataframe\">\n",
       "  <thead>\n",
       "    <tr style=\"text-align: right;\">\n",
       "      <th></th>\n",
       "      <th>Job Title</th>\n",
       "      <th>Company Name</th>\n",
       "      <th>Job Description</th>\n",
       "      <th>Location</th>\n",
       "      <th>Job Board</th>\n",
       "      <th>skills</th>\n",
       "    </tr>\n",
       "  </thead>\n",
       "  <tbody>\n",
       "    <tr>\n",
       "      <th>0</th>\n",
       "      <td>Data Scientist</td>\n",
       "      <td>Metricsflow Inc</td>\n",
       "      <td>At Metricsflow  we work to shape the future of...</td>\n",
       "      <td>St. John's</td>\n",
       "      <td>Glassdoor</td>\n",
       "      <td>[application]</td>\n",
       "    </tr>\n",
       "    <tr>\n",
       "      <th>1</th>\n",
       "      <td>Data Scientist - 05/12/21</td>\n",
       "      <td>Acerta Analytics Solutions Inc</td>\n",
       "      <td>Acerta’s machine learning platforms leverage a...</td>\n",
       "      <td>Kitchener</td>\n",
       "      <td>Indeed</td>\n",
       "      <td>[tensorflow, sklearn, operations data]</td>\n",
       "    </tr>\n",
       "    <tr>\n",
       "      <th>2</th>\n",
       "      <td>Data Engineer</td>\n",
       "      <td>GoodLife Fitness\\n</td>\n",
       "      <td>Position Description     DATA ENGINEER **This ...</td>\n",
       "      <td>Midtown Toronto</td>\n",
       "      <td>Glassdoor</td>\n",
       "      <td>[data modeling, Cloud platforms, Informatica I...</td>\n",
       "    </tr>\n",
       "    <tr>\n",
       "      <th>3</th>\n",
       "      <td>Safety Aggregate Reporting &amp; Analytics Coordin...</td>\n",
       "      <td>IQVIA</td>\n",
       "      <td>Job Overview Manage the administrative support...</td>\n",
       "      <td>Kirkland</td>\n",
       "      <td>Indeed</td>\n",
       "      <td>[]</td>\n",
       "    </tr>\n",
       "    <tr>\n",
       "      <th>4</th>\n",
       "      <td>Senior Data Engineer</td>\n",
       "      <td>Samsung Electronics\\n</td>\n",
       "      <td>Position Summary  The SmartThings Big Data tea...</td>\n",
       "      <td>Vancouver</td>\n",
       "      <td>Glassdoor</td>\n",
       "      <td>[big data engineering, large scale, high avail...</td>\n",
       "    </tr>\n",
       "  </tbody>\n",
       "</table>\n",
       "</div>"
      ],
      "text/plain": [
       "                                           Job Title  \\\n",
       "0                                     Data Scientist   \n",
       "1                          Data Scientist - 05/12/21   \n",
       "2                                      Data Engineer   \n",
       "3  Safety Aggregate Reporting & Analytics Coordin...   \n",
       "4                               Senior Data Engineer   \n",
       "\n",
       "                     Company Name  \\\n",
       "0                 Metricsflow Inc   \n",
       "1  Acerta Analytics Solutions Inc   \n",
       "2              GoodLife Fitness\\n   \n",
       "3                           IQVIA   \n",
       "4           Samsung Electronics\\n   \n",
       "\n",
       "                                     Job Description         Location  \\\n",
       "0  At Metricsflow  we work to shape the future of...       St. John's   \n",
       "1  Acerta’s machine learning platforms leverage a...        Kitchener   \n",
       "2  Position Description     DATA ENGINEER **This ...  Midtown Toronto   \n",
       "3  Job Overview Manage the administrative support...         Kirkland   \n",
       "4  Position Summary  The SmartThings Big Data tea...        Vancouver   \n",
       "\n",
       "   Job Board                                             skills  \n",
       "0  Glassdoor                                      [application]  \n",
       "1     Indeed             [tensorflow, sklearn, operations data]  \n",
       "2  Glassdoor  [data modeling, Cloud platforms, Informatica I...  \n",
       "3     Indeed                                                 []  \n",
       "4  Glassdoor  [big data engineering, large scale, high avail...  "
      ]
     },
     "execution_count": 74,
     "metadata": {},
     "output_type": "execute_result"
    }
   ],
   "source": [
    "df.head()"
   ]
  },
  {
   "cell_type": "code",
   "execution_count": 75,
   "id": "8697f187",
   "metadata": {},
   "outputs": [
    {
     "data": {
      "text/html": [
       "<div>\n",
       "<style scoped>\n",
       "    .dataframe tbody tr th:only-of-type {\n",
       "        vertical-align: middle;\n",
       "    }\n",
       "\n",
       "    .dataframe tbody tr th {\n",
       "        vertical-align: top;\n",
       "    }\n",
       "\n",
       "    .dataframe thead th {\n",
       "        text-align: right;\n",
       "    }\n",
       "</style>\n",
       "<table border=\"1\" class=\"dataframe\">\n",
       "  <thead>\n",
       "    <tr style=\"text-align: right;\">\n",
       "      <th></th>\n",
       "      <th>Job Title</th>\n",
       "      <th>Company Name</th>\n",
       "      <th>Job Description</th>\n",
       "      <th>Location</th>\n",
       "      <th>Job Board</th>\n",
       "      <th>skills</th>\n",
       "    </tr>\n",
       "  </thead>\n",
       "  <tbody>\n",
       "    <tr>\n",
       "      <th>852</th>\n",
       "      <td>HEAD OF ANALYTICS &amp; INSIGHTS/DATA SCIENTIST</td>\n",
       "      <td>Saje Natural Wellness</td>\n",
       "      <td>For over 25 years we’ve been helping our commu...</td>\n",
       "      <td>Vancouver</td>\n",
       "      <td>Indeed</td>\n",
       "      <td>[market research, customer strategy Experience...</td>\n",
       "    </tr>\n",
       "    <tr>\n",
       "      <th>207</th>\n",
       "      <td>Machine Learning Engineer</td>\n",
       "      <td>Aviva</td>\n",
       "      <td>About the job Individually we are people  but ...</td>\n",
       "      <td>Markham</td>\n",
       "      <td>Indeed</td>\n",
       "      <td>[microservice architecture, pandas, numpy]</td>\n",
       "    </tr>\n",
       "    <tr>\n",
       "      <th>627</th>\n",
       "      <td>Data Engineer / Power BI Developer, Omnia AI</td>\n",
       "      <td>Deloitte\\n</td>\n",
       "      <td>Job Type: Permanent Primary Location: Vancouve...</td>\n",
       "      <td>Vancouver</td>\n",
       "      <td>Glassdoor</td>\n",
       "      <td>[high proficiency]</td>\n",
       "    </tr>\n",
       "    <tr>\n",
       "      <th>671</th>\n",
       "      <td>Junior Business Intelligence Developer - Data ...</td>\n",
       "      <td>CAPRiser Group</td>\n",
       "      <td>Our subsidiary is in PropTech and real estate ...</td>\n",
       "      <td>Toronto</td>\n",
       "      <td>Indeed</td>\n",
       "      <td>[mining, CSS, JavaScript, one, more, non-relat...</td>\n",
       "    </tr>\n",
       "    <tr>\n",
       "      <th>661</th>\n",
       "      <td>Data Scientist Technical Lead (Montreal), Inta...</td>\n",
       "      <td>Intact\\n</td>\n",
       "      <td>Who needs insurance? Everybody. That keeps us ...</td>\n",
       "      <td>Montreal</td>\n",
       "      <td>Glassdoor</td>\n",
       "      <td>[field, source data mining frameworks]</td>\n",
       "    </tr>\n",
       "    <tr>\n",
       "      <th>489</th>\n",
       "      <td>Bio informaticien/Bioinformatics scientist</td>\n",
       "      <td>GenAIz\\n</td>\n",
       "      <td>Avant le SRAS-CoV-2  un vaccin qui était dével...</td>\n",
       "      <td>Montreal</td>\n",
       "      <td>Glassdoor</td>\n",
       "      <td>[multidisciplinary bioinformatics projects, KE...</td>\n",
       "    </tr>\n",
       "    <tr>\n",
       "      <th>434</th>\n",
       "      <td>Data Scientist</td>\n",
       "      <td>Awakedata</td>\n",
       "      <td>RESPONSIBILITIES: Develop state-of-the-art com...</td>\n",
       "      <td>Burnaby</td>\n",
       "      <td>Glassdoor</td>\n",
       "      <td>[big data techniques, SQL]</td>\n",
       "    </tr>\n",
       "    <tr>\n",
       "      <th>448</th>\n",
       "      <td>Scientifique de données / Data Scientist</td>\n",
       "      <td>BusPatrol\\n</td>\n",
       "      <td>Qui sommes-nous : BusPatrouille est une entrep...</td>\n",
       "      <td>Montreal</td>\n",
       "      <td>Glassdoor</td>\n",
       "      <td>[]</td>\n",
       "    </tr>\n",
       "    <tr>\n",
       "      <th>634</th>\n",
       "      <td>Data Management Specialist - Immunotoxicology</td>\n",
       "      <td>Charles River Laboratories\\n</td>\n",
       "      <td>For 70 years  Charles River employees have wor...</td>\n",
       "      <td>Senneville</td>\n",
       "      <td>Glassdoor</td>\n",
       "      <td>[]</td>\n",
       "    </tr>\n",
       "    <tr>\n",
       "      <th>748</th>\n",
       "      <td>Data Scientist</td>\n",
       "      <td>F8th</td>\n",
       "      <td>We're transforming the Cyber Security industry...</td>\n",
       "      <td>Midtown Toronto</td>\n",
       "      <td>Glassdoor</td>\n",
       "      <td>[statistical package, software development, ma...</td>\n",
       "    </tr>\n",
       "    <tr>\n",
       "      <th>831</th>\n",
       "      <td>Senior Professional Environmental Scientist (G...</td>\n",
       "      <td>Madrone Environmental Services Ltd</td>\n",
       "      <td>Senior Professional Environmental Scientist an...</td>\n",
       "      <td>Abbotsford</td>\n",
       "      <td>Glassdoor</td>\n",
       "      <td>[Western Canada]</td>\n",
       "    </tr>\n",
       "    <tr>\n",
       "      <th>396</th>\n",
       "      <td>Data Scientist</td>\n",
       "      <td>Novisto</td>\n",
       "      <td>At Novisto  our vision is to be the world's le...</td>\n",
       "      <td>Montreal</td>\n",
       "      <td>Glassdoor</td>\n",
       "      <td>[new employee, technologies, NLP techniques, a...</td>\n",
       "    </tr>\n",
       "    <tr>\n",
       "      <th>438</th>\n",
       "      <td>Data Scientist</td>\n",
       "      <td>Peritus.ai</td>\n",
       "      <td>About Peritus.ai   Peritus is dedicated to bui...</td>\n",
       "      <td>Montreal</td>\n",
       "      <td>Glassdoor</td>\n",
       "      <td>[Natural Language Processing, building knowled...</td>\n",
       "    </tr>\n",
       "    <tr>\n",
       "      <th>11</th>\n",
       "      <td>Junior Project Scientist / Junior Project Tech...</td>\n",
       "      <td>SNC-Lavalin\\n</td>\n",
       "      <td>Junior Project Scientist / Junior Project Tech...</td>\n",
       "      <td>Fort St. John</td>\n",
       "      <td>Glassdoor</td>\n",
       "      <td>[]</td>\n",
       "    </tr>\n",
       "    <tr>\n",
       "      <th>59</th>\n",
       "      <td>Data Engineer - 313378</td>\n",
       "      <td>Procom\\n</td>\n",
       "      <td>Ingénieur de données  Dans le cadre de ses ent...</td>\n",
       "      <td>Montreal</td>\n",
       "      <td>Glassdoor</td>\n",
       "      <td>[]</td>\n",
       "    </tr>\n",
       "    <tr>\n",
       "      <th>383</th>\n",
       "      <td>Senior Data Analyst</td>\n",
       "      <td>ZTR</td>\n",
       "      <td>Are you passionate about implementing and main...</td>\n",
       "      <td>London</td>\n",
       "      <td>Indeed</td>\n",
       "      <td>[relational, R, similar Experience]</td>\n",
       "    </tr>\n",
       "    <tr>\n",
       "      <th>591</th>\n",
       "      <td>Data Scientist - 05/12/21</td>\n",
       "      <td>Acerta Analytics Solutions Inc\\n</td>\n",
       "      <td>Acerta’s machine learning platforms leverage a...</td>\n",
       "      <td>Kitchener</td>\n",
       "      <td>Glassdoor</td>\n",
       "      <td>[tensorflow, sklearn, operations data]</td>\n",
       "    </tr>\n",
       "    <tr>\n",
       "      <th>577</th>\n",
       "      <td>Senior Data Engineer - Remote</td>\n",
       "      <td>Koho\\n</td>\n",
       "      <td>About KOHO KOHO is a quickly scaling FinTech c...</td>\n",
       "      <td>Canada</td>\n",
       "      <td>Glassdoor</td>\n",
       "      <td>[Kubernetes cluster management, data processin...</td>\n",
       "    </tr>\n",
       "    <tr>\n",
       "      <th>341</th>\n",
       "      <td>DATA SCIENTIST</td>\n",
       "      <td>Leger\\n</td>\n",
       "      <td>WHO WE ARE  At Leger  we know Canadians. With ...</td>\n",
       "      <td>Midtown Toronto</td>\n",
       "      <td>Glassdoor</td>\n",
       "      <td>[SQL, business intelligence, data, large datab...</td>\n",
       "    </tr>\n",
       "    <tr>\n",
       "      <th>355</th>\n",
       "      <td>Data Science Manager, Omnia AI</td>\n",
       "      <td>Deloitte\\n</td>\n",
       "      <td>Job Type: Permanent Primary Location: Toronto ...</td>\n",
       "      <td>Midtown Toronto</td>\n",
       "      <td>Glassdoor</td>\n",
       "      <td>[data mining, predictive models, experience, d...</td>\n",
       "    </tr>\n",
       "    <tr>\n",
       "      <th>416</th>\n",
       "      <td>DATA ENGINEER</td>\n",
       "      <td>The Globe and Mail\\n</td>\n",
       "      <td>DATA ENGINEER POSITION CODE: 2021-063 LOCATION...</td>\n",
       "      <td>Midtown Toronto</td>\n",
       "      <td>Glassdoor</td>\n",
       "      <td>[data warehousing technologies, big data tools...</td>\n",
       "    </tr>\n",
       "    <tr>\n",
       "      <th>352</th>\n",
       "      <td>Data Engineer</td>\n",
       "      <td>Mariner Partners\\n</td>\n",
       "      <td>Company Description As one of the largest prof...</td>\n",
       "      <td>Halifax</td>\n",
       "      <td>Glassdoor</td>\n",
       "      <td>[andhybrid environments, large enterprise]</td>\n",
       "    </tr>\n",
       "    <tr>\n",
       "      <th>733</th>\n",
       "      <td>Principal Data Scientist</td>\n",
       "      <td>Veeva Systems</td>\n",
       "      <td>Veeva [NYSE: VEEV] is the leader in cloud-base...</td>\n",
       "      <td>Toronto</td>\n",
       "      <td>Indeed</td>\n",
       "      <td>[point person]</td>\n",
       "    </tr>\n",
       "    <tr>\n",
       "      <th>456</th>\n",
       "      <td>Data Engineer - Mississauga</td>\n",
       "      <td>Randstad\\n</td>\n",
       "      <td>Our client  located in Mississauga Ontario is ...</td>\n",
       "      <td>Mississauga</td>\n",
       "      <td>Glassdoor</td>\n",
       "      <td>[software engineering environment Experience, ...</td>\n",
       "    </tr>\n",
       "    <tr>\n",
       "      <th>708</th>\n",
       "      <td>Product Development Confectionary Scientist</td>\n",
       "      <td>Cronos Group Inc.\\n</td>\n",
       "      <td>At Cronos Group  we hire talented people who t...</td>\n",
       "      <td>Stayner</td>\n",
       "      <td>Glassdoor</td>\n",
       "      <td>[]</td>\n",
       "    </tr>\n",
       "    <tr>\n",
       "      <th>12</th>\n",
       "      <td>Machine Learning Scientist</td>\n",
       "      <td>Amazon Dev Centre Canada ULC\\n</td>\n",
       "      <td>Bachelor’s degree in Computer Science  Statist...</td>\n",
       "      <td>Vancouver</td>\n",
       "      <td>Glassdoor</td>\n",
       "      <td>[R, other scripting languages, extensive catalog]</td>\n",
       "    </tr>\n",
       "    <tr>\n",
       "      <th>208</th>\n",
       "      <td>Data Engineering Intern (Fall 2021) - Toronto</td>\n",
       "      <td>Coursera\\n</td>\n",
       "      <td>Are you ready to join a team of tech-savvy mus...</td>\n",
       "      <td>Remote</td>\n",
       "      <td>Glassdoor</td>\n",
       "      <td>[Python, frameworks]</td>\n",
       "    </tr>\n",
       "    <tr>\n",
       "      <th>537</th>\n",
       "      <td>Manager, Data Science - Research &amp; Analytics T...</td>\n",
       "      <td>Tonal\\n</td>\n",
       "      <td>Who We Are  Tonal is the smartest home gym and...</td>\n",
       "      <td>Midtown Toronto</td>\n",
       "      <td>Glassdoor</td>\n",
       "      <td>[]</td>\n",
       "    </tr>\n",
       "    <tr>\n",
       "      <th>639</th>\n",
       "      <td>Ingénieur de données senior / Sr. Data Engineer</td>\n",
       "      <td>McKesson Canada Corporation / La Corporation M...</td>\n",
       "      <td>English version to follow  McKesson touche la ...</td>\n",
       "      <td>Saint-Laurent</td>\n",
       "      <td>Glassdoor</td>\n",
       "      <td>[ETL Developer, scale enterprise data warehous...</td>\n",
       "    </tr>\n",
       "    <tr>\n",
       "      <th>669</th>\n",
       "      <td>Solution Architect (Big Data) - Canada</td>\n",
       "      <td>Wavicle Data Solutions\\n</td>\n",
       "      <td>Wavicle Data Solutions designs and delivers da...</td>\n",
       "      <td>Remote</td>\n",
       "      <td>Glassdoor</td>\n",
       "      <td>[AWS technologies]</td>\n",
       "    </tr>\n",
       "    <tr>\n",
       "      <th>698</th>\n",
       "      <td>Data Analyst Health Surveillance - BC Centre f...</td>\n",
       "      <td>PHSA\\n</td>\n",
       "      <td>Data Analyst Health Surveillance Epidemiology ...</td>\n",
       "      <td>Vancouver</td>\n",
       "      <td>Glassdoor</td>\n",
       "      <td>[scientist]</td>\n",
       "    </tr>\n",
       "    <tr>\n",
       "      <th>266</th>\n",
       "      <td>Optimization Specialist, Analytics</td>\n",
       "      <td>Torstar</td>\n",
       "      <td>Company Description  Torstar Corporation is a ...</td>\n",
       "      <td>Toronto</td>\n",
       "      <td>Indeed</td>\n",
       "      <td>[media Development, QA experience]</td>\n",
       "    </tr>\n",
       "    <tr>\n",
       "      <th>761</th>\n",
       "      <td>Machine Learning Engineer / Data Scientist</td>\n",
       "      <td>TerraSense Analytics Ltd</td>\n",
       "      <td>CATCHY INTRO  Honestly  we’ve been brainstormi...</td>\n",
       "      <td>Kelowna</td>\n",
       "      <td>Glassdoor</td>\n",
       "      <td>[building, shipping, video analytics, GUI deve...</td>\n",
       "    </tr>\n",
       "    <tr>\n",
       "      <th>399</th>\n",
       "      <td>Data Engineer, Data Lake</td>\n",
       "      <td>Altus Group\\n</td>\n",
       "      <td>Job Category:  Software  Opportunity Awaits at...</td>\n",
       "      <td>Midtown Toronto</td>\n",
       "      <td>Glassdoor</td>\n",
       "      <td>[]</td>\n",
       "    </tr>\n",
       "    <tr>\n",
       "      <th>686</th>\n",
       "      <td>Product Manager - Data Science - Toronto Hub</td>\n",
       "      <td>Veeva Systems</td>\n",
       "      <td>Veeva [NYSE: VEEV] is the leader in cloud-base...</td>\n",
       "      <td>Toronto</td>\n",
       "      <td>Indeed</td>\n",
       "      <td>[prescription claims data Perks, Benefits]</td>\n",
       "    </tr>\n",
       "    <tr>\n",
       "      <th>267</th>\n",
       "      <td>Data Scientist</td>\n",
       "      <td>Oxford Properties</td>\n",
       "      <td>Why join us?  Are you looking to join an innov...</td>\n",
       "      <td>Toronto</td>\n",
       "      <td>Indeed</td>\n",
       "      <td>[data scientist, PowerBI, application developm...</td>\n",
       "    </tr>\n",
       "    <tr>\n",
       "      <th>726</th>\n",
       "      <td>Data Engineer</td>\n",
       "      <td>Pinterest\\n</td>\n",
       "      <td>About Pinterest:  Millions of people across th...</td>\n",
       "      <td>Midtown Toronto</td>\n",
       "      <td>Glassdoor</td>\n",
       "      <td>[big data, data pipeline design, development]</td>\n",
       "    </tr>\n",
       "    <tr>\n",
       "      <th>193</th>\n",
       "      <td>Cloud Data Engineer</td>\n",
       "      <td>Digital On Us\\n</td>\n",
       "      <td>Who is DigitalOnUs?  At DigitalOnUs  we not on...</td>\n",
       "      <td>Midtown Toronto</td>\n",
       "      <td>Glassdoor</td>\n",
       "      <td>[Familiarity, Teradata, etc, Big Data Technolo...</td>\n",
       "    </tr>\n",
       "    <tr>\n",
       "      <th>60</th>\n",
       "      <td>Data Engineer</td>\n",
       "      <td>The Green Organic Dutchman Holdings Ltd</td>\n",
       "      <td>The Green Organic Dutchman is a global leader ...</td>\n",
       "      <td>Mississauga</td>\n",
       "      <td>Glassdoor</td>\n",
       "      <td>[field, Apache Airflow, Docker, web scraping, ...</td>\n",
       "    </tr>\n",
       "    <tr>\n",
       "      <th>750</th>\n",
       "      <td>Principal Clinical Data Scientist Lead</td>\n",
       "      <td>PRA Health Sciences\\n</td>\n",
       "      <td>Do you want to watch clinical development chan...</td>\n",
       "      <td>Remote</td>\n",
       "      <td>Glassdoor</td>\n",
       "      <td>[]</td>\n",
       "    </tr>\n",
       "    <tr>\n",
       "      <th>179</th>\n",
       "      <td>Data Solution Architect</td>\n",
       "      <td>Onix Networking Corp\\n</td>\n",
       "      <td>Summary: Onix Solution Architect helps custome...</td>\n",
       "      <td>Quebec</td>\n",
       "      <td>Glassdoor</td>\n",
       "      <td>[document management repository systems, relat...</td>\n",
       "    </tr>\n",
       "    <tr>\n",
       "      <th>370</th>\n",
       "      <td>Data Scientist</td>\n",
       "      <td>Canadian Tire\\n</td>\n",
       "      <td>The CTC Personalization &amp; Customer Analytics t...</td>\n",
       "      <td>Midtown Toronto</td>\n",
       "      <td>Glassdoor</td>\n",
       "      <td>[business environment, environment]</td>\n",
       "    </tr>\n",
       "    <tr>\n",
       "      <th>582</th>\n",
       "      <td>Data Engineer/Analyst - Active Safety &amp; Autono...</td>\n",
       "      <td>General Motors\\n</td>\n",
       "      <td>About GM  There’s never been a more exciting t...</td>\n",
       "      <td>Ontario</td>\n",
       "      <td>Glassdoor</td>\n",
       "      <td>[data, vehicle data acquisition tools, Big Dat...</td>\n",
       "    </tr>\n",
       "    <tr>\n",
       "      <th>512</th>\n",
       "      <td>Senior Data Scientist</td>\n",
       "      <td>Interac\\n</td>\n",
       "      <td>At Interac  we design products and solutions t...</td>\n",
       "      <td>Midtown Toronto</td>\n",
       "      <td>Glassdoor</td>\n",
       "      <td>[Data Science, Redshift, more, years, Financia...</td>\n",
       "    </tr>\n",
       "    <tr>\n",
       "      <th>728</th>\n",
       "      <td>Applied Scientist - Machine Learning</td>\n",
       "      <td>Microsoft\\n</td>\n",
       "      <td>Applied Scientist - Machine Learning  The Inte...</td>\n",
       "      <td>Vancouver</td>\n",
       "      <td>Glassdoor</td>\n",
       "      <td>[]</td>\n",
       "    </tr>\n",
       "    <tr>\n",
       "      <th>673</th>\n",
       "      <td>Senior Machine Learning Engineer</td>\n",
       "      <td>Clearco</td>\n",
       "      <td>Clearco is a company built by founders for fou...</td>\n",
       "      <td>Ontario</td>\n",
       "      <td>Indeed</td>\n",
       "      <td>[founders, XGBoost deployments]</td>\n",
       "    </tr>\n",
       "    <tr>\n",
       "      <th>664</th>\n",
       "      <td>Specialist, Loyalty Analytics</td>\n",
       "      <td>Cineplex</td>\n",
       "      <td>Company Description  Life at Cineplex: Cineple...</td>\n",
       "      <td>Toronto</td>\n",
       "      <td>Indeed</td>\n",
       "      <td>[data analytics, business intelligence, loyalty]</td>\n",
       "    </tr>\n",
       "    <tr>\n",
       "      <th>176</th>\n",
       "      <td>Data Engineer</td>\n",
       "      <td>ScanSource Canada Inc.\\n</td>\n",
       "      <td>Summary:  The Data Engineer will be responsibl...</td>\n",
       "      <td>Mississauga</td>\n",
       "      <td>Glassdoor</td>\n",
       "      <td>[management solutions, Azure SQL Managed Insta...</td>\n",
       "    </tr>\n",
       "    <tr>\n",
       "      <th>283</th>\n",
       "      <td>Cloud Data Engineer</td>\n",
       "      <td>apptoza inc</td>\n",
       "      <td>Role: Cloud Data Engineer  Location: Toronto  ...</td>\n",
       "      <td>Midtown Toronto</td>\n",
       "      <td>Glassdoor</td>\n",
       "      <td>[]</td>\n",
       "    </tr>\n",
       "    <tr>\n",
       "      <th>753</th>\n",
       "      <td>Senior Data Analyst, Growth</td>\n",
       "      <td>NorthOne</td>\n",
       "      <td>We make small businesses more successful throu...</td>\n",
       "      <td>Toronto</td>\n",
       "      <td>Indeed</td>\n",
       "      <td>[]</td>\n",
       "    </tr>\n",
       "  </tbody>\n",
       "</table>\n",
       "</div>"
      ],
      "text/plain": [
       "                                             Job Title  \\\n",
       "852        HEAD OF ANALYTICS & INSIGHTS/DATA SCIENTIST   \n",
       "207                          Machine Learning Engineer   \n",
       "627       Data Engineer / Power BI Developer, Omnia AI   \n",
       "671  Junior Business Intelligence Developer - Data ...   \n",
       "661  Data Scientist Technical Lead (Montreal), Inta...   \n",
       "489         Bio informaticien/Bioinformatics scientist   \n",
       "434                                     Data Scientist   \n",
       "448           Scientifique de données / Data Scientist   \n",
       "634      Data Management Specialist - Immunotoxicology   \n",
       "748                                     Data Scientist   \n",
       "831  Senior Professional Environmental Scientist (G...   \n",
       "396                                     Data Scientist   \n",
       "438                                     Data Scientist   \n",
       "11   Junior Project Scientist / Junior Project Tech...   \n",
       "59                              Data Engineer - 313378   \n",
       "383                                Senior Data Analyst   \n",
       "591                          Data Scientist - 05/12/21   \n",
       "577                      Senior Data Engineer - Remote   \n",
       "341                                     DATA SCIENTIST   \n",
       "355                     Data Science Manager, Omnia AI   \n",
       "416                                      DATA ENGINEER   \n",
       "352                                      Data Engineer   \n",
       "733                           Principal Data Scientist   \n",
       "456                        Data Engineer - Mississauga   \n",
       "708        Product Development Confectionary Scientist   \n",
       "12                          Machine Learning Scientist   \n",
       "208      Data Engineering Intern (Fall 2021) - Toronto   \n",
       "537  Manager, Data Science - Research & Analytics T...   \n",
       "639    Ingénieur de données senior / Sr. Data Engineer   \n",
       "669             Solution Architect (Big Data) - Canada   \n",
       "698  Data Analyst Health Surveillance - BC Centre f...   \n",
       "266                 Optimization Specialist, Analytics   \n",
       "761         Machine Learning Engineer / Data Scientist   \n",
       "399                           Data Engineer, Data Lake   \n",
       "686       Product Manager - Data Science - Toronto Hub   \n",
       "267                                     Data Scientist   \n",
       "726                                      Data Engineer   \n",
       "193                                Cloud Data Engineer   \n",
       "60                                       Data Engineer   \n",
       "750             Principal Clinical Data Scientist Lead   \n",
       "179                            Data Solution Architect   \n",
       "370                                     Data Scientist   \n",
       "582  Data Engineer/Analyst - Active Safety & Autono...   \n",
       "512                              Senior Data Scientist   \n",
       "728               Applied Scientist - Machine Learning   \n",
       "673                   Senior Machine Learning Engineer   \n",
       "664                      Specialist, Loyalty Analytics   \n",
       "176                                      Data Engineer   \n",
       "283                                Cloud Data Engineer   \n",
       "753                        Senior Data Analyst, Growth   \n",
       "\n",
       "                                          Company Name  \\\n",
       "852                              Saje Natural Wellness   \n",
       "207                                              Aviva   \n",
       "627                                         Deloitte\\n   \n",
       "671                                     CAPRiser Group   \n",
       "661                                           Intact\\n   \n",
       "489                                           GenAIz\\n   \n",
       "434                                          Awakedata   \n",
       "448                                        BusPatrol\\n   \n",
       "634                       Charles River Laboratories\\n   \n",
       "748                                               F8th   \n",
       "831                 Madrone Environmental Services Ltd   \n",
       "396                                            Novisto   \n",
       "438                                         Peritus.ai   \n",
       "11                                       SNC-Lavalin\\n   \n",
       "59                                            Procom\\n   \n",
       "383                                                ZTR   \n",
       "591                   Acerta Analytics Solutions Inc\\n   \n",
       "577                                             Koho\\n   \n",
       "341                                            Leger\\n   \n",
       "355                                         Deloitte\\n   \n",
       "416                               The Globe and Mail\\n   \n",
       "352                                 Mariner Partners\\n   \n",
       "733                                      Veeva Systems   \n",
       "456                                         Randstad\\n   \n",
       "708                                Cronos Group Inc.\\n   \n",
       "12                      Amazon Dev Centre Canada ULC\\n   \n",
       "208                                         Coursera\\n   \n",
       "537                                            Tonal\\n   \n",
       "639  McKesson Canada Corporation / La Corporation M...   \n",
       "669                           Wavicle Data Solutions\\n   \n",
       "698                                             PHSA\\n   \n",
       "266                                            Torstar   \n",
       "761                           TerraSense Analytics Ltd   \n",
       "399                                      Altus Group\\n   \n",
       "686                                      Veeva Systems   \n",
       "267                                  Oxford Properties   \n",
       "726                                        Pinterest\\n   \n",
       "193                                    Digital On Us\\n   \n",
       "60             The Green Organic Dutchman Holdings Ltd   \n",
       "750                              PRA Health Sciences\\n   \n",
       "179                             Onix Networking Corp\\n   \n",
       "370                                    Canadian Tire\\n   \n",
       "582                                   General Motors\\n   \n",
       "512                                          Interac\\n   \n",
       "728                                        Microsoft\\n   \n",
       "673                                            Clearco   \n",
       "664                                           Cineplex   \n",
       "176                           ScanSource Canada Inc.\\n   \n",
       "283                                        apptoza inc   \n",
       "753                                           NorthOne   \n",
       "\n",
       "                                       Job Description         Location  \\\n",
       "852  For over 25 years we’ve been helping our commu...        Vancouver   \n",
       "207  About the job Individually we are people  but ...          Markham   \n",
       "627  Job Type: Permanent Primary Location: Vancouve...        Vancouver   \n",
       "671  Our subsidiary is in PropTech and real estate ...          Toronto   \n",
       "661  Who needs insurance? Everybody. That keeps us ...         Montreal   \n",
       "489  Avant le SRAS-CoV-2  un vaccin qui était dével...         Montreal   \n",
       "434  RESPONSIBILITIES: Develop state-of-the-art com...          Burnaby   \n",
       "448  Qui sommes-nous : BusPatrouille est une entrep...         Montreal   \n",
       "634  For 70 years  Charles River employees have wor...       Senneville   \n",
       "748  We're transforming the Cyber Security industry...  Midtown Toronto   \n",
       "831  Senior Professional Environmental Scientist an...       Abbotsford   \n",
       "396  At Novisto  our vision is to be the world's le...         Montreal   \n",
       "438  About Peritus.ai   Peritus is dedicated to bui...         Montreal   \n",
       "11   Junior Project Scientist / Junior Project Tech...    Fort St. John   \n",
       "59   Ingénieur de données  Dans le cadre de ses ent...         Montreal   \n",
       "383  Are you passionate about implementing and main...           London   \n",
       "591  Acerta’s machine learning platforms leverage a...        Kitchener   \n",
       "577  About KOHO KOHO is a quickly scaling FinTech c...           Canada   \n",
       "341  WHO WE ARE  At Leger  we know Canadians. With ...  Midtown Toronto   \n",
       "355  Job Type: Permanent Primary Location: Toronto ...  Midtown Toronto   \n",
       "416  DATA ENGINEER POSITION CODE: 2021-063 LOCATION...  Midtown Toronto   \n",
       "352  Company Description As one of the largest prof...          Halifax   \n",
       "733  Veeva [NYSE: VEEV] is the leader in cloud-base...          Toronto   \n",
       "456  Our client  located in Mississauga Ontario is ...      Mississauga   \n",
       "708  At Cronos Group  we hire talented people who t...          Stayner   \n",
       "12   Bachelor’s degree in Computer Science  Statist...        Vancouver   \n",
       "208  Are you ready to join a team of tech-savvy mus...           Remote   \n",
       "537  Who We Are  Tonal is the smartest home gym and...  Midtown Toronto   \n",
       "639  English version to follow  McKesson touche la ...    Saint-Laurent   \n",
       "669  Wavicle Data Solutions designs and delivers da...           Remote   \n",
       "698  Data Analyst Health Surveillance Epidemiology ...        Vancouver   \n",
       "266  Company Description  Torstar Corporation is a ...          Toronto   \n",
       "761  CATCHY INTRO  Honestly  we’ve been brainstormi...          Kelowna   \n",
       "399  Job Category:  Software  Opportunity Awaits at...  Midtown Toronto   \n",
       "686  Veeva [NYSE: VEEV] is the leader in cloud-base...          Toronto   \n",
       "267  Why join us?  Are you looking to join an innov...          Toronto   \n",
       "726  About Pinterest:  Millions of people across th...  Midtown Toronto   \n",
       "193  Who is DigitalOnUs?  At DigitalOnUs  we not on...  Midtown Toronto   \n",
       "60   The Green Organic Dutchman is a global leader ...      Mississauga   \n",
       "750  Do you want to watch clinical development chan...           Remote   \n",
       "179  Summary: Onix Solution Architect helps custome...           Quebec   \n",
       "370  The CTC Personalization & Customer Analytics t...  Midtown Toronto   \n",
       "582  About GM  There’s never been a more exciting t...          Ontario   \n",
       "512  At Interac  we design products and solutions t...  Midtown Toronto   \n",
       "728  Applied Scientist - Machine Learning  The Inte...        Vancouver   \n",
       "673  Clearco is a company built by founders for fou...          Ontario   \n",
       "664  Company Description  Life at Cineplex: Cineple...          Toronto   \n",
       "176  Summary:  The Data Engineer will be responsibl...      Mississauga   \n",
       "283  Role: Cloud Data Engineer  Location: Toronto  ...  Midtown Toronto   \n",
       "753  We make small businesses more successful throu...          Toronto   \n",
       "\n",
       "     Job Board                                             skills  \n",
       "852     Indeed  [market research, customer strategy Experience...  \n",
       "207     Indeed         [microservice architecture, pandas, numpy]  \n",
       "627  Glassdoor                                 [high proficiency]  \n",
       "671     Indeed  [mining, CSS, JavaScript, one, more, non-relat...  \n",
       "661  Glassdoor             [field, source data mining frameworks]  \n",
       "489  Glassdoor  [multidisciplinary bioinformatics projects, KE...  \n",
       "434  Glassdoor                         [big data techniques, SQL]  \n",
       "448  Glassdoor                                                 []  \n",
       "634  Glassdoor                                                 []  \n",
       "748  Glassdoor  [statistical package, software development, ma...  \n",
       "831  Glassdoor                                   [Western Canada]  \n",
       "396  Glassdoor  [new employee, technologies, NLP techniques, a...  \n",
       "438  Glassdoor  [Natural Language Processing, building knowled...  \n",
       "11   Glassdoor                                                 []  \n",
       "59   Glassdoor                                                 []  \n",
       "383     Indeed                [relational, R, similar Experience]  \n",
       "591  Glassdoor             [tensorflow, sklearn, operations data]  \n",
       "577  Glassdoor  [Kubernetes cluster management, data processin...  \n",
       "341  Glassdoor  [SQL, business intelligence, data, large datab...  \n",
       "355  Glassdoor  [data mining, predictive models, experience, d...  \n",
       "416  Glassdoor  [data warehousing technologies, big data tools...  \n",
       "352  Glassdoor         [andhybrid environments, large enterprise]  \n",
       "733     Indeed                                     [point person]  \n",
       "456  Glassdoor  [software engineering environment Experience, ...  \n",
       "708  Glassdoor                                                 []  \n",
       "12   Glassdoor  [R, other scripting languages, extensive catalog]  \n",
       "208  Glassdoor                               [Python, frameworks]  \n",
       "537  Glassdoor                                                 []  \n",
       "639  Glassdoor  [ETL Developer, scale enterprise data warehous...  \n",
       "669  Glassdoor                                 [AWS technologies]  \n",
       "698  Glassdoor                                        [scientist]  \n",
       "266     Indeed                 [media Development, QA experience]  \n",
       "761  Glassdoor  [building, shipping, video analytics, GUI deve...  \n",
       "399  Glassdoor                                                 []  \n",
       "686     Indeed         [prescription claims data Perks, Benefits]  \n",
       "267     Indeed  [data scientist, PowerBI, application developm...  \n",
       "726  Glassdoor      [big data, data pipeline design, development]  \n",
       "193  Glassdoor  [Familiarity, Teradata, etc, Big Data Technolo...  \n",
       "60   Glassdoor  [field, Apache Airflow, Docker, web scraping, ...  \n",
       "750  Glassdoor                                                 []  \n",
       "179  Glassdoor  [document management repository systems, relat...  \n",
       "370  Glassdoor                [business environment, environment]  \n",
       "582  Glassdoor  [data, vehicle data acquisition tools, Big Dat...  \n",
       "512  Glassdoor  [Data Science, Redshift, more, years, Financia...  \n",
       "728  Glassdoor                                                 []  \n",
       "673     Indeed                    [founders, XGBoost deployments]  \n",
       "664     Indeed   [data analytics, business intelligence, loyalty]  \n",
       "176  Glassdoor  [management solutions, Azure SQL Managed Insta...  \n",
       "283  Glassdoor                                                 []  \n",
       "753     Indeed                                                 []  "
      ]
     },
     "execution_count": 75,
     "metadata": {},
     "output_type": "execute_result"
    }
   ],
   "source": [
    "df.sample(50, random_state = 5)"
   ]
  },
  {
   "cell_type": "code",
   "execution_count": 77,
   "id": "bf3c2eff",
   "metadata": {},
   "outputs": [],
   "source": [
    "with open('raw_skills.txt', 'w') as f:\n",
    "    for skill in skills:\n",
    "        print(skill, file=f)"
   ]
  },
  {
   "cell_type": "code",
   "execution_count": 78,
   "id": "6dd5e41b",
   "metadata": {},
   "outputs": [],
   "source": [
    "df.to_csv('rule_based_extracted_skills.csv', index=False)"
   ]
  },
  {
   "cell_type": "code",
   "execution_count": 79,
   "id": "0f21c4ca",
   "metadata": {},
   "outputs": [],
   "source": []
  },
  {
   "cell_type": "code",
   "execution_count": 84,
   "id": "de421586",
   "metadata": {},
   "outputs": [
    {
     "name": "stdout",
     "output_type": "stream",
     "text": [
      "[]\n"
     ]
    }
   ],
   "source": [
    "print(list_skills(df['Job Description'][10], extract_adp_conj_experience))"
   ]
  },
  {
   "cell_type": "code",
   "execution_count": 87,
   "id": "032e849c",
   "metadata": {},
   "outputs": [],
   "source": [
    "[extract_adp_conj_experience(s)]\n",
    "temp = extract_df(*extract_exps)"
   ]
  },
  {
   "cell_type": "code",
   "execution_count": 88,
   "id": "aaac9b72",
   "metadata": {},
   "outputs": [
    {
     "data": {
      "text/html": [
       "<div>\n",
       "<style scoped>\n",
       "    .dataframe tbody tr th:only-of-type {\n",
       "        vertical-align: middle;\n",
       "    }\n",
       "\n",
       "    .dataframe tbody tr th {\n",
       "        vertical-align: top;\n",
       "    }\n",
       "\n",
       "    .dataframe thead th {\n",
       "        text-align: right;\n",
       "    }\n",
       "</style>\n",
       "<table border=\"1\" class=\"dataframe\">\n",
       "  <thead>\n",
       "    <tr style=\"text-align: right;\">\n",
       "      <th></th>\n",
       "      <th>text</th>\n",
       "      <th>docidx</th>\n",
       "      <th>start</th>\n",
       "      <th>end</th>\n",
       "      <th>label</th>\n",
       "      <th>sent_start</th>\n",
       "      <th>sent_end</th>\n",
       "      <th>Job Title</th>\n",
       "      <th>Company Name</th>\n",
       "      <th>Job Description</th>\n",
       "      <th>Location</th>\n",
       "      <th>Job Board</th>\n",
       "      <th>skills</th>\n",
       "    </tr>\n",
       "  </thead>\n",
       "  <tbody>\n",
       "    <tr>\n",
       "      <th>0</th>\n",
       "      <td>application</td>\n",
       "      <td>0</td>\n",
       "      <td>242</td>\n",
       "      <td>243</td>\n",
       "      <td>EXPERIENCE</td>\n",
       "      <td>224</td>\n",
       "      <td>304</td>\n",
       "      <td>Data Scientist</td>\n",
       "      <td>Metricsflow Inc</td>\n",
       "      <td>At Metricsflow  we work to shape the future of...</td>\n",
       "      <td>St. John's</td>\n",
       "      <td>Glassdoor</td>\n",
       "      <td>[application]</td>\n",
       "    </tr>\n",
       "    <tr>\n",
       "      <th>1</th>\n",
       "      <td>tensorflow</td>\n",
       "      <td>1</td>\n",
       "      <td>164</td>\n",
       "      <td>165</td>\n",
       "      <td>EXPERIENCE</td>\n",
       "      <td>134</td>\n",
       "      <td>169</td>\n",
       "      <td>Data Scientist - 05/12/21</td>\n",
       "      <td>Acerta Analytics Solutions Inc</td>\n",
       "      <td>Acerta’s machine learning platforms leverage a...</td>\n",
       "      <td>Kitchener</td>\n",
       "      <td>Indeed</td>\n",
       "      <td>[tensorflow, sklearn, operations data]</td>\n",
       "    </tr>\n",
       "    <tr>\n",
       "      <th>2</th>\n",
       "      <td>sklearn</td>\n",
       "      <td>1</td>\n",
       "      <td>167</td>\n",
       "      <td>168</td>\n",
       "      <td>EXPERIENCE</td>\n",
       "      <td>134</td>\n",
       "      <td>169</td>\n",
       "      <td>Data Scientist - 05/12/21</td>\n",
       "      <td>Acerta Analytics Solutions Inc</td>\n",
       "      <td>Acerta’s machine learning platforms leverage a...</td>\n",
       "      <td>Kitchener</td>\n",
       "      <td>Indeed</td>\n",
       "      <td>[tensorflow, sklearn, operations data]</td>\n",
       "    </tr>\n",
       "    <tr>\n",
       "      <th>3</th>\n",
       "      <td>operations data</td>\n",
       "      <td>1</td>\n",
       "      <td>175</td>\n",
       "      <td>177</td>\n",
       "      <td>EXPERIENCE</td>\n",
       "      <td>169</td>\n",
       "      <td>256</td>\n",
       "      <td>Data Scientist - 05/12/21</td>\n",
       "      <td>Acerta Analytics Solutions Inc</td>\n",
       "      <td>Acerta’s machine learning platforms leverage a...</td>\n",
       "      <td>Kitchener</td>\n",
       "      <td>Indeed</td>\n",
       "      <td>[tensorflow, sklearn, operations data]</td>\n",
       "    </tr>\n",
       "    <tr>\n",
       "      <th>4</th>\n",
       "      <td>data modeling</td>\n",
       "      <td>2</td>\n",
       "      <td>403</td>\n",
       "      <td>405</td>\n",
       "      <td>EXPERIENCE</td>\n",
       "      <td>384</td>\n",
       "      <td>561</td>\n",
       "      <td>Data Engineer</td>\n",
       "      <td>GoodLife Fitness\\n</td>\n",
       "      <td>Position Description     DATA ENGINEER **This ...</td>\n",
       "      <td>Midtown Toronto</td>\n",
       "      <td>Glassdoor</td>\n",
       "      <td>[data modeling, Cloud platforms, Informatica I...</td>\n",
       "    </tr>\n",
       "    <tr>\n",
       "      <th>...</th>\n",
       "      <td>...</td>\n",
       "      <td>...</td>\n",
       "      <td>...</td>\n",
       "      <td>...</td>\n",
       "      <td>...</td>\n",
       "      <td>...</td>\n",
       "      <td>...</td>\n",
       "      <td>...</td>\n",
       "      <td>...</td>\n",
       "      <td>...</td>\n",
       "      <td>...</td>\n",
       "      <td>...</td>\n",
       "      <td>...</td>\n",
       "    </tr>\n",
       "    <tr>\n",
       "      <th>2839</th>\n",
       "      <td>variety</td>\n",
       "      <td>879</td>\n",
       "      <td>396</td>\n",
       "      <td>397</td>\n",
       "      <td>EXPERIENCE</td>\n",
       "      <td>365</td>\n",
       "      <td>448</td>\n",
       "      <td>Data Engineer</td>\n",
       "      <td>Cyient\\n</td>\n",
       "      <td>Cyient is a global engineering and technology ...</td>\n",
       "      <td>Montreal</td>\n",
       "      <td>Glassdoor</td>\n",
       "      <td>[area, SQL, solutions, variety]</td>\n",
       "    </tr>\n",
       "    <tr>\n",
       "      <th>2840</th>\n",
       "      <td>Data Engineer</td>\n",
       "      <td>880</td>\n",
       "      <td>441</td>\n",
       "      <td>443</td>\n",
       "      <td>EXPERIENCE</td>\n",
       "      <td>432</td>\n",
       "      <td>467</td>\n",
       "      <td>Principal Data Engineer</td>\n",
       "      <td>ELEMENTS Global Services</td>\n",
       "      <td>Elements Global Services is an award-winning H...</td>\n",
       "      <td>Toronto</td>\n",
       "      <td>Indeed</td>\n",
       "      <td>[Data Engineer, NoSQL database technologies, m...</td>\n",
       "    </tr>\n",
       "    <tr>\n",
       "      <th>2841</th>\n",
       "      <td>NoSQL database technologies</td>\n",
       "      <td>880</td>\n",
       "      <td>523</td>\n",
       "      <td>526</td>\n",
       "      <td>EXPERIENCE</td>\n",
       "      <td>515</td>\n",
       "      <td>532</td>\n",
       "      <td>Principal Data Engineer</td>\n",
       "      <td>ELEMENTS Global Services</td>\n",
       "      <td>Elements Global Services is an award-winning H...</td>\n",
       "      <td>Toronto</td>\n",
       "      <td>Indeed</td>\n",
       "      <td>[Data Engineer, NoSQL database technologies, m...</td>\n",
       "    </tr>\n",
       "    <tr>\n",
       "      <th>2842</th>\n",
       "      <td>modern programming languages</td>\n",
       "      <td>880</td>\n",
       "      <td>538</td>\n",
       "      <td>541</td>\n",
       "      <td>EXPERIENCE</td>\n",
       "      <td>532</td>\n",
       "      <td>559</td>\n",
       "      <td>Principal Data Engineer</td>\n",
       "      <td>ELEMENTS Global Services</td>\n",
       "      <td>Elements Global Services is an award-winning H...</td>\n",
       "      <td>Toronto</td>\n",
       "      <td>Indeed</td>\n",
       "      <td>[Data Engineer, NoSQL database technologies, m...</td>\n",
       "    </tr>\n",
       "    <tr>\n",
       "      <th>2843</th>\n",
       "      <td>tools</td>\n",
       "      <td>880</td>\n",
       "      <td>542</td>\n",
       "      <td>543</td>\n",
       "      <td>EXPERIENCE</td>\n",
       "      <td>532</td>\n",
       "      <td>559</td>\n",
       "      <td>Principal Data Engineer</td>\n",
       "      <td>ELEMENTS Global Services</td>\n",
       "      <td>Elements Global Services is an award-winning H...</td>\n",
       "      <td>Toronto</td>\n",
       "      <td>Indeed</td>\n",
       "      <td>[Data Engineer, NoSQL database technologies, m...</td>\n",
       "    </tr>\n",
       "  </tbody>\n",
       "</table>\n",
       "<p>2844 rows × 13 columns</p>\n",
       "</div>"
      ],
      "text/plain": [
       "                              text  docidx  start  end       label  \\\n",
       "0                      application       0    242  243  EXPERIENCE   \n",
       "1                       tensorflow       1    164  165  EXPERIENCE   \n",
       "2                          sklearn       1    167  168  EXPERIENCE   \n",
       "3                  operations data       1    175  177  EXPERIENCE   \n",
       "4                    data modeling       2    403  405  EXPERIENCE   \n",
       "...                            ...     ...    ...  ...         ...   \n",
       "2839                       variety     879    396  397  EXPERIENCE   \n",
       "2840                 Data Engineer     880    441  443  EXPERIENCE   \n",
       "2841   NoSQL database technologies     880    523  526  EXPERIENCE   \n",
       "2842  modern programming languages     880    538  541  EXPERIENCE   \n",
       "2843                         tools     880    542  543  EXPERIENCE   \n",
       "\n",
       "      sent_start  sent_end                  Job Title  \\\n",
       "0            224       304             Data Scientist   \n",
       "1            134       169  Data Scientist - 05/12/21   \n",
       "2            134       169  Data Scientist - 05/12/21   \n",
       "3            169       256  Data Scientist - 05/12/21   \n",
       "4            384       561              Data Engineer   \n",
       "...          ...       ...                        ...   \n",
       "2839         365       448              Data Engineer   \n",
       "2840         432       467    Principal Data Engineer   \n",
       "2841         515       532    Principal Data Engineer   \n",
       "2842         532       559    Principal Data Engineer   \n",
       "2843         532       559    Principal Data Engineer   \n",
       "\n",
       "                        Company Name  \\\n",
       "0                    Metricsflow Inc   \n",
       "1     Acerta Analytics Solutions Inc   \n",
       "2     Acerta Analytics Solutions Inc   \n",
       "3     Acerta Analytics Solutions Inc   \n",
       "4                 GoodLife Fitness\\n   \n",
       "...                              ...   \n",
       "2839                        Cyient\\n   \n",
       "2840        ELEMENTS Global Services   \n",
       "2841        ELEMENTS Global Services   \n",
       "2842        ELEMENTS Global Services   \n",
       "2843        ELEMENTS Global Services   \n",
       "\n",
       "                                        Job Description         Location  \\\n",
       "0     At Metricsflow  we work to shape the future of...       St. John's   \n",
       "1     Acerta’s machine learning platforms leverage a...        Kitchener   \n",
       "2     Acerta’s machine learning platforms leverage a...        Kitchener   \n",
       "3     Acerta’s machine learning platforms leverage a...        Kitchener   \n",
       "4     Position Description     DATA ENGINEER **This ...  Midtown Toronto   \n",
       "...                                                 ...              ...   \n",
       "2839  Cyient is a global engineering and technology ...         Montreal   \n",
       "2840  Elements Global Services is an award-winning H...          Toronto   \n",
       "2841  Elements Global Services is an award-winning H...          Toronto   \n",
       "2842  Elements Global Services is an award-winning H...          Toronto   \n",
       "2843  Elements Global Services is an award-winning H...          Toronto   \n",
       "\n",
       "      Job Board                                             skills  \n",
       "0     Glassdoor                                      [application]  \n",
       "1        Indeed             [tensorflow, sklearn, operations data]  \n",
       "2        Indeed             [tensorflow, sklearn, operations data]  \n",
       "3        Indeed             [tensorflow, sklearn, operations data]  \n",
       "4     Glassdoor  [data modeling, Cloud platforms, Informatica I...  \n",
       "...         ...                                                ...  \n",
       "2839  Glassdoor                    [area, SQL, solutions, variety]  \n",
       "2840     Indeed  [Data Engineer, NoSQL database technologies, m...  \n",
       "2841     Indeed  [Data Engineer, NoSQL database technologies, m...  \n",
       "2842     Indeed  [Data Engineer, NoSQL database technologies, m...  \n",
       "2843     Indeed  [Data Engineer, NoSQL database technologies, m...  \n",
       "\n",
       "[2844 rows x 13 columns]"
      ]
     },
     "execution_count": 88,
     "metadata": {},
     "output_type": "execute_result"
    }
   ],
   "source": [
    "temp"
   ]
  },
  {
   "cell_type": "code",
   "execution_count": 91,
   "id": "5c60b10c",
   "metadata": {},
   "outputs": [
    {
     "data": {
      "text/plain": [
       "Job Title                                  Data Scientist - 05/12/21\n",
       "Company Name                          Acerta Analytics Solutions Inc\n",
       "Job Description    Acerta’s machine learning platforms leverage a...\n",
       "Location                                                   Kitchener\n",
       "Job Board                                                     Indeed\n",
       "skills                        [tensorflow, sklearn, operations data]\n",
       "Name: 1, dtype: object"
      ]
     },
     "execution_count": 91,
     "metadata": {},
     "output_type": "execute_result"
    }
   ],
   "source": [
    "df.iloc[1]"
   ]
  },
  {
   "cell_type": "code",
   "execution_count": 95,
   "id": "650f0fb6",
   "metadata": {},
   "outputs": [
    {
     "name": "stdout",
     "output_type": "stream",
     "text": [
      "Job Description:  Acerta’s machine learning platforms leverage automotive assembly and vehicle data to detect the earliest indicators of future product failures. We help automakers optimize quality  safety  and reliability throughout the entire product life cycle  from the assembly line to the finish line.  As an integral part of the data science team at Acerta  you will productize  deploy  maintain  and monitor machine learning models running behind Acerta’s LinePulse and AutoPulse products. Our LinePulse SaaS platform enables automakers to identify anomalies in production data for enhanced testing  accelerated root cause analysis  and improved manufacturing output. Acerta’s AutoPulse SaaS platform enables predictive maintenance of connected and autonomous vehicles based on production  maintenance  and on-road data.  Requirements: Minimum of 3 - 5 years of data science experience using python Strong ML and statistics background 2+ years of software development experience Experience with keras  tensorflow  and sklearn. Experience with time-series and operations data is an asset Previous Kaggle experience or similar is a plus Ability to work in a fast-paced agile environment Experience using Git in a team environment Flexibility to adjust to changing priorities  requirements  and schedules Familiarity with working on remote linux instances Available in office full-time (KW)  Responsibilities: Own significant product requirements and drive them from development to deployment Tune and monitor machine learning models deployed for customers. Research and apply state of the art in model interpretation and explainability Package development in Acerta’s Codebase  We thank all applicants for their interest  only those candidates selected for an interview will be contacted. Acerta is committed to fostering a diverse and inclusive workplace. We strongly encourage applicants from all backgrounds and walks of life.\n",
      "\n",
      "Job Skills:  ['tensorflow', 'sklearn', 'operations data']\n"
     ]
    }
   ],
   "source": [
    "print('Job Description: ', df.iloc[1]['Job Description'])\n",
    "print()\n",
    "print('Job Skills: ', df.iloc[1]['skills'])"
   ]
  },
  {
   "cell_type": "code",
   "execution_count": 97,
   "id": "f3e9d47d",
   "metadata": {},
   "outputs": [],
   "source": [
    "show_extraction(ads[1], extract_adp_conj_experience)"
   ]
  },
  {
   "cell_type": "code",
   "execution_count": 117,
   "id": "5f9ae53e",
   "metadata": {},
   "outputs": [
    {
     "data": {
      "text/html": [
       "<span class=\"tex2jax_ignore\"><div class=\"entities\" style=\"line-height: 2.5; direction: ltr\">Experience with \n",
       "<mark class=\"entity\" style=\"background: lightgreen; padding: 0.45em 0.6em; margin: 0 0.25em; line-height: 1; border-radius: 0.35em;\">\n",
       "    statistical analysis\n",
       "    <span style=\"font-size: 0.8em; font-weight: bold; line-height: 1; border-radius: 0.35em; vertical-align: middle; margin-left: 0.5rem\">EXPERIENCE</span>\n",
       "</mark>\n",
       ", numerical programming, or machine learning in Python</div></span>"
      ],
      "text/plain": [
       "<IPython.core.display.HTML object>"
      ]
     },
     "metadata": {},
     "output_type": "display_data"
    }
   ],
   "source": [
    "show_extraction(ads[1:2], extract_adp_experience_2)"
   ]
  },
  {
   "cell_type": "code",
   "execution_count": 116,
   "id": "33ccf733",
   "metadata": {},
   "outputs": [],
   "source": [
    "ads[1] = 'Experience with statistical analysis, numerical programming, or machine learning in Python'"
   ]
  },
  {
   "cell_type": "code",
   "execution_count": null,
   "id": "2cbf872b",
   "metadata": {},
   "outputs": [],
   "source": []
  }
 ],
 "metadata": {
  "kernelspec": {
   "display_name": "Python 3 (ipykernel)",
   "language": "python",
   "name": "python3"
  },
  "language_info": {
   "codemirror_mode": {
    "name": "ipython",
    "version": 3
   },
   "file_extension": ".py",
   "mimetype": "text/x-python",
   "name": "python",
   "nbconvert_exporter": "python",
   "pygments_lexer": "ipython3",
   "version": "3.10.0"
  }
 },
 "nbformat": 4,
 "nbformat_minor": 5
}
