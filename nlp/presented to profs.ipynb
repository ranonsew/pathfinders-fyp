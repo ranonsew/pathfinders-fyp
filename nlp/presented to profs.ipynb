{
 "cells": [
  {
   "cell_type": "code",
   "execution_count": 1,
   "id": "84880888",
   "metadata": {},
   "outputs": [],
   "source": [
    "# !pip install flashtext"
   ]
  },
  {
   "cell_type": "code",
   "execution_count": 2,
   "id": "1e9bf890",
   "metadata": {},
   "outputs": [],
   "source": [
    "# !python -m spacy download en_core_web_sm\n",
    "# !python -m spacy download en_core_web_lg"
   ]
  },
  {
   "cell_type": "code",
   "execution_count": 3,
   "id": "30977e86",
   "metadata": {},
   "outputs": [],
   "source": [
    "import pandas as pd\n",
    "from IPython.display import HTML, display\n",
    "\n",
    "import spacy\n",
    "from spacy.matcher import Matcher\n",
    "from spacy.util import filter_spans\n",
    "from spacy.tokens import Span\n",
    "from spacy import displacy\n",
    "import re"
   ]
  },
  {
   "cell_type": "code",
   "execution_count": 4,
   "id": "0c525b7c",
   "metadata": {},
   "outputs": [],
   "source": [
    "df = pd.read_csv('data_science_jobs.csv')\n",
    "df.drop(columns=['Unnamed: 0', 'Job Board', 'Location'], axis=1,  inplace=True)"
   ]
  },
  {
   "cell_type": "code",
   "execution_count": 5,
   "id": "3493f955",
   "metadata": {
    "scrolled": false
   },
   "outputs": [
    {
     "data": {
      "text/plain": [
       "Job Title          0\n",
       "Company Name       0\n",
       "Job Description    0\n",
       "dtype: int64"
      ]
     },
     "execution_count": 5,
     "metadata": {},
     "output_type": "execute_result"
    }
   ],
   "source": [
    "df.isna().sum()"
   ]
  },
  {
   "cell_type": "code",
   "execution_count": 6,
   "id": "4fb268a0",
   "metadata": {},
   "outputs": [
    {
     "name": "stdout",
     "output_type": "stream",
     "text": [
      "<class 'pandas.core.frame.DataFrame'>\n",
      "RangeIndex: 881 entries, 0 to 880\n",
      "Data columns (total 3 columns):\n",
      " #   Column           Non-Null Count  Dtype \n",
      "---  ------           --------------  ----- \n",
      " 0   Job Title        881 non-null    object\n",
      " 1   Company Name     881 non-null    object\n",
      " 2   Job Description  881 non-null    object\n",
      "dtypes: object(3)\n",
      "memory usage: 20.8+ KB\n"
     ]
    }
   ],
   "source": [
    "df.info()"
   ]
  },
  {
   "cell_type": "code",
   "execution_count": 7,
   "id": "7fff37cb",
   "metadata": {},
   "outputs": [],
   "source": [
    "description_list = list(df['Job Description'])"
   ]
  },
  {
   "cell_type": "code",
   "execution_count": 8,
   "id": "4d532a38",
   "metadata": {},
   "outputs": [],
   "source": [
    "spacy_model = spacy.load(\"en_core_web_sm\")"
   ]
  },
  {
   "cell_type": "markdown",
   "id": "2b00d270",
   "metadata": {},
   "source": [
    "# Finding sentences that contain the keyword"
   ]
  },
  {
   "cell_type": "code",
   "execution_count": 9,
   "id": "8a4fa4dc",
   "metadata": {},
   "outputs": [],
   "source": [
    "def highlight_terms(keyword, texts):\n",
    "    for doc in spacy_model.pipe(texts):\n",
    "        for sentence in set([word.sent for word in doc if word.lower_ in keyword]):\n",
    "            text = sentence.text.strip()\n",
    "            markup = re.sub(fr'(?i)\\b({\"|\".join(keyword)})\\b', r'<strong>\\1</strong>', text)\n",
    "            display(HTML(markup))"
   ]
  },
  {
   "cell_type": "code",
   "execution_count": 10,
   "id": "142c348d",
   "metadata": {},
   "outputs": [
    {
     "data": {
      "text/html": [
       "Requirements:\n",
       "\n",
       "3+ years in data scripting languages e.g Python\n",
       "Hands-on <strong>experience</strong> in the application of predictive modeling, artificial neural networks, time-series analysis, clustering and classification techniques, and other advanced analytical techniques\n",
       "<strong>Experience</strong> using CI/CD tools\n",
       "Good design and problem-solving skills and an ability to innovate and solve challenging technical problems\n",
       "Knowledge of the software development lifecycle and Agile methodologies\n",
       "Excellent organization and time management skills"
      ],
      "text/plain": [
       "<IPython.core.display.HTML object>"
      ]
     },
     "metadata": {},
     "output_type": "display_data"
    },
    {
     "data": {
      "text/html": [
       "The successful candidate will work closely with the product and engineering team to translate technological and customer requirements into valuable features that ensure a great user <strong>experience</strong>."
      ],
      "text/plain": [
       "<IPython.core.display.HTML object>"
      ]
     },
     "metadata": {},
     "output_type": "display_data"
    },
    {
     "data": {
      "text/html": [
       "<strong>Experience</strong> with time-series and operations data is an asset\n",
       "Previous Kaggle <strong>experience</strong> or similar is a plus\n",
       "Ability to work in a fast-paced agile environment\n",
       "<strong>Experience</strong> using Git in a team environment\n",
       "Flexibility to adjust to changing priorities, requirements, and schedules\n",
       "Familiarity with working on remote linux instances\n",
       "Available in office full-time (KW)\n",
       "\n",
       "Responsibilities:\n",
       "Own significant product requirements and drive them from development to deployment\n",
       "Tune and monitor machine learning models deployed for customers."
      ],
      "text/plain": [
       "<IPython.core.display.HTML object>"
      ]
     },
     "metadata": {},
     "output_type": "display_data"
    },
    {
     "data": {
      "text/html": [
       "Requirements:\n",
       "Minimum of 3 - 5 years of data science <strong>experience</strong> using python\n",
       "Strong ML and statistics background\n",
       "2+ years of software development <strong>experience</strong>\n",
       "<strong>Experience</strong> with keras, tensorflow, and sklearn."
      ],
      "text/plain": [
       "<IPython.core.display.HTML object>"
      ]
     },
     "metadata": {},
     "output_type": "display_data"
    },
    {
     "data": {
      "text/html": [
       "In our mission to be the BEST combined Live and Digital fitness <strong>experience</strong>, data plays a significant role in empowering a more personalized and informed suite of digital services."
      ],
      "text/plain": [
       "<IPython.core.display.HTML object>"
      ]
     },
     "metadata": {},
     "output_type": "display_data"
    },
    {
     "data": {
      "text/html": [
       "Do you have what it takes?\n",
       "\n",
       "Bachelor’s degree in Computer Science, Software Engineering or equivalent\n",
       "5+ years’ <strong>experience</strong> in ETL/data modeling, building scalable and reliable data pipelines, architecting data stores, supporting complex ETL processes including SLA, performance measurements, and monitoring\n",
       "Hands-on <strong>experience</strong> with leading Cloud platforms, including Azure Cloud Data Solutions and AWS\n",
       "<strong>Experience</strong> with Informatica IICS and Snowflake considered a strong asset\n",
       "<strong>Experience</strong> with message queues, batch and stream processing\n",
       "Excellent SQL skills and <strong>experience</strong> in a DevOps environment\n",
       "<strong>Experience</strong> with Agile development methodologies\n",
       "Detail oriented: high standard of data quality and integrity\n",
       "Familiarity with NoSQL databases like MongoDB is nice to have\n",
       "Adaptable to a fast-paced environment and able to pivot quickly to align with changing priorities\n",
       "Strong people skills; team player; excellent oral and written communication skills\n",
       "Strong analytical and problem-solving skills; Able to multi-task\n",
       "Committed to contributing to a culture that celebrates diversity, equity and inclusion and embraces social and environmental responsibility\n",
       "\n",
       "What's in it for you?"
      ],
      "text/plain": [
       "<IPython.core.display.HTML object>"
      ]
     },
     "metadata": {},
     "output_type": "display_data"
    },
    {
     "data": {
      "text/html": [
       "Equivalent combination of education, training and <strong>experience</strong>."
      ],
      "text/plain": [
       "<IPython.core.display.HTML object>"
      ]
     },
     "metadata": {},
     "output_type": "display_data"
    },
    {
     "data": {
      "text/html": [
       "Qualifications\n",
       "High School Diploma or equivalent Req\n",
       "1 to 2 years’ relevant work <strong>experience</strong>."
      ],
      "text/plain": [
       "<IPython.core.display.HTML object>"
      ]
     },
     "metadata": {},
     "output_type": "display_data"
    },
    {
     "data": {
      "text/html": [
       "Collaborate with other groups worldwide to assist in product design, business strategy and user <strong>experience</strong> research, etc.\n",
       "Be constantly challenged to learn and grow with new technologies, identify and solve complex problems via data\n",
       "\n",
       "Skills and Qualifications\n",
       "\n",
       "5+ years of <strong>experience</strong> in big data engineering\n",
       "Have deep understanding on data engineering principles\n",
       "Hands-on <strong>experience</strong> of large scale and high availability systems\n",
       "Strong knowledge of SQL (MySQL, PostgreSQL) and preferably <strong>experience</strong> with NoSQL databases\n",
       "Proficient in at least one programming language and scripting languages (bash, Python, etc.)"
      ],
      "text/plain": [
       "<IPython.core.display.HTML object>"
      ]
     },
     "metadata": {},
     "output_type": "display_data"
    },
    {
     "data": {
      "text/html": [
       "<strong>Experience</strong> with various AWS services (EC2, S3, AWS CLI, Lambda, Kinesis Firehose, Redshift etc.)\n",
       "Hadoop ecosystem knowledge (Hadoop, Spark, Kafka, Hive, Pig, Sqoop, etc.)\n",
       "BS or MS in Computer Science or equivalent <strong>experience</strong>\n",
       "\n",
       "Bonus Skills\n",
       "\n",
       "<strong>Experience</strong> with Ariflow, EKS, EMR, Redshift, OLAP\n",
       "<strong>Experience</strong> with Git and CircleCI\n",
       "DevOps skills: create build & install scripts, terraform, UNIX-based systems management, release management, production monitoring, etc."
      ],
      "text/plain": [
       "<IPython.core.display.HTML object>"
      ]
     },
     "metadata": {},
     "output_type": "display_data"
    },
    {
     "data": {
      "text/html": [
       "We help insurers fully automate more claims, deliver a great customer <strong>experience</strong> while protecting against risk and accurately identifying suspected fraud, making internal teams more effective and improving financial performance."
      ],
      "text/plain": [
       "<IPython.core.display.HTML object>"
      ]
     },
     "metadata": {},
     "output_type": "display_data"
    },
    {
     "data": {
      "text/html": [
       "Shift Technology offers a unique opportunity to brilliant candidates to accelerate their careers in data science\n",
       "\n",
       "Data scientists work on a broad range of subjects, acquiring a lot of technical and professional <strong>experience</strong> in data science, data engineering, coding, business understanding and client interactions; skills invaluable in any career."
      ],
      "text/plain": [
       "<IPython.core.display.HTML object>"
      ]
     },
     "metadata": {},
     "output_type": "display_data"
    },
    {
     "data": {
      "text/html": [
       "Your 8 years of <strong>experience</strong> in the field of advanced statistics, data mining and text mining\n",
       "Strong communication, time management, great teamworking and organization skills\n",
       "Expert-level understanding of the underlying theory of machine learning\n",
       "Expert-level understanding in either computer image analysis, natural language processing or artificial intelligence\n",
       "A multi-platform production <strong>experience</strong> with commercial and open-source data mining frameworks like Python, R, GitHub, etc."
      ],
      "text/plain": [
       "<IPython.core.display.HTML object>"
      ]
     },
     "metadata": {},
     "output_type": "display_data"
    },
    {
     "data": {
      "text/html": [
       "At the Intact Lab, we use machine learning, data science, software engineering, AI, agility, UX and design thinking to transform the customer <strong>experience</strong> for millions of Canadians."
      ],
      "text/plain": [
       "<IPython.core.display.HTML object>"
      ]
     },
     "metadata": {},
     "output_type": "display_data"
    },
    {
     "data": {
      "text/html": [
       "Nice to have:\n",
       "\n",
       "<strong>Experience</strong> with Python."
      ],
      "text/plain": [
       "<IPython.core.display.HTML object>"
      ]
     },
     "metadata": {},
     "output_type": "display_data"
    },
    {
     "data": {
      "text/html": [
       "Hands on data extraction and analytical <strong>experience</strong> with SQL, Google Firebase, Metabase and Tableau."
      ],
      "text/plain": [
       "<IPython.core.display.HTML object>"
      ]
     },
     "metadata": {},
     "output_type": "display_data"
    },
    {
     "data": {
      "text/html": [
       "Proven ability to think big picture strategy AND roll-up-your sleeves to deliver.\n",
       "Demonstrated <strong>experience</strong> in building or delivering data store/warehouse solutions using ML, NLP, etc.\n",
       "Excellent communication skills and ability to explain learnings to both technical and non-technical partners."
      ],
      "text/plain": [
       "<IPython.core.display.HTML object>"
      ]
     },
     "metadata": {},
     "output_type": "display_data"
    },
    {
     "data": {
      "text/html": [
       "SaaS or cloud-based app product <strong>experience</strong>."
      ],
      "text/plain": [
       "<IPython.core.display.HTML object>"
      ]
     },
     "metadata": {},
     "output_type": "display_data"
    },
    {
     "data": {
      "text/html": [
       "What we’re looking for:\n",
       "\n",
       "Degree in Computer Science or equivalent with 5+ years of data analysis and product management <strong>experience</strong>."
      ],
      "text/plain": [
       "<IPython.core.display.HTML object>"
      ]
     },
     "metadata": {},
     "output_type": "display_data"
    },
    {
     "data": {
      "text/html": [
       "They understand the technical aspects of data engineering and analysis but are focused on what the data is saying and how we can use it to provide a more personalized and targeted <strong>experience</strong> for our customers."
      ],
      "text/plain": [
       "<IPython.core.display.HTML object>"
      ]
     },
     "metadata": {},
     "output_type": "display_data"
    },
    {
     "data": {
      "text/html": [
       "Operational Efficiencies: Analyze data and developer feedback to understand needs, reduce time to onboard and build on the platform, and improve overall stakeholder <strong>experience</strong>."
      ],
      "text/plain": [
       "<IPython.core.display.HTML object>"
      ]
     },
     "metadata": {},
     "output_type": "display_data"
    },
    {
     "data": {
      "text/html": [
       "<strong>Experience</strong> and success in both small startup environments and large matrix organizations."
      ],
      "text/plain": [
       "<IPython.core.display.HTML object>"
      ]
     },
     "metadata": {},
     "output_type": "display_data"
    },
    {
     "data": {
      "text/html": [
       "<strong>Experience</strong> working with large financial institutions."
      ],
      "text/plain": [
       "<IPython.core.display.HTML object>"
      ]
     },
     "metadata": {},
     "output_type": "display_data"
    },
    {
     "data": {
      "text/html": [
       "<strong>Experience</strong> exploring new capabilities and technologies to drive innovation."
      ],
      "text/plain": [
       "<IPython.core.display.HTML object>"
      ]
     },
     "metadata": {},
     "output_type": "display_data"
    },
    {
     "data": {
      "text/html": [
       "<strong>Experience</strong> with the Salesforce tech, i.e., marketing cloud, Pardot, Einstein\n",
       "Data Science / Modeling <strong>experience</strong> or working in a Data Science team\n",
       "\n",
       "Contract would be until 31st Dec 2021,with a high possibility of extension."
      ],
      "text/plain": [
       "<IPython.core.display.HTML object>"
      ]
     },
     "metadata": {},
     "output_type": "display_data"
    },
    {
     "data": {
      "text/html": [
       "You have advanced working SQL knowledge and <strong>experience</strong> working with relational databases, query authoring (SQL) as well as working familiarity with a variety of databases\n",
       "You are recognized for your curiosity and growth mindset\n",
       "You see the bigger picture of the problem you are trying to solve, and will proactively out new data points from varied sources (external and internal) to complement your analysis\n",
       "You have excellent attention to detail, a structured approach to analysis and the ability to develop logical arguments\n",
       "You have minimum 4-7 years of <strong>experience</strong> in a similar role and/or related education with demonstrated performance\n",
       "\n",
       "Great-to-haves\n",
       "\n",
       "Prior telecommunications expertise\n",
       "Python <strong>experience</strong>\n",
       "Hive, Spark, NiFi <strong>experience</strong>\n",
       "B2B marketing\n",
       "<strong>Experience</strong> with cloud (GCP AWS or Azure)"
      ],
      "text/plain": [
       "<IPython.core.display.HTML object>"
      ]
     },
     "metadata": {},
     "output_type": "display_data"
    },
    {
     "data": {
      "text/html": [
       "We love to turn data into stories - stories about money falling through the cracks, success stories about our products and services, but most importantly stories about our customers and how we can enhance their <strong>experience</strong>."
      ],
      "text/plain": [
       "<IPython.core.display.HTML object>"
      ]
     },
     "metadata": {},
     "output_type": "display_data"
    },
    {
     "data": {
      "text/html": [
       "Type: Contract / Permanent\n",
       "Location: Toronto\n",
       "\n",
       "Requirements\n",
       "\n",
       "Must-have:\n",
       "\n",
       "4-6 years of <strong>experience</strong> with data engineering skills\n",
       "4-6 years of hands on <strong>experience</strong> with SQL, Shell Scripting and Python (TensorFlow, Pandas, Numpy, Keras)\n",
       "4-6 years of hands on <strong>experience</strong> ingesting data using APIs\n",
       "4-6 years of hands on <strong>experience</strong> with BI tools / Big data technologies like Hadoop, Spark, Scala\n",
       "\n",
       "Nice-to-Have:\n",
       "\n",
       "Knowledge of Dialogflow ES and CX APIs, BigQuery, Google Cloud Data Loss Prevention, DataFlow\n",
       "\n",
       "For immediate consideration, please apply as soon as possible to this posting by submitting your Resume along with your Availability Date\n",
       "\n",
       "Referrals are more than welcome!"
      ],
      "text/plain": [
       "<IPython.core.display.HTML object>"
      ]
     },
     "metadata": {},
     "output_type": "display_data"
    },
    {
     "data": {
      "text/html": [
       "Contract length: 4 months\n",
       "\n",
       "Job Types: Full-time, Contract\n",
       "\n",
       "Salary: $65.00-$75.00 per hour\n",
       "\n",
       "Benefits:\n",
       "\n",
       "Work from home\n",
       "\n",
       "Schedule:\n",
       "\n",
       "Monday to Friday\n",
       "\n",
       "<strong>Experience</strong>:\n",
       "\n",
       "data engineering: 4 years (required)\n",
       "SQL, Shell Scripting and Python: 4 years (required)\n",
       "ingesting data using APIs: 4 years (required)\n",
       "BI tools / Big data technologies (Hadoop, Spark, Scala): 4 years (required)\n",
       "Dialogflow ES and CX APIs, BigQuery, DataFlow: 1 year (preferred)\n",
       "\n",
       "Work remotely:"
      ],
      "text/plain": [
       "<IPython.core.display.HTML object>"
      ]
     },
     "metadata": {},
     "output_type": "display_data"
    }
   ],
   "source": [
    "highlight_terms(['experience'], description_list[:10])"
   ]
  },
  {
   "cell_type": "code",
   "execution_count": 11,
   "id": "f949c7f7",
   "metadata": {
    "scrolled": true
   },
   "outputs": [
    {
     "data": {
      "text/html": [
       "Collaborate with other groups worldwide to assist in product design, business strategy and user experience research, etc.\n",
       "Be constantly challenged to learn and grow with new technologies, identify and solve complex problems via data\n",
       "\n",
       "Skills and Qualifications\n",
       "\n",
       "5+ years of experience in big data engineering\n",
       "Have deep understanding on data engineering principles\n",
       "Hands-on experience of large scale and high availability systems\n",
       "Strong knowledge of SQL (MySQL, PostgreSQL) and preferably experience with NoSQL databases\n",
       "<strong>Proficient</strong> in at least one programming language and scripting languages (bash, Python, etc.)"
      ],
      "text/plain": [
       "<IPython.core.display.HTML object>"
      ]
     },
     "metadata": {},
     "output_type": "display_data"
    }
   ],
   "source": [
    "highlight_terms(['proficient'], description_list[:10])"
   ]
  },
  {
   "cell_type": "markdown",
   "id": "f9f53151",
   "metadata": {},
   "source": [
    "# POS"
   ]
  },
  {
   "cell_type": "code",
   "execution_count": 12,
   "id": "38561725",
   "metadata": {},
   "outputs": [],
   "source": [
    "matcher = Matcher(spacy_model.vocab)\n",
    "pattern = [{'POS': 'NOUN', 'OP': '+'}, {'LOWER': 'experience'}]\n",
    "matcher.add('experience_noun', [pattern])\n",
    "\n",
    "pattern = [{'LOWER': 'experience'}, {'POS': 'ADP'}, {'POS': {'IN': ('DET', 'NOUN', 'PROPN')}, 'OP': '+'}]\n",
    "matcher.add('experience_adp', [pattern])"
   ]
  },
  {
   "cell_type": "code",
   "execution_count": 90,
   "id": "71cb8433",
   "metadata": {},
   "outputs": [],
   "source": [
    "def show_extraction(examples, *extractors):\n",
    "    seen = set()\n",
    "    for doc in spacy_model.pipe(examples):\n",
    "        doc.ents = filter_spans([Span(doc, start, end, label) for extractor in extractors for label, start, end in extractor(doc)])\n",
    "        for tok in doc:\n",
    "            if tok.lower_ == 'experience':\n",
    "                sentence = tok.sent\n",
    "                if sentence.text in seen:\n",
    "                    continue\n",
    "                seen.update([sentence.text])\n",
    "                if not sentence.ents:\n",
    "                    doc.ents = list(doc.ents) + [Span(doc, tok.i, tok.i+1, 'MISSING')]\n",
    "                displacy.render(sentence, style='ent', options = {'colors': {'MISSING': 'pink',\n",
    "                                                                            'EXPERIENCE': 'lightgreen'}})\n",
    "                \n",
    "\n",
    "def get_extractions(documents, *extractors): \n",
    "    for idx, desc in enumerate(spacy_model.pipe(documents, batch_size=100, disable=['ner'])): \n",
    "        for ent in [Span(desc, start, end, label) for extractor in extractors for label, start, end in extractor(desc)]:\n",
    "            sent = ent.root.sent\n",
    "            yield ent.text, idx, ent.start, ent.end, ent.label_, sent.start, sent.end\n",
    "                            \n",
    "def get_left_span(word, label='', include=True):\n",
    "    offset = 1 if include else 0\n",
    "    idx = word.i\n",
    "    while idx > word.left_edge.i:\n",
    "        if word.doc[idx - 1].pos_ in ('NOUN', 'PROPN', 'ADJ', 'X'):\n",
    "            idx -= 1\n",
    "        else:\n",
    "            break\n",
    "    return label, idx, word.i+offset\n",
    "\n",
    "\n",
    "def get_conjugations(word):\n",
    "    new = [word]\n",
    "    while new:\n",
    "        word = new.pop()\n",
    "        yield word\n",
    "        for child in word.children:\n",
    "            if child.dep_ == 'conj':\n",
    "                new.append(child)\n",
    "                             \n",
    "def extract_verb_maybeadj_noun_experience(doc, label='EXPERIENCE'):\n",
    "    for word in doc:\n",
    "        if word.lower_ in EXP_TERMS:\n",
    "            for child in word.rights:\n",
    "                if child.dep_ == 'acl':\n",
    "                    for word_child in child.children:\n",
    "                        if word_child.dep_ == 'prep':\n",
    "                            for word_child2 in word_child.children:\n",
    "                                if word_child2.dep_ == 'pobj':\n",
    "                                    for c in get_conjugations(word_child2):\n",
    "                                        yield get_left_span(c, 'EXPERIENCE')\n",
    "                        elif word_child.dep_ == 'dobj':\n",
    "                            for c in get_conjugations(word_child):\n",
    "                                yield get_left_span(c, 'EXPERIENCE')\n",
    "\n",
    "def extract_noun_phrase_experience(doc):\n",
    "    for np in doc.noun_chunks:\n",
    "        if np[-1].lower_ == 'experience':\n",
    "            if len(np) > 1:\n",
    "                yield 'EXPERIENCE', np[0].i, np[-1].i\n",
    "                                                \n",
    "def extract_verb_adj_noun(doc, label): \n",
    "    for word in doc: \n",
    "    "
   ]
  },
  {
   "cell_type": "code",
   "execution_count": 91,
   "id": "96d3edbd",
   "metadata": {},
   "outputs": [
    {
     "data": {
      "text/html": [
       "<span class=\"tex2jax_ignore\"><div class=\"entities\" style=\"line-height: 2.5; direction: ltr\">Once you join the Global Quality team, you will realize you are part of a family of global, professional and motivated team members working to ensure a well rounded customer \n",
       "<mark class=\"entity\" style=\"background: pink; padding: 0.45em 0.6em; margin: 0 0.25em; line-height: 1; border-radius: 0.35em;\">\n",
       "    experience\n",
       "    <span style=\"font-size: 0.8em; font-weight: bold; line-height: 1; border-radius: 0.35em; vertical-align: middle; margin-left: 0.5rem\">MISSING</span>\n",
       "</mark>\n",
       " via data driven decisions.. </div></span>"
      ],
      "text/plain": [
       "<IPython.core.display.HTML object>"
      ]
     },
     "metadata": {},
     "output_type": "display_data"
    },
    {
     "data": {
      "text/html": [
       "<span class=\"tex2jax_ignore\"><div class=\"entities\" style=\"line-height: 2.5; direction: ltr\">Your \n",
       "<mark class=\"entity\" style=\"background: pink; padding: 0.45em 0.6em; margin: 0 0.25em; line-height: 1; border-radius: 0.35em;\">\n",
       "    Experience\n",
       "    <span style=\"font-size: 0.8em; font-weight: bold; line-height: 1; border-radius: 0.35em; vertical-align: middle; margin-left: 0.5rem\">MISSING</span>\n",
       "</mark>\n",
       " Includes. </div></span>"
      ],
      "text/plain": [
       "<IPython.core.display.HTML object>"
      ]
     },
     "metadata": {},
     "output_type": "display_data"
    },
    {
     "data": {
      "text/html": [
       "<span class=\"tex2jax_ignore\"><div class=\"entities\" style=\"line-height: 2.5; direction: ltr\">Web development \n",
       "<mark class=\"entity\" style=\"background: pink; padding: 0.45em 0.6em; margin: 0 0.25em; line-height: 1; border-radius: 0.35em;\">\n",
       "    experience\n",
       "    <span style=\"font-size: 0.8em; font-weight: bold; line-height: 1; border-radius: 0.35em; vertical-align: middle; margin-left: 0.5rem\">MISSING</span>\n",
       "</mark>\n",
       ". </div></span>"
      ],
      "text/plain": [
       "<IPython.core.display.HTML object>"
      ]
     },
     "metadata": {},
     "output_type": "display_data"
    },
    {
     "data": {
      "text/html": [
       "<span class=\"tex2jax_ignore\"><div class=\"entities\" style=\"line-height: 2.5; direction: ltr\">Angular framework \n",
       "<mark class=\"entity\" style=\"background: pink; padding: 0.45em 0.6em; margin: 0 0.25em; line-height: 1; border-radius: 0.35em;\">\n",
       "    experience\n",
       "    <span style=\"font-size: 0.8em; font-weight: bold; line-height: 1; border-radius: 0.35em; vertical-align: middle; margin-left: 0.5rem\">MISSING</span>\n",
       "</mark>\n",
       " will be an advantage. </div></span>"
      ],
      "text/plain": [
       "<IPython.core.display.HTML object>"
      ]
     },
     "metadata": {},
     "output_type": "display_data"
    },
    {
     "data": {
      "text/html": [
       "<span class=\"tex2jax_ignore\"><div class=\"entities\" style=\"line-height: 2.5; direction: ltr\">Experience working with \n",
       "<mark class=\"entity\" style=\"background: lightgreen; padding: 0.45em 0.6em; margin: 0 0.25em; line-height: 1; border-radius: 0.35em;\">\n",
       "    Linux environments\n",
       "    <span style=\"font-size: 0.8em; font-weight: bold; line-height: 1; border-radius: 0.35em; vertical-align: middle; margin-left: 0.5rem\">EXPERIENCE</span>\n",
       "</mark>\n",
       " and \n",
       "<mark class=\"entity\" style=\"background: lightgreen; padding: 0.45em 0.6em; margin: 0 0.25em; line-height: 1; border-radius: 0.35em;\">\n",
       "    dockers\n",
       "    <span style=\"font-size: 0.8em; font-weight: bold; line-height: 1; border-radius: 0.35em; vertical-align: middle; margin-left: 0.5rem\">EXPERIENCE</span>\n",
       "</mark>\n",
       " will be an advantage. </div></span>"
      ],
      "text/plain": [
       "<IPython.core.display.HTML object>"
      ]
     },
     "metadata": {},
     "output_type": "display_data"
    }
   ],
   "source": [
    "show_extraction(s2, extract_verb_maybeadj_noun_experience)"
   ]
  },
  {
   "cell_type": "code",
   "execution_count": 15,
   "id": "b33510a2",
   "metadata": {},
   "outputs": [
    {
     "data": {
      "text/plain": [
       "'\\\\b(?:previous|prior|following|recent|the above|past|proven|demonstrable|demonstrated|relevant|significant|practical|essential|equivalent|desirable|required|considerable|similar|working|specific|qualified|direct|hands on|handson|hands-onstrong|solid|good|substantial|excellent|the right|valuable|invaluable|some|any|none|much|extensive|no|more|your|their|great|years|months)\\\\b'"
      ]
     },
     "execution_count": 15,
     "metadata": {},
     "output_type": "execute_result"
    }
   ],
   "source": [
    "experience_qualifiers = ['previous', 'prior', 'following', 'recent', 'the above', 'past',\n",
    "                         \n",
    "                         'proven', 'demonstrable', 'demonstrated', 'relevant', 'significant', 'practical',\n",
    "                         'essential', 'equivalent', 'desirable', 'required', 'considerable', 'similar',\n",
    "                         'working', 'specific', 'qualified', 'direct', 'hands on', 'handson', 'hands-on'\n",
    "                         \n",
    "                         'strong', 'solid', 'good', 'substantial', 'excellent', 'the right', 'valuable', 'invaluable',\n",
    "                         \n",
    "                         'some', 'any', 'none', 'much', 'extensive', 'no', 'more',\n",
    "                         'your', 'their', 'great',\n",
    "                         'years', 'months',\n",
    "                        ]\n",
    "\n",
    "stopwords = ['a', 'an', '*', '**', '.', 'this', 'the', ':', 'Skills']\n",
    "\n",
    "experience_qualifier_pattern = rf'\\b(?:{\"|\".join(experience_qualifiers)})\\b'\n",
    "\n",
    "experience_qualifier_pattern"
   ]
  },
  {
   "cell_type": "code",
   "execution_count": 49,
   "id": "20114918",
   "metadata": {},
   "outputs": [
    {
     "data": {
      "text/plain": [
       "[]"
      ]
     },
     "execution_count": 49,
     "metadata": {},
     "output_type": "execute_result"
    }
   ],
   "source": [
    "list(get_extractions(s2[0], matcher))"
   ]
  },
  {
   "cell_type": "code",
   "execution_count": 54,
   "id": "8796af0d",
   "metadata": {},
   "outputs": [],
   "source": [
    "EXP_TERMS = ['experience']"
   ]
  },
  {
   "cell_type": "code",
   "execution_count": 41,
   "id": "c4182b2a",
   "metadata": {},
   "outputs": [],
   "source": [
    "s2= [\"Once you join the Global Quality team, you will realize you are part of a family of global, professional and motivated team members working to ensure a well rounded customer experience via data driven decisions.. About The Role - You Will. Understand data management infrastructure and pipeline. Understand agile software development process. Join the building and deployment of analytic infrastructure in Linux environment. Join the development of reporting and analytic tools as well as work with data from Hadoop clusters. Will have the opportunity to present work to a wider audience and hone soft skills as opposed to only technical skills. Be involved in the design decision-making process as well as data strategy formulation and bring to the table fresh perspective and ideas. About You. Willing to learn – technical as well as soft skills. Passionate about teamwork and able to deliver in a fast-paced environment. Your Experience Includes. Web development experience. Angular framework experience will be an advantage. Proficient in C, C++ and/or Python . Proficient in SQL/Postgresql. Experience working with Linux environments and dockers will be an advantage. Been a part of projects following Agile software development process\"]"
   ]
  },
  {
   "cell_type": "code",
   "execution_count": 92,
   "id": "7b3c34a2",
   "metadata": {
    "scrolled": false
   },
   "outputs": [
    {
     "data": {
      "text/html": [
       "<span class=\"tex2jax_ignore\"><div class=\"entities\" style=\"line-height: 2.5; direction: ltr\">Once you join the Global Quality team, you will realize you are part of a family of global, professional and motivated team members working to ensure \n",
       "<mark class=\"entity\" style=\"background: lightgreen; padding: 0.45em 0.6em; margin: 0 0.25em; line-height: 1; border-radius: 0.35em;\">\n",
       "    a well rounded customer\n",
       "    <span style=\"font-size: 0.8em; font-weight: bold; line-height: 1; border-radius: 0.35em; vertical-align: middle; margin-left: 0.5rem\">EXPERIENCE</span>\n",
       "</mark>\n",
       " experience via data driven decisions.. </div></span>"
      ],
      "text/plain": [
       "<IPython.core.display.HTML object>"
      ]
     },
     "metadata": {},
     "output_type": "display_data"
    },
    {
     "data": {
      "text/html": [
       "<span class=\"tex2jax_ignore\"><div class=\"entities\" style=\"line-height: 2.5; direction: ltr\">\n",
       "<mark class=\"entity\" style=\"background: lightgreen; padding: 0.45em 0.6em; margin: 0 0.25em; line-height: 1; border-radius: 0.35em;\">\n",
       "    Your\n",
       "    <span style=\"font-size: 0.8em; font-weight: bold; line-height: 1; border-radius: 0.35em; vertical-align: middle; margin-left: 0.5rem\">EXPERIENCE</span>\n",
       "</mark>\n",
       " Experience Includes. </div></span>"
      ],
      "text/plain": [
       "<IPython.core.display.HTML object>"
      ]
     },
     "metadata": {},
     "output_type": "display_data"
    },
    {
     "data": {
      "text/html": [
       "<span class=\"tex2jax_ignore\"><div class=\"entities\" style=\"line-height: 2.5; direction: ltr\">\n",
       "<mark class=\"entity\" style=\"background: lightgreen; padding: 0.45em 0.6em; margin: 0 0.25em; line-height: 1; border-radius: 0.35em;\">\n",
       "    Web development\n",
       "    <span style=\"font-size: 0.8em; font-weight: bold; line-height: 1; border-radius: 0.35em; vertical-align: middle; margin-left: 0.5rem\">EXPERIENCE</span>\n",
       "</mark>\n",
       " experience. </div></span>"
      ],
      "text/plain": [
       "<IPython.core.display.HTML object>"
      ]
     },
     "metadata": {},
     "output_type": "display_data"
    },
    {
     "data": {
      "text/html": [
       "<span class=\"tex2jax_ignore\"><div class=\"entities\" style=\"line-height: 2.5; direction: ltr\">\n",
       "<mark class=\"entity\" style=\"background: lightgreen; padding: 0.45em 0.6em; margin: 0 0.25em; line-height: 1; border-radius: 0.35em;\">\n",
       "    Angular framework\n",
       "    <span style=\"font-size: 0.8em; font-weight: bold; line-height: 1; border-radius: 0.35em; vertical-align: middle; margin-left: 0.5rem\">EXPERIENCE</span>\n",
       "</mark>\n",
       " experience will be an advantage. </div></span>"
      ],
      "text/plain": [
       "<IPython.core.display.HTML object>"
      ]
     },
     "metadata": {},
     "output_type": "display_data"
    },
    {
     "data": {
      "text/html": [
       "<span class=\"tex2jax_ignore\"><div class=\"entities\" style=\"line-height: 2.5; direction: ltr\">\n",
       "<mark class=\"entity\" style=\"background: pink; padding: 0.45em 0.6em; margin: 0 0.25em; line-height: 1; border-radius: 0.35em;\">\n",
       "    Experience\n",
       "    <span style=\"font-size: 0.8em; font-weight: bold; line-height: 1; border-radius: 0.35em; vertical-align: middle; margin-left: 0.5rem\">MISSING</span>\n",
       "</mark>\n",
       " working with Linux environments and dockers will be an advantage. </div></span>"
      ],
      "text/plain": [
       "<IPython.core.display.HTML object>"
      ]
     },
     "metadata": {},
     "output_type": "display_data"
    },
    {
     "name": "stdout",
     "output_type": "stream",
     "text": [
      "---\n"
     ]
    },
    {
     "data": {
      "text/html": [
       "<span class=\"tex2jax_ignore\"><div class=\"entities\" style=\"line-height: 2.5; direction: ltr\">Once you join the Global Quality team, you will realize you are part of a family of global, professional and motivated team members working to ensure a well rounded customer \n",
       "<mark class=\"entity\" style=\"background: pink; padding: 0.45em 0.6em; margin: 0 0.25em; line-height: 1; border-radius: 0.35em;\">\n",
       "    experience\n",
       "    <span style=\"font-size: 0.8em; font-weight: bold; line-height: 1; border-radius: 0.35em; vertical-align: middle; margin-left: 0.5rem\">MISSING</span>\n",
       "</mark>\n",
       " via data driven decisions.. </div></span>"
      ],
      "text/plain": [
       "<IPython.core.display.HTML object>"
      ]
     },
     "metadata": {},
     "output_type": "display_data"
    },
    {
     "data": {
      "text/html": [
       "<span class=\"tex2jax_ignore\"><div class=\"entities\" style=\"line-height: 2.5; direction: ltr\">Your \n",
       "<mark class=\"entity\" style=\"background: pink; padding: 0.45em 0.6em; margin: 0 0.25em; line-height: 1; border-radius: 0.35em;\">\n",
       "    Experience\n",
       "    <span style=\"font-size: 0.8em; font-weight: bold; line-height: 1; border-radius: 0.35em; vertical-align: middle; margin-left: 0.5rem\">MISSING</span>\n",
       "</mark>\n",
       " Includes. </div></span>"
      ],
      "text/plain": [
       "<IPython.core.display.HTML object>"
      ]
     },
     "metadata": {},
     "output_type": "display_data"
    },
    {
     "data": {
      "text/html": [
       "<span class=\"tex2jax_ignore\"><div class=\"entities\" style=\"line-height: 2.5; direction: ltr\">Web development \n",
       "<mark class=\"entity\" style=\"background: pink; padding: 0.45em 0.6em; margin: 0 0.25em; line-height: 1; border-radius: 0.35em;\">\n",
       "    experience\n",
       "    <span style=\"font-size: 0.8em; font-weight: bold; line-height: 1; border-radius: 0.35em; vertical-align: middle; margin-left: 0.5rem\">MISSING</span>\n",
       "</mark>\n",
       ". </div></span>"
      ],
      "text/plain": [
       "<IPython.core.display.HTML object>"
      ]
     },
     "metadata": {},
     "output_type": "display_data"
    },
    {
     "data": {
      "text/html": [
       "<span class=\"tex2jax_ignore\"><div class=\"entities\" style=\"line-height: 2.5; direction: ltr\">Angular framework \n",
       "<mark class=\"entity\" style=\"background: pink; padding: 0.45em 0.6em; margin: 0 0.25em; line-height: 1; border-radius: 0.35em;\">\n",
       "    experience\n",
       "    <span style=\"font-size: 0.8em; font-weight: bold; line-height: 1; border-radius: 0.35em; vertical-align: middle; margin-left: 0.5rem\">MISSING</span>\n",
       "</mark>\n",
       " will be an advantage. </div></span>"
      ],
      "text/plain": [
       "<IPython.core.display.HTML object>"
      ]
     },
     "metadata": {},
     "output_type": "display_data"
    },
    {
     "data": {
      "text/html": [
       "<span class=\"tex2jax_ignore\"><div class=\"entities\" style=\"line-height: 2.5; direction: ltr\">Experience working with \n",
       "<mark class=\"entity\" style=\"background: lightgreen; padding: 0.45em 0.6em; margin: 0 0.25em; line-height: 1; border-radius: 0.35em;\">\n",
       "    Linux environments\n",
       "    <span style=\"font-size: 0.8em; font-weight: bold; line-height: 1; border-radius: 0.35em; vertical-align: middle; margin-left: 0.5rem\">EXPERIENCE</span>\n",
       "</mark>\n",
       " and \n",
       "<mark class=\"entity\" style=\"background: lightgreen; padding: 0.45em 0.6em; margin: 0 0.25em; line-height: 1; border-radius: 0.35em;\">\n",
       "    dockers\n",
       "    <span style=\"font-size: 0.8em; font-weight: bold; line-height: 1; border-radius: 0.35em; vertical-align: middle; margin-left: 0.5rem\">EXPERIENCE</span>\n",
       "</mark>\n",
       " will be an advantage. </div></span>"
      ],
      "text/plain": [
       "<IPython.core.display.HTML object>"
      ]
     },
     "metadata": {},
     "output_type": "display_data"
    }
   ],
   "source": [
    "show_extraction(s2, extract_noun_phrase_experience)\n",
    "print('---')\n",
    "show_extraction(s2, extract_verb_maybeadj_noun_experience)"
   ]
  },
  {
   "cell_type": "code",
   "execution_count": 37,
   "id": "5e66cace",
   "metadata": {},
   "outputs": [],
   "source": [
    "s = ['Web development experience. Angular framework experience will be an advantage. Proficient in C, C++ and/or Python. Proficient in SQL/Postgresql. Experience working with Linux environments and dockers will be an advantage. Been a part of projects following Agile software development process']"
   ]
  },
  {
   "cell_type": "code",
   "execution_count": 38,
   "id": "9969f427",
   "metadata": {},
   "outputs": [
    {
     "data": {
      "text/html": [
       "<span class=\"tex2jax_ignore\"><div class=\"entities\" style=\"line-height: 2.5; direction: ltr\">\n",
       "<mark class=\"entity\" style=\"background: lightgreen; padding: 0.45em 0.6em; margin: 0 0.25em; line-height: 1; border-radius: 0.35em;\">\n",
       "    Web development\n",
       "    <span style=\"font-size: 0.8em; font-weight: bold; line-height: 1; border-radius: 0.35em; vertical-align: middle; margin-left: 0.5rem\">EXPERIENCE</span>\n",
       "</mark>\n",
       " experience. </div></span>"
      ],
      "text/plain": [
       "<IPython.core.display.HTML object>"
      ]
     },
     "metadata": {},
     "output_type": "display_data"
    },
    {
     "data": {
      "text/html": [
       "<span class=\"tex2jax_ignore\"><div class=\"entities\" style=\"line-height: 2.5; direction: ltr\">\n",
       "<mark class=\"entity\" style=\"background: lightgreen; padding: 0.45em 0.6em; margin: 0 0.25em; line-height: 1; border-radius: 0.35em;\">\n",
       "    Angular framework\n",
       "    <span style=\"font-size: 0.8em; font-weight: bold; line-height: 1; border-radius: 0.35em; vertical-align: middle; margin-left: 0.5rem\">EXPERIENCE</span>\n",
       "</mark>\n",
       " experience will be an advantage. </div></span>"
      ],
      "text/plain": [
       "<IPython.core.display.HTML object>"
      ]
     },
     "metadata": {},
     "output_type": "display_data"
    },
    {
     "data": {
      "text/html": [
       "<span class=\"tex2jax_ignore\"><div class=\"entities\" style=\"line-height: 2.5; direction: ltr\">\n",
       "<mark class=\"entity\" style=\"background: pink; padding: 0.45em 0.6em; margin: 0 0.25em; line-height: 1; border-radius: 0.35em;\">\n",
       "    Experience\n",
       "    <span style=\"font-size: 0.8em; font-weight: bold; line-height: 1; border-radius: 0.35em; vertical-align: middle; margin-left: 0.5rem\">MISSING</span>\n",
       "</mark>\n",
       " working with Linux environments and dockers will be an advantage. </div></span>"
      ],
      "text/plain": [
       "<IPython.core.display.HTML object>"
      ]
     },
     "metadata": {},
     "output_type": "display_data"
    },
    {
     "name": "stdout",
     "output_type": "stream",
     "text": [
      "---\n"
     ]
    },
    {
     "data": {
      "text/html": [
       "<span class=\"tex2jax_ignore\"><div class=\"entities\" style=\"line-height: 2.5; direction: ltr\">Web development \n",
       "<mark class=\"entity\" style=\"background: pink; padding: 0.45em 0.6em; margin: 0 0.25em; line-height: 1; border-radius: 0.35em;\">\n",
       "    experience\n",
       "    <span style=\"font-size: 0.8em; font-weight: bold; line-height: 1; border-radius: 0.35em; vertical-align: middle; margin-left: 0.5rem\">MISSING</span>\n",
       "</mark>\n",
       ". </div></span>"
      ],
      "text/plain": [
       "<IPython.core.display.HTML object>"
      ]
     },
     "metadata": {},
     "output_type": "display_data"
    },
    {
     "data": {
      "text/html": [
       "<span class=\"tex2jax_ignore\"><div class=\"entities\" style=\"line-height: 2.5; direction: ltr\">Angular framework \n",
       "<mark class=\"entity\" style=\"background: pink; padding: 0.45em 0.6em; margin: 0 0.25em; line-height: 1; border-radius: 0.35em;\">\n",
       "    experience\n",
       "    <span style=\"font-size: 0.8em; font-weight: bold; line-height: 1; border-radius: 0.35em; vertical-align: middle; margin-left: 0.5rem\">MISSING</span>\n",
       "</mark>\n",
       " will be an advantage. </div></span>"
      ],
      "text/plain": [
       "<IPython.core.display.HTML object>"
      ]
     },
     "metadata": {},
     "output_type": "display_data"
    },
    {
     "data": {
      "text/html": [
       "<span class=\"tex2jax_ignore\"><div class=\"entities\" style=\"line-height: 2.5; direction: ltr\">Experience working with \n",
       "<mark class=\"entity\" style=\"background: lightgreen; padding: 0.45em 0.6em; margin: 0 0.25em; line-height: 1; border-radius: 0.35em;\">\n",
       "    Linux environments\n",
       "    <span style=\"font-size: 0.8em; font-weight: bold; line-height: 1; border-radius: 0.35em; vertical-align: middle; margin-left: 0.5rem\">EXPERIENCE</span>\n",
       "</mark>\n",
       " and \n",
       "<mark class=\"entity\" style=\"background: lightgreen; padding: 0.45em 0.6em; margin: 0 0.25em; line-height: 1; border-radius: 0.35em;\">\n",
       "    dockers\n",
       "    <span style=\"font-size: 0.8em; font-weight: bold; line-height: 1; border-radius: 0.35em; vertical-align: middle; margin-left: 0.5rem\">EXPERIENCE</span>\n",
       "</mark>\n",
       " will be an advantage. </div></span>"
      ],
      "text/plain": [
       "<IPython.core.display.HTML object>"
      ]
     },
     "metadata": {},
     "output_type": "display_data"
    }
   ],
   "source": [
    "show_extraction(s, extract_noun_phrase_experience)\n",
    "print('---')\n",
    "show_extraction(s, extract_verb_maybeadj_noun_experience)"
   ]
  },
  {
   "cell_type": "code",
   "execution_count": null,
   "id": "e41cc42f",
   "metadata": {},
   "outputs": [],
   "source": []
  }
 ],
 "metadata": {
  "kernelspec": {
   "display_name": "tf_gpu",
   "language": "python",
   "name": "tf_gpu"
  },
  "language_info": {
   "codemirror_mode": {
    "name": "ipython",
    "version": 3
   },
   "file_extension": ".py",
   "mimetype": "text/x-python",
   "name": "python",
   "nbconvert_exporter": "python",
   "pygments_lexer": "ipython3",
   "version": "3.10.0"
  }
 },
 "nbformat": 4,
 "nbformat_minor": 5
}
